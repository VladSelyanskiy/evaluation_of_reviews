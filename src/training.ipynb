{
  "cells": [
    {
      "cell_type": "code",
      "execution_count": 1,
      "metadata": {
        "id": "tLDbs8TIdL26"
      },
      "outputs": [],
      "source": [
        "# Импортируем все необходимые библиотеки и задаем сид для рандомизатора\n",
        "import pandas as pd\n",
        "import numpy as np\n",
        "import nltk\n",
        "import pickle\n",
        "\n",
        "from nltk.corpus import stopwords\n",
        "from nltk.tokenize import word_tokenize\n",
        "from sklearn.model_selection import train_test_split\n",
        "from sklearn.metrics import classification_report, confusion_matrix\n",
        "\n",
        "from nltk.classify.scikitlearn import SklearnClassifier\n",
        "from nltk.tokenize import RegexpTokenizer\n",
        "from sklearn.preprocessing import LabelEncoder\n",
        "\n",
        "from sklearn.naive_bayes import MultinomialNB\n",
        "from sklearn.linear_model import LogisticRegression\n",
        "\n",
        "np.random.seed(1)"
      ]
    },
    {
      "cell_type": "markdown",
      "metadata": {
        "id": "tMGfPRzddL27"
      },
      "source": [
        "Следующая ячейка предназначена для сбора данных.\n",
        "Рекомендуемые датасеты уже внесены в paths\n",
        "Можно добавлять новые, но не стоит/не рекомендуется использовать video_games.csv, english.csv и подобные"
      ]
    },
    {
      "cell_type": "code",
      "execution_count": 2,
      "metadata": {
        "id": "SLsiZn8LdL27",
        "outputId": "6890957c-6835-4ed9-8abf-075c8effd32c"
      },
      "outputs": [
        {
          "data": {
            "text/html": [
              "<div>\n",
              "<style scoped>\n",
              "    .dataframe tbody tr th:only-of-type {\n",
              "        vertical-align: middle;\n",
              "    }\n",
              "\n",
              "    .dataframe tbody tr th {\n",
              "        vertical-align: top;\n",
              "    }\n",
              "\n",
              "    .dataframe thead th {\n",
              "        text-align: right;\n",
              "    }\n",
              "</style>\n",
              "<table border=\"1\" class=\"dataframe\">\n",
              "  <thead>\n",
              "    <tr style=\"text-align: right;\">\n",
              "      <th></th>\n",
              "      <th>review</th>\n",
              "      <th>assessment</th>\n",
              "    </tr>\n",
              "  </thead>\n",
              "  <tbody>\n",
              "    <tr>\n",
              "      <th>0</th>\n",
              "      <td>Игра, в которой победить может даже злодей. От...</td>\n",
              "      <td>True</td>\n",
              "    </tr>\n",
              "    <tr>\n",
              "      <th>1</th>\n",
              "      <td>Обалденная игра для компании. Помогает разнооб...</td>\n",
              "      <td>True</td>\n",
              "    </tr>\n",
              "    <tr>\n",
              "      <th>2</th>\n",
              "      <td>Весёлая настольная игра для компании, которая ...</td>\n",
              "      <td>True</td>\n",
              "    </tr>\n",
              "    <tr>\n",
              "      <th>3</th>\n",
              "      <td>Общие впечатления Игра огонь даже для взрослог...</td>\n",
              "      <td>True</td>\n",
              "    </tr>\n",
              "    <tr>\n",
              "      <th>4</th>\n",
              "      <td>Случайно наткнулся на эту игрушку в детском ми...</td>\n",
              "      <td>True</td>\n",
              "    </tr>\n",
              "    <tr>\n",
              "      <th>...</th>\n",
              "      <td>...</td>\n",
              "      <td>...</td>\n",
              "    </tr>\n",
              "    <tr>\n",
              "      <th>1776</th>\n",
              "      <td>Мелкие игровые карточки.\\nНо мы решили их заме...</td>\n",
              "      <td>True</td>\n",
              "    </tr>\n",
              "    <tr>\n",
              "      <th>1777</th>\n",
              "      <td>Немного не понравилось, что фон домино яркий, ...</td>\n",
              "      <td>True</td>\n",
              "    </tr>\n",
              "    <tr>\n",
              "      <th>1778</th>\n",
              "      <td>Классная игра, играем в троем с ребенком 4 лет...</td>\n",
              "      <td>True</td>\n",
              "    </tr>\n",
              "    <tr>\n",
              "      <th>1779</th>\n",
              "      <td>Пластик качественный,приятные цвета,интересное...</td>\n",
              "      <td>True</td>\n",
              "    </tr>\n",
              "    <tr>\n",
              "      <th>1780</th>\n",
              "      <td>Очень понравился квест! Рекомендую,</td>\n",
              "      <td>True</td>\n",
              "    </tr>\n",
              "  </tbody>\n",
              "</table>\n",
              "<p>1781 rows × 2 columns</p>\n",
              "</div>"
            ],
            "text/plain": [
              "                                                 review  assessment\n",
              "0     Игра, в которой победить может даже злодей. От...        True\n",
              "1     Обалденная игра для компании. Помогает разнооб...        True\n",
              "2     Весёлая настольная игра для компании, которая ...        True\n",
              "3     Общие впечатления Игра огонь даже для взрослог...        True\n",
              "4     Случайно наткнулся на эту игрушку в детском ми...        True\n",
              "...                                                 ...         ...\n",
              "1776  Мелкие игровые карточки.\\nНо мы решили их заме...        True\n",
              "1777  Немного не понравилось, что фон домино яркий, ...        True\n",
              "1778  Классная игра, играем в троем с ребенком 4 лет...        True\n",
              "1779  Пластик качественный,приятные цвета,интересное...        True\n",
              "1780               Очень понравился квест! Рекомендую,         True\n",
              "\n",
              "[1781 rows x 2 columns]"
            ]
          },
          "execution_count": 2,
          "metadata": {},
          "output_type": "execute_result"
        }
      ],
      "source": [
        "# Считываем данные\n",
        "paths = [\n",
        "    r\"data\\handed.csv\",\n",
        "    r\"data\\generalBG.csv\",\n",
        "    r\"data\\logicBG.csv\",\n",
        "    r\"data\\educationalBG.csv\",\n",
        "]\n",
        "\n",
        "datasets = []\n",
        "\n",
        "for path in paths:\n",
        "    reviews = pd.read_csv(path, index_col=0)\n",
        "    datasets.append(reviews)\n",
        "\n",
        "# Объединение в один датасет\n",
        "data = pd.concat(datasets).reset_index(drop=True)\n",
        "data"
      ]
    },
    {
      "cell_type": "code",
      "execution_count": 3,
      "metadata": {
        "id": "6YsVP-b9dL28",
        "outputId": "3f129279-3443-4237-d6be-4e2e5435dbd5"
      },
      "outputs": [
        {
          "data": {
            "text/plain": [
              "assessment\n",
              "True     1567\n",
              "False     214\n",
              "Name: count, dtype: int64"
            ]
          },
          "execution_count": 3,
          "metadata": {},
          "output_type": "execute_result"
        }
      ],
      "source": [
        "# Количество позитивных (True) и отрицательных отзывов (False)\n",
        "data['assessment'].value_counts()"
      ]
    },
    {
      "cell_type": "code",
      "execution_count": 4,
      "metadata": {
        "id": "9KG_ShvzdL28",
        "outputId": "ce956322-f9a4-4554-ced3-2eedaecdd9e8"
      },
      "outputs": [
        {
          "data": {
            "text/plain": [
              "array([1, 1, 1, ..., 1, 1, 1], dtype=int64)"
            ]
          },
          "execution_count": 4,
          "metadata": {},
          "output_type": "execute_result"
        }
      ],
      "source": [
        "# Кодируем классы отзывов\n",
        "enc = LabelEncoder()\n",
        "label = enc.fit_transform(data[\"assessment\"])\n",
        "label"
      ]
    },
    {
      "cell_type": "code",
      "execution_count": 5,
      "metadata": {
        "id": "W6NhoIsZdL28"
      },
      "outputs": [
        {
          "name": "stderr",
          "output_type": "stream",
          "text": [
            "[nltk_data] Downloading package stopwords to\n",
            "[nltk_data]     C:\\Users\\vlads\\AppData\\Roaming\\nltk_data...\n",
            "[nltk_data]   Package stopwords is already up-to-date!\n"
          ]
        },
        {
          "data": {
            "text/plain": [
              "0       игра которой победить злодей отличное карточно...\n",
              "1       обалденная игра компании помогает разнообразит...\n",
              "2       весёлая настольная игра компании которая раскр...\n",
              "3       общие впечатления игра огонь взрослого питание...\n",
              "4       случайно наткнулся игрушку детском мире учитыв...\n",
              "                              ...                        \n",
              "1776    мелкие игровые карточки решили заметить картам...\n",
              "1777    немного понравилось фон домино яркий счет карт...\n",
              "1778    классная игра играем троем ребенком 4 лет прои...\n",
              "1779    пластик качественный приятные цвета интересное...\n",
              "1780                    очень понравился квест рекомендую\n",
              "Name: review, Length: 1781, dtype: object"
            ]
          },
          "execution_count": 5,
          "metadata": {},
          "output_type": "execute_result"
        }
      ],
      "source": [
        "# Предобработка текста\n",
        "\n",
        "processed = data[\"review\"].str.lower()\n",
        "processed\n",
        "\n",
        "\n",
        "nltk.download(\"stopwords\")\n",
        "stop_words = set(stopwords.words(\"russian\"))\n",
        "\n",
        "\n",
        "processed = processed.apply(\n",
        "    lambda x: \" \".join(term for term in x.split() if term not in stop_words)\n",
        ")\n",
        "\n",
        "ps = nltk.PorterStemmer()\n",
        "processed = processed.apply(lambda x: \" \".join(ps.stem(term) for term in x.split()))\n",
        "\n",
        "tokenizer = RegexpTokenizer(r\"\\w+\")\n",
        "processed = processed.apply(lambda x: \" \".join(tokenizer.tokenize(x)))\n",
        "processed"
      ]
    },
    {
      "cell_type": "code",
      "execution_count": 6,
      "metadata": {
        "id": "rP2Fz3_SdL28"
      },
      "outputs": [
        {
          "name": "stderr",
          "output_type": "stream",
          "text": [
            "[nltk_data] Downloading package punkt_tab to\n",
            "[nltk_data]     C:\\Users\\vlads\\AppData\\Roaming\\nltk_data...\n",
            "[nltk_data]   Package punkt_tab is already up-to-date!\n"
          ]
        },
        {
          "name": "stdout",
          "output_type": "stream",
          "text": [
            "Number of words: 7955\n",
            "Most common words: [('игра', 829), ('очень', 631), ('лет', 299), ('игры', 271), ('это', 237), ('играть', 221), ('5', 217), ('карточки', 186), ('3', 179), ('качество', 168), ('2', 166), ('хорошая', 166), ('интересная', 157), ('просто', 156), ('играем', 155)]\n"
          ]
        }
      ],
      "source": [
        "# Создаем словарь с наиболее часто встречаемыми словами\n",
        "\n",
        "nltk.download(\"punkt_tab\")\n",
        "all_words = []\n",
        "\n",
        "for text in processed:\n",
        "    words = word_tokenize(text)\n",
        "    for w in words:\n",
        "        all_words.append(w)\n",
        "\n",
        "all_words = nltk.FreqDist(all_words)\n",
        "\n",
        "# Print the result\n",
        "print(\"Number of words: {}\".format(len(all_words)))\n",
        "print(\"Most common words: {}\".format(all_words.most_common(15)))\n",
        "word_features = [x[0] for x in all_words.most_common(2000)]"
      ]
    },
    {
      "cell_type": "code",
      "execution_count": 7,
      "metadata": {
        "id": "Q6lXb4W-dL28"
      },
      "outputs": [],
      "source": [
        "# Функция для нахождения фич в тексте\n",
        "def find_features(text):\n",
        "    words = word_tokenize(text)\n",
        "    features = {}\n",
        "    for word in word_features:\n",
        "        features[word] = word in words\n",
        "\n",
        "    return features"
      ]
    },
    {
      "cell_type": "code",
      "execution_count": 8,
      "metadata": {
        "id": "9X1W7hdvdL29",
        "outputId": "8e73decd-6630-4836-8592-ff9365b6ea6c"
      },
      "outputs": [
        {
          "name": "stdout",
          "output_type": "stream",
          "text": [
            "1335\n",
            "446\n"
          ]
        }
      ],
      "source": [
        "# Получаем данные для тренировки (75%) и тестов (25%)\n",
        "reviews = list(zip(processed, label))\n",
        "\n",
        "np.random.shuffle(reviews)\n",
        "\n",
        "feature_set = [(find_features(text), label) for (text, label) in reviews]\n",
        "\n",
        "training, test = train_test_split(feature_set, test_size=0.25, random_state=1)\n",
        "\n",
        "print(len(training))\n",
        "print(len(test))"
      ]
    },
    {
      "cell_type": "code",
      "execution_count": 9,
      "metadata": {
        "id": "siO0D2w9dL29"
      },
      "outputs": [],
      "source": [
        "# Обучение байесовского классификатора\n",
        "clf = MultinomialNB()\n",
        "mulnb_model = SklearnClassifier(clf).train(training)"
      ]
    },
    {
      "cell_type": "code",
      "execution_count": 10,
      "metadata": {
        "id": "6ia--RjNdL29",
        "outputId": "3523d1c3-48e4-47e9-9137-9aed2018a67d"
      },
      "outputs": [
        {
          "name": "stdout",
          "output_type": "stream",
          "text": [
            "              precision    recall  f1-score   support\n",
            "\n",
            "           0       0.65      0.67      0.66        45\n",
            "           1       0.96      0.96      0.96       401\n",
            "\n",
            "    accuracy                           0.93       446\n",
            "   macro avg       0.81      0.81      0.81       446\n",
            "weighted avg       0.93      0.93      0.93       446\n",
            "\n"
          ]
        },
        {
          "data": {
            "text/html": [
              "<div>\n",
              "<style scoped>\n",
              "    .dataframe tbody tr th:only-of-type {\n",
              "        vertical-align: middle;\n",
              "    }\n",
              "\n",
              "    .dataframe tbody tr th {\n",
              "        vertical-align: top;\n",
              "    }\n",
              "\n",
              "    .dataframe thead tr th {\n",
              "        text-align: left;\n",
              "    }\n",
              "</style>\n",
              "<table border=\"1\" class=\"dataframe\">\n",
              "  <thead>\n",
              "    <tr>\n",
              "      <th></th>\n",
              "      <th></th>\n",
              "      <th colspan=\"2\" halign=\"left\">predicted</th>\n",
              "    </tr>\n",
              "    <tr>\n",
              "      <th></th>\n",
              "      <th></th>\n",
              "      <th>negative</th>\n",
              "      <th>positive</th>\n",
              "    </tr>\n",
              "  </thead>\n",
              "  <tbody>\n",
              "    <tr>\n",
              "      <th rowspan=\"2\" valign=\"top\">actual</th>\n",
              "      <th>negative</th>\n",
              "      <td>30</td>\n",
              "      <td>15</td>\n",
              "    </tr>\n",
              "    <tr>\n",
              "      <th>positive</th>\n",
              "      <td>16</td>\n",
              "      <td>385</td>\n",
              "    </tr>\n",
              "  </tbody>\n",
              "</table>\n",
              "</div>"
            ],
            "text/plain": [
              "                predicted         \n",
              "                 negative positive\n",
              "actual negative        30       15\n",
              "       positive        16      385"
            ]
          },
          "execution_count": 10,
          "metadata": {},
          "output_type": "execute_result"
        }
      ],
      "source": [
        "# Получаем метрики точности\n",
        "text_features, labels = zip(*test)\n",
        "prediction = mulnb_model.classify_many(text_features)\n",
        "\n",
        "print(classification_report(labels, prediction))\n",
        "\n",
        "\n",
        "pd.DataFrame(\n",
        "    confusion_matrix(labels, prediction),\n",
        "    index=[[\"actual\", \"actual\"], [\"negative\", \"positive\"]],\n",
        "    columns=[[\"predicted\", \"predicted\"], [\"negative\", \"positive\"]],\n",
        ")"
      ]
    },
    {
      "cell_type": "code",
      "execution_count": 11,
      "metadata": {
        "id": "Z8xFnrZ3dL29"
      },
      "outputs": [],
      "source": [
        "# Обучение модели логистической регрессии\n",
        "clf = LogisticRegression(max_iter=100)\n",
        "logreg_model = SklearnClassifier(clf).train(training)"
      ]
    },
    {
      "cell_type": "code",
      "execution_count": 12,
      "metadata": {
        "id": "qa1FBcUidL29",
        "outputId": "70c2261c-4629-4758-ab51-a0e3e6558713"
      },
      "outputs": [
        {
          "name": "stdout",
          "output_type": "stream",
          "text": [
            "              precision    recall  f1-score   support\n",
            "\n",
            "           0       0.78      0.62      0.69        45\n",
            "           1       0.96      0.98      0.97       401\n",
            "\n",
            "    accuracy                           0.94       446\n",
            "   macro avg       0.87      0.80      0.83       446\n",
            "weighted avg       0.94      0.94      0.94       446\n",
            "\n"
          ]
        },
        {
          "data": {
            "text/html": [
              "<div>\n",
              "<style scoped>\n",
              "    .dataframe tbody tr th:only-of-type {\n",
              "        vertical-align: middle;\n",
              "    }\n",
              "\n",
              "    .dataframe tbody tr th {\n",
              "        vertical-align: top;\n",
              "    }\n",
              "\n",
              "    .dataframe thead tr th {\n",
              "        text-align: left;\n",
              "    }\n",
              "</style>\n",
              "<table border=\"1\" class=\"dataframe\">\n",
              "  <thead>\n",
              "    <tr>\n",
              "      <th></th>\n",
              "      <th></th>\n",
              "      <th colspan=\"2\" halign=\"left\">predicted</th>\n",
              "    </tr>\n",
              "    <tr>\n",
              "      <th></th>\n",
              "      <th></th>\n",
              "      <th>negative</th>\n",
              "      <th>positive</th>\n",
              "    </tr>\n",
              "  </thead>\n",
              "  <tbody>\n",
              "    <tr>\n",
              "      <th rowspan=\"2\" valign=\"top\">actual</th>\n",
              "      <th>negative</th>\n",
              "      <td>28</td>\n",
              "      <td>17</td>\n",
              "    </tr>\n",
              "    <tr>\n",
              "      <th>positive</th>\n",
              "      <td>8</td>\n",
              "      <td>393</td>\n",
              "    </tr>\n",
              "  </tbody>\n",
              "</table>\n",
              "</div>"
            ],
            "text/plain": [
              "                predicted         \n",
              "                 negative positive\n",
              "actual negative        28       17\n",
              "       positive         8      393"
            ]
          },
          "execution_count": 12,
          "metadata": {},
          "output_type": "execute_result"
        }
      ],
      "source": [
        "# Получаем метрики точности для второй модели\n",
        "text_features, labels = zip(*test)\n",
        "prediction = logreg_model.classify_many(text_features)\n",
        "\n",
        "print(classification_report(labels, prediction))\n",
        "\n",
        "pd.DataFrame(\n",
        "    confusion_matrix(labels, prediction),\n",
        "    index=[[\"actual\", \"actual\"], [\"negative\", \"positive\"]],\n",
        "    columns=[[\"predicted\", \"predicted\"], [\"negative\", \"positive\"]],\n",
        ")"
      ]
    },
    {
      "cell_type": "code",
      "execution_count": null,
      "metadata": {
        "id": "qOnJnpR-dL29"
      },
      "outputs": [],
      "source": [
        "# Сохранение первой модели со словарем фич и функцие нахождения их в тексте\n",
        "path = r\"models\\naive_bayes_classifier.pickle\"\n",
        "\n",
        "with open(path, \"wb\") as classifier_file:\n",
        "    data_for_save = {\n",
        "        'model': mulnb_model,\n",
        "        'features': word_features,\n",
        "        'function': find_features,\n",
        "        }\n",
        "    pickle.dump(data_for_save, classifier_file)"
      ]
    },
    {
      "cell_type": "code",
      "execution_count": null,
      "metadata": {
        "id": "vVvYjNbrdL2-"
      },
      "outputs": [],
      "source": [
        "# Сохранение второй модели со словарем фич и функцие нахождения их в тексте\n",
        "path = r\"models\\logistic_regression_classifier.pickle\"\n",
        "\n",
        "with open(path, \"wb\") as classifier_file:\n",
        "    data_for_save = {\n",
        "        \"model\": logreg_model,\n",
        "        \"features\": word_features,\n",
        "        \"function\": find_features,\n",
        "    }\n",
        "    pickle.dump(data_for_save, classifier_file)"
      ]
    }
  ],
  "metadata": {
    "colab": {
      "provenance": []
    },
    "kernelspec": {
      "display_name": "Python 3",
      "language": "python",
      "name": "python3"
    },
    "language_info": {
      "codemirror_mode": {
        "name": "ipython",
        "version": 3
      },
      "file_extension": ".py",
      "mimetype": "text/x-python",
      "name": "python",
      "nbconvert_exporter": "python",
      "pygments_lexer": "ipython3",
      "version": "3.12.0"
    }
  },
  "nbformat": 4,
  "nbformat_minor": 0
}
