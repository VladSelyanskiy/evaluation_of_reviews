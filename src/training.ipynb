{
 "cells": [
  {
   "cell_type": "code",
   "execution_count": 1,
   "metadata": {},
   "outputs": [],
   "source": [
    "# Импортируем все необходимые библиотеки и задаем сид для рандомизатора\n",
    "import pandas as pd\n",
    "import numpy as np\n",
    "import nltk\n",
    "import pickle\n",
    "\n",
    "from nltk.corpus import stopwords\n",
    "from nltk.tokenize import word_tokenize\n",
    "from sklearn.model_selection import train_test_split\n",
    "from sklearn.metrics import classification_report, confusion_matrix\n",
    "\n",
    "from nltk.classify.scikitlearn import SklearnClassifier\n",
    "from nltk.tokenize import RegexpTokenizer\n",
    "from sklearn.preprocessing import LabelEncoder\n",
    "\n",
    "from sklearn.naive_bayes import MultinomialNB\n",
    "from sklearn.linear_model import LogisticRegression\n",
    "\n",
    "np.random.seed(1)"
   ]
  },
  {
   "cell_type": "code",
   "execution_count": 7,
   "metadata": {},
   "outputs": [
    {
     "data": {
      "text/html": [
       "<div>\n",
       "<style scoped>\n",
       "    .dataframe tbody tr th:only-of-type {\n",
       "        vertical-align: middle;\n",
       "    }\n",
       "\n",
       "    .dataframe tbody tr th {\n",
       "        vertical-align: top;\n",
       "    }\n",
       "\n",
       "    .dataframe thead th {\n",
       "        text-align: right;\n",
       "    }\n",
       "</style>\n",
       "<table border=\"1\" class=\"dataframe\">\n",
       "  <thead>\n",
       "    <tr style=\"text-align: right;\">\n",
       "      <th></th>\n",
       "      <th>review</th>\n",
       "      <th>assessment</th>\n",
       "    </tr>\n",
       "  </thead>\n",
       "  <tbody>\n",
       "    <tr>\n",
       "      <th>0</th>\n",
       "      <td>Игра, в которой победить может даже злодей. От...</td>\n",
       "      <td>True</td>\n",
       "    </tr>\n",
       "    <tr>\n",
       "      <th>1</th>\n",
       "      <td>Обалденная игра для компании. Помогает разнооб...</td>\n",
       "      <td>True</td>\n",
       "    </tr>\n",
       "    <tr>\n",
       "      <th>2</th>\n",
       "      <td>Весёлая настольная игра для компании, которая ...</td>\n",
       "      <td>True</td>\n",
       "    </tr>\n",
       "    <tr>\n",
       "      <th>3</th>\n",
       "      <td>Общие впечатления Игра огонь даже для взрослог...</td>\n",
       "      <td>True</td>\n",
       "    </tr>\n",
       "    <tr>\n",
       "      <th>4</th>\n",
       "      <td>Случайно наткнулся на эту игрушку в детском ми...</td>\n",
       "      <td>True</td>\n",
       "    </tr>\n",
       "    <tr>\n",
       "      <th>...</th>\n",
       "      <td>...</td>\n",
       "      <td>...</td>\n",
       "    </tr>\n",
       "    <tr>\n",
       "      <th>96</th>\n",
       "      <td>Ерунда полная! Половина больших бакуганов не т...</td>\n",
       "      <td>False</td>\n",
       "    </tr>\n",
       "    <tr>\n",
       "      <th>97</th>\n",
       "      <td>Ужасное качество фишек , древесина (загатовка ...</td>\n",
       "      <td>False</td>\n",
       "    </tr>\n",
       "    <tr>\n",
       "      <th>98</th>\n",
       "      <td>Инструкция к детской игре должна предполагать,...</td>\n",
       "      <td>False</td>\n",
       "    </tr>\n",
       "    <tr>\n",
       "      <th>99</th>\n",
       "      <td>Покупали шар головоломку, намного интереснее и...</td>\n",
       "      <td>False</td>\n",
       "    </tr>\n",
       "    <tr>\n",
       "      <th>100</th>\n",
       "      <td>У нас в 90-00 лучше были. Мало того, что я чут...</td>\n",
       "      <td>False</td>\n",
       "    </tr>\n",
       "  </tbody>\n",
       "</table>\n",
       "<p>101 rows × 2 columns</p>\n",
       "</div>"
      ],
      "text/plain": [
       "                                                review  assessment\n",
       "0    Игра, в которой победить может даже злодей. От...        True\n",
       "1    Обалденная игра для компании. Помогает разнооб...        True\n",
       "2    Весёлая настольная игра для компании, которая ...        True\n",
       "3    Общие впечатления Игра огонь даже для взрослог...        True\n",
       "4    Случайно наткнулся на эту игрушку в детском ми...        True\n",
       "..                                                 ...         ...\n",
       "96   Ерунда полная! Половина больших бакуганов не т...       False\n",
       "97   Ужасное качество фишек , древесина (загатовка ...       False\n",
       "98   Инструкция к детской игре должна предполагать,...       False\n",
       "99   Покупали шар головоломку, намного интереснее и...       False\n",
       "100  У нас в 90-00 лучше были. Мало того, что я чут...       False\n",
       "\n",
       "[101 rows x 2 columns]"
      ]
     },
     "execution_count": 7,
     "metadata": {},
     "output_type": "execute_result"
    }
   ],
   "source": [
    "# Считываем данные на которых будем обучать\n",
    "data = pd.read_csv(r\"data\\reviews.csv\", index_col=0)\n",
    "data"
   ]
  },
  {
   "cell_type": "markdown",
   "metadata": {},
   "source": [
    "Следующая ячейка предназначена для сбора дополнительных данных. \n",
    "Может повлиять на производительность и точность модели, так как данные не относятся напрямую к поставленной задаче (отзывы на видеоигры, а не настольные)"
   ]
  },
  {
   "cell_type": "code",
   "execution_count": null,
   "metadata": {},
   "outputs": [],
   "source": [
    "# Считываем дополнительные данные (необязательная ячейка)\n",
    "extra_reviews = pd.read_csv(r\"data\\extra_reviews.csv\", index_col=0)\n",
    "extra_reviews\n",
    "\n",
    "# Объединение с прошлым датасетом\n",
    "data = pd.concat([data, extra_reviews]).reset_index(drop=True)\n",
    "data"
   ]
  },
  {
   "cell_type": "code",
   "execution_count": 8,
   "metadata": {},
   "outputs": [
    {
     "data": {
      "text/plain": [
       "array([1, 1, 1, 1, 1, 1, 1, 1, 1, 1, 1, 1, 1, 1, 1, 1, 1, 1, 1, 1, 1, 1,\n",
       "       1, 1, 1, 0, 0, 0, 0, 0, 0, 0, 0, 0, 0, 0, 0, 0, 0, 0, 0, 0, 0, 0,\n",
       "       0, 0, 0, 0, 0, 0, 0, 0, 0, 0, 0, 1, 1, 1, 1, 1, 1, 1, 1, 1, 1, 1,\n",
       "       1, 1, 1, 1, 1, 1, 1, 1, 1, 1, 1, 1, 1, 1, 1, 0, 0, 0, 0, 0, 0, 0,\n",
       "       0, 0, 0, 0, 0, 0, 0, 0, 0, 0, 0, 0, 0], dtype=int64)"
      ]
     },
     "execution_count": 8,
     "metadata": {},
     "output_type": "execute_result"
    }
   ],
   "source": [
    "# Кодируем классы отзывов\n",
    "enc = LabelEncoder()\n",
    "label = enc.fit_transform(data[\"assessment\"])\n",
    "label"
   ]
  },
  {
   "cell_type": "code",
   "execution_count": 9,
   "metadata": {},
   "outputs": [
    {
     "name": "stderr",
     "output_type": "stream",
     "text": [
      "[nltk_data] Downloading package stopwords to\n",
      "[nltk_data]     C:\\Users\\vlads\\AppData\\Roaming\\nltk_data...\n",
      "[nltk_data]   Package stopwords is already up-to-date!\n"
     ]
    },
    {
     "data": {
      "text/plain": [
       "0      игра которой победить злодей отличное карточно...\n",
       "1      обалденная игра компании помогает разнообразит...\n",
       "2      весёлая настольная игра компании которая раскр...\n",
       "3      общие впечатления игра огонь взрослого питание...\n",
       "4      случайно наткнулся игрушку детском мире учитыв...\n",
       "                             ...                        \n",
       "96     ерунда полная половина больших бакуганов транс...\n",
       "97     ужасное качество фишек древесина загатовка так...\n",
       "98     инструкция детской игре должна предполагать пе...\n",
       "99     покупали шар головоломку намного интереснее ди...\n",
       "100    90 00 были мало того сломала пока пыталась пон...\n",
       "Name: review, Length: 101, dtype: object"
      ]
     },
     "execution_count": 9,
     "metadata": {},
     "output_type": "execute_result"
    }
   ],
   "source": [
    "# Предобработка текста\n",
    "\n",
    "processed = data[\"review\"].str.lower()\n",
    "processed\n",
    "\n",
    "\n",
    "nltk.download(\"stopwords\")\n",
    "stop_words = set(stopwords.words(\"russian\"))\n",
    "\n",
    "\n",
    "processed = processed.apply(\n",
    "    lambda x: \" \".join(term for term in x.split() if term not in stop_words)\n",
    ")\n",
    "\n",
    "ps = nltk.PorterStemmer()\n",
    "processed = processed.apply(lambda x: \" \".join(ps.stem(term) for term in x.split()))\n",
    "\n",
    "tokenizer = RegexpTokenizer(r\"\\w+\")\n",
    "processed = processed.apply(lambda x: \" \".join(tokenizer.tokenize(x)))\n",
    "processed"
   ]
  },
  {
   "cell_type": "code",
   "execution_count": 10,
   "metadata": {},
   "outputs": [
    {
     "name": "stdout",
     "output_type": "stream",
     "text": [
      "Number of words: 2316\n",
      "Most common words: [('игра', 78), ('очень', 41), ('игры', 37), ('это', 32), ('достоинства', 21), ('играть', 21), ('недостатки', 20), ('правила', 18), ('игру', 17), ('просто', 16), ('интересная', 14), ('вообще', 14), ('качество', 13), ('2', 12), ('стоит', 12)]\n"
     ]
    },
    {
     "name": "stderr",
     "output_type": "stream",
     "text": [
      "[nltk_data] Downloading package punkt_tab to\n",
      "[nltk_data]     C:\\Users\\vlads\\AppData\\Roaming\\nltk_data...\n",
      "[nltk_data]   Package punkt_tab is already up-to-date!\n"
     ]
    }
   ],
   "source": [
    "# Создаем словарь с наиболее часто встречаемыми словами\n",
    "\n",
    "nltk.download(\"punkt_tab\")\n",
    "all_words = []\n",
    "\n",
    "for text in processed:\n",
    "    words = word_tokenize(text)\n",
    "    for w in words:\n",
    "        all_words.append(w)\n",
    "\n",
    "all_words = nltk.FreqDist(all_words)\n",
    "\n",
    "# Print the result\n",
    "print(\"Number of words: {}\".format(len(all_words)))\n",
    "print(\"Most common words: {}\".format(all_words.most_common(15)))\n",
    "word_features = [x[0] for x in all_words.most_common(2000)]"
   ]
  },
  {
   "cell_type": "code",
   "execution_count": 11,
   "metadata": {},
   "outputs": [],
   "source": [
    "# Функция для нахождения фич в тексте\n",
    "def find_features(text):\n",
    "    words = word_tokenize(text)\n",
    "    features = {}\n",
    "    for word in word_features:\n",
    "        features[word] = word in words\n",
    "\n",
    "    return features"
   ]
  },
  {
   "cell_type": "code",
   "execution_count": 12,
   "metadata": {},
   "outputs": [
    {
     "name": "stdout",
     "output_type": "stream",
     "text": [
      "75\n",
      "26\n"
     ]
    }
   ],
   "source": [
    "# Получаем данные для тренировки (75%) и тестов (25%)\n",
    "reviews = list(zip(processed, label))\n",
    "\n",
    "np.random.shuffle(reviews)\n",
    "\n",
    "feature_set = [(find_features(text), label) for (text, label) in reviews]\n",
    "\n",
    "training, test = train_test_split(feature_set, test_size=0.25, random_state=1)\n",
    "\n",
    "print(len(training))\n",
    "print(len(test))"
   ]
  },
  {
   "cell_type": "code",
   "execution_count": 13,
   "metadata": {},
   "outputs": [],
   "source": [
    "# Обучение байесовского классификатора\n",
    "clf = MultinomialNB()\n",
    "mulnb_model = SklearnClassifier(clf).train(training)"
   ]
  },
  {
   "cell_type": "code",
   "execution_count": 14,
   "metadata": {},
   "outputs": [
    {
     "name": "stdout",
     "output_type": "stream",
     "text": [
      "              precision    recall  f1-score   support\n",
      "\n",
      "           0       0.53      0.90      0.67        10\n",
      "           1       0.89      0.50      0.64        16\n",
      "\n",
      "    accuracy                           0.65        26\n",
      "   macro avg       0.71      0.70      0.65        26\n",
      "weighted avg       0.75      0.65      0.65        26\n",
      "\n"
     ]
    },
    {
     "data": {
      "text/html": [
       "<div>\n",
       "<style scoped>\n",
       "    .dataframe tbody tr th:only-of-type {\n",
       "        vertical-align: middle;\n",
       "    }\n",
       "\n",
       "    .dataframe tbody tr th {\n",
       "        vertical-align: top;\n",
       "    }\n",
       "\n",
       "    .dataframe thead tr th {\n",
       "        text-align: left;\n",
       "    }\n",
       "</style>\n",
       "<table border=\"1\" class=\"dataframe\">\n",
       "  <thead>\n",
       "    <tr>\n",
       "      <th></th>\n",
       "      <th></th>\n",
       "      <th colspan=\"2\" halign=\"left\">predicted</th>\n",
       "    </tr>\n",
       "    <tr>\n",
       "      <th></th>\n",
       "      <th></th>\n",
       "      <th>positive</th>\n",
       "      <th>negative</th>\n",
       "    </tr>\n",
       "  </thead>\n",
       "  <tbody>\n",
       "    <tr>\n",
       "      <th rowspan=\"2\" valign=\"top\">actual</th>\n",
       "      <th>positive</th>\n",
       "      <td>9</td>\n",
       "      <td>1</td>\n",
       "    </tr>\n",
       "    <tr>\n",
       "      <th>negative</th>\n",
       "      <td>8</td>\n",
       "      <td>8</td>\n",
       "    </tr>\n",
       "  </tbody>\n",
       "</table>\n",
       "</div>"
      ],
      "text/plain": [
       "                predicted         \n",
       "                 positive negative\n",
       "actual positive         9        1\n",
       "       negative         8        8"
      ]
     },
     "execution_count": 14,
     "metadata": {},
     "output_type": "execute_result"
    }
   ],
   "source": [
    "# Получаем метрики точности\n",
    "text_features, labels = zip(*test)\n",
    "prediction = mulnb_model.classify_many(text_features)\n",
    "\n",
    "print(classification_report(labels, prediction))\n",
    "\n",
    "\n",
    "pd.DataFrame(\n",
    "    confusion_matrix(labels, prediction),\n",
    "    index=[[\"actual\", \"actual\"], [\"positive\", \"negative\"]],\n",
    "    columns=[[\"predicted\", \"predicted\"], [\"positive\", \"negative\"]],\n",
    ")"
   ]
  },
  {
   "cell_type": "code",
   "execution_count": 15,
   "metadata": {},
   "outputs": [],
   "source": [
    "# Обучение модели логистической регрессии\n",
    "clf = LogisticRegression(max_iter=100)\n",
    "logreg_model = SklearnClassifier(clf).train(training)"
   ]
  },
  {
   "cell_type": "code",
   "execution_count": 16,
   "metadata": {},
   "outputs": [
    {
     "name": "stdout",
     "output_type": "stream",
     "text": [
      "              precision    recall  f1-score   support\n",
      "\n",
      "           0       0.50      0.70      0.58        10\n",
      "           1       0.75      0.56      0.64        16\n",
      "\n",
      "    accuracy                           0.62        26\n",
      "   macro avg       0.62      0.63      0.61        26\n",
      "weighted avg       0.65      0.62      0.62        26\n",
      "\n"
     ]
    },
    {
     "data": {
      "text/html": [
       "<div>\n",
       "<style scoped>\n",
       "    .dataframe tbody tr th:only-of-type {\n",
       "        vertical-align: middle;\n",
       "    }\n",
       "\n",
       "    .dataframe tbody tr th {\n",
       "        vertical-align: top;\n",
       "    }\n",
       "\n",
       "    .dataframe thead tr th {\n",
       "        text-align: left;\n",
       "    }\n",
       "</style>\n",
       "<table border=\"1\" class=\"dataframe\">\n",
       "  <thead>\n",
       "    <tr>\n",
       "      <th></th>\n",
       "      <th></th>\n",
       "      <th colspan=\"2\" halign=\"left\">predicted</th>\n",
       "    </tr>\n",
       "    <tr>\n",
       "      <th></th>\n",
       "      <th></th>\n",
       "      <th>positive</th>\n",
       "      <th>negative</th>\n",
       "    </tr>\n",
       "  </thead>\n",
       "  <tbody>\n",
       "    <tr>\n",
       "      <th rowspan=\"2\" valign=\"top\">actual</th>\n",
       "      <th>positive</th>\n",
       "      <td>7</td>\n",
       "      <td>3</td>\n",
       "    </tr>\n",
       "    <tr>\n",
       "      <th>negative</th>\n",
       "      <td>7</td>\n",
       "      <td>9</td>\n",
       "    </tr>\n",
       "  </tbody>\n",
       "</table>\n",
       "</div>"
      ],
      "text/plain": [
       "                predicted         \n",
       "                 positive negative\n",
       "actual positive         7        3\n",
       "       negative         7        9"
      ]
     },
     "execution_count": 16,
     "metadata": {},
     "output_type": "execute_result"
    }
   ],
   "source": [
    "# Получаем метрики точности для второй модели\n",
    "text_features, labels = zip(*test)\n",
    "prediction = logreg_model.classify_many(text_features)\n",
    "\n",
    "print(classification_report(labels, prediction))\n",
    "\n",
    "pd.DataFrame(\n",
    "    confusion_matrix(labels, prediction),\n",
    "    index=[[\"actual\", \"actual\"], [\"positive\", \"negative\"]],\n",
    "    columns=[[\"predicted\", \"predicted\"], [\"positive\", \"negative\"]],\n",
    ")"
   ]
  },
  {
   "cell_type": "code",
   "execution_count": 17,
   "metadata": {},
   "outputs": [],
   "source": [
    "# Сохранение первой модели со словарем фич и функцие нахождения их в тексте\n",
    "path = r\"models\\naive_bayes_classifier.pickle\"\n",
    "\n",
    "with open(path, \"wb\") as classifier_file:\n",
    "    data_for_save = {\n",
    "        'model': mulnb_model,\n",
    "        'features': word_features,\n",
    "        'function': find_features,\n",
    "        }\n",
    "    pickle.dump(data_for_save, classifier_file)"
   ]
  },
  {
   "cell_type": "code",
   "execution_count": 17,
   "metadata": {},
   "outputs": [
    {
     "name": "stdout",
     "output_type": "stream",
     "text": [
      "{'игра': False, 'очень': False, 'игры': False, 'это': False, 'достоинства': False, 'играть': False, 'недостатки': False, 'правила': False, 'игру': False, 'просто': False, 'интересная': False, 'вообще': False, 'качество': False, '2': False, 'стоит': False, 'то': False, 'рекомендую': False, '3': False, 'интересно': False, 'поле': False, '5': False, 'денег': False, 'всем': False, 'ещё': False, 'нужно': False, 'лет': False, 'яркие': False, 'время': False, 'играем': False, 'играли': False, 'игре': False, 'сама': False, 'коробке': False, 'карты': False, 'быстро': False, 'компании': False, 'карточки': False, 'её': False, '6': False, 'взрослым': False, 'пока': False, 'процесс': False, 'набор': False, 'всё': False, 'такие': False, 'игр': False, 'простые': False, 'большой': False, 'раза': False, 'понравилась': False, 'игрушка': False, 'детям': False, 'развивает': False, 'минут': False, '4': False, 'человек': False, 'удовольствием': False, 'коробка': False, 'цена': False, 'игроков': False, 'инструкция': False, 'вариант': False, 'ребёнку': False, 'купили': False, 'покупали': False, 'деньги': False, 'весело': False, 'игровое': False, 'свои': False, 'провести': False, 'сколько': False, 'вопросов': False, 'мышление': False, 'долго': False, 'дети': False, 'достаточно': False, 'партии': False, 'отлично': False, 'хорошая': False, 'хочется': False, 'отличный': False, 'фигурки': False, 'количество': False, 'подарок': False, 'такого': False, 'так': False, 'картинки': False, 'нравится': False, 'разочарование': False, 'из': False, 'за': False, 'карт': False, 'цене': False, 'пластик': False, 'задания': False, 'ребенка': False, 'которой': False, 'вечер': False, 'купить': False, 'что': False, 'упаковка': False, 'одна': False, '8': False, 'случайно': False, 'комплекте': False, 'хватает': False, 'хотя': False, 'можно': False, 'детей': False, 'каждый': False, 'все': False, 'увлекательно': False, 'быстрая': False, 'несколько': False, 'игрушки': False, 'одну': False, 'детьми': False, 'приходится': False, 'ребенку': False, 'отличная': False, 'возможность': False, 'восторге': False, 'играют': False, 'год': False, 'другие': False, 'упакована': False, 'классная': False, 'также': False, 'самое': False, 'игровой': False, 'того': False, 'правилами': False, 'день': False, '10': False, 'качества': False, 'наш': False, 'игроки': False, 'поля': False, 'видно': False, 'этих': False, 'жаль': False, 'инструкции': False, 'правил': False, 'сразу': False, 'маленькие': False, 'пластиковые': False, 'о': False, 'отличное': False, 'привет': False, 'сегодня': False, 'станет': False, 'думаю': False, 'gaga': False, 'названием': False, 'красиво': False, 'оформление': False, 'расскажу': False, 'я': False, 'две': False, 'серии': False, 'разных': False, 'в': False, 'идеально': False, 'игрой': False, 'поэтому': False, 'неё': False, 'качественно': False, 'батареек': False, 'внутри': False, 'коробки': False, 'несмотря': False, 'процессе': False, 'свой': False, 'доставка': False, 'вариантов': False, 'получилось': False, 'раз': False, 'удобно': False, 'семьи': False, 'как': False, '7': False, 'здорово': False, 'плюс': False, '20': False, 'новый': False, 'главное': False, 'которые': False, 'точно': False, 'но': False, 'сложно': False, 'конечно': False, 'всей': False, 'х': False, 'играет': False, 'красивая': False, 'режима': False, 'вдвоем': False, 'женой': False, 'целом': False, 'взять': False, 'который': False, 'пришлось': False, 'понятные': False, 'героев': False, 'компоненты': False, 'легко': False, 'первые': False, 'собой': False, 'качественная': False, 'жетоны': False, 'удобнее': False, 'второй': False, 'постоянно': False, 'первых': False, 'цвета': False, 'упаковке': False, 'полностью': False, 'друг': False, 'друга': False, 'абсолютно': False, 'есть': False, 'задом': False, 'сами': False, 'плохо': False, 'ужас': False, 'цвет': False, 'счет': False, 'найти': False, 'интернете': False, 'дешевле': False, 'плохая': False, 'отвратительное': False, 'самого': False, 'стола': False, 'короче': False, 'дороже': False, 'купил': False, 'хуже': False, '15': False, 'одно': False, 'начала': False, 'такое': False, 'фото': False, 'завышена': False, 'т': False, 'общем': False, 'пару': False, 'вроде': False, 'сделать': False, 'механики': False, 'руб': False, 'мало': False, 'фишки': False, 'своих': False, 'понравились': False, 'взрослому': False, 'доски': False, 'хотела': False, 'каждой': False, 'колоде': False, 'посиделок': False, 'друзьями': False, '30': False, 'радует': False, 'понятно': False, 'качественный': False, 'товар': False, 'волк': False, 'особо': False, 'дерево': False, 'производитель': False, 'итоге': False, 'ветер': False, 'шар': False, 'речь': False, 'город': False, 'простой': False, 'довольно': False, 'и': False, 'персонажей': False, 'разнообразить': False, 'games': False, 'отзывы': False, 'вот': False, 'отличаются': False, 'одного': False, 'размер': False, 'компания': False, 'сыграть': False, 'настольная': False, 'ваших': False, 'друзьям': False, 'подробнее': False, 'ничего': False, 'выполнена': False, 'впечатления': False, 'огонь': False, 'вместо': False, '12v': False, 'вентилятор': False, '12': False, 'держится': False, 'пластике': False, 'заменить': False, 'хода': False, 'шайбы': False, 'детском': False, 'мире': False, 'учитывая': False, 'цену': False, 'труда': False, 'ручки': False, 'материал': False, 'разной': False, 'немного': False, 'столу': False, 'компактная': False, 'доставать': False, 'мяч': False, 'времени': False, 'эх': False, 'сейчас': False, 'взрослых': False, 'везде': False, 'ходом': False, 'отзывов': False, 'суть': False, 'том': False, 'покупала': False, 'наборы': False, 'буду': False, 'рублей': False, 'месяцев': False, 'вместе': False, 'уточки': False, 'самый': False, 'музыка': False, 'дальше': False, 'туда': False, 'ответы': False, 'вопросы': False, 'разные': False, 'например': False, '9': False, 'цифр': False, 'по': False, 'другому': False, 'сложности': False, 'тоже': False, 'ребенком': False, 'длится': False, 'взрослыми': False, 'нам': False, 'понравилось': False, 'иллюстрации': False, 'человека': False, 'воображение': False, 'дочка': False, 'исполнения': False, 'дочки': False, 'любит': False, 'скидкой': False, 'стало': False, 'сайте': False, 'первого': False, 'таком': False, 'родителями': False, 'конца': False, 'увлекательная': False, 'качестве': False, 'подарка': False, 'купила': False, 'режимов': False, 'дорогу': False, 'недолгие': False, 'понятная': False, 'одной': False, 'двоих': False, 'механика': False, 'красивые': False, 'приятные': False, 'интересные': False, 'невидимка': False, 'неплох': False, 'эстетично': False, 'собирать': False, 'качественные': False, 'шикарные': False, 'особенно': False, 'семье': False, 'шикарный': False, 'игрокам': False, 'место': False, 'стратегии': False, 'подумать': False, 'сказать': False, 'знакомства': False, 'эта': False, 'потрясающая': False, 'настолок': False, 'превращается': False, 'заставляет': False, 'стратегию': False, 'какие': False, 'азартная': False, 'разбираться': False, 'правилах': False, 'мешочек': False, 'думать': False, 'поиграть': False, 'компонентов': False, 'хороший': False, 'брать': False, 'динамичная': False, 'вариативность': False, 'изменить': False, 'бонусами': False, 'джоли': False, 'во': False, 'шарниры': False, 'палки': False, 'точнее': False, 'руки': False, 'мешают': False, 'настолько': False, 'вратарь': False, 'причем': False, 'ворот': False, 'края': False, 'бьют': False, 'выглядит': False, 'шайба': False, 'тем': False, 'лучше': False, 'табло': False, 'глаз': False, 'цифры': False, 'самой': False, 'ворота': False, 'выпадают': False, 'имеют': False, 'участки': False, 'которых': False, 'та': False, 'магазин': False, 'специально': False, 'тема': False, 'ужасное': False, 'которыми': False, 'мимо': False, 'дсп': False, 'влияет': False, 'сукно': False, 'самом': False, 'хотелось': False, 'клей': False, 'равно': False, 'никакого': False, 'подойдёт': False, 'неинтересная': False, 'сделаны': False, 'сыпятся': False, 'совпадают': False, 'р': False, 'полная': False, 'обратно': False, 'шляпа': False, 'вышла': False, 'понять': False, 'инструкцию': False, 'таки': False, 'разобрались': False, 'сильно': False, 'попробовать': False, 'д': False, 'задумка': False, 'норм': False, 'половины': False, 'меньше': False, 'другая': False, 'половина': False, 'пришла': False, 'часа': False, 'вечеров': False, 'нет': False, 'указано': False, 'непонятно': False, 'делать': False, 'скучно': False, 'действия': False, 'самая': False, 'сложновато': False, 'пришло': False, 'копия': False, 'такая': False, 'учётом': False, 'карточек': False, 'дошёл': False, 'идея': False, 'снова': False, 'небольшой': False, 'которую': False, 'сценария': False, 'персонажи': False, 'одни': False, 'заходит': False, 'компаниях': False, 'дополнения': False, 'зря': False, 'топ': False, 'правда': False, 'делает': False, 'качеству': False, 'оказалось': False, 'заказала': False, 'возраст': False, 'кубика': False, 'придает': False, 'производителю': False, 'плиточки': False, 'лист': False, 'дать': False, 'те': False, 'самые': False, 'ощупь': False, 'семейных': False, 'считай': False, 'очков': False, 'спасибо': False, 'подробно': False, 'составляет': False, 'плотного': False, 'картона': False, 'начали': False, 'года': False, 'присутствуют': False, 'вовремя': False, 'приятно': False, 'держать': False, 'руках': False, 'плотный': False, 'вполне': False, 'уровней': False, 'строить': False, 'вышло': False, 'фигурками': False, 'без': False, 'силикона': False, 'красная': False, 'шапочка': False, 'простая': False, 'надолго': False, 'критично': False, 'нюансы': False, 'паузой': False, 'детской': False, 'выпадает': False, 'рассыпаться': False, 'деревянные': False, 'разочарована': False, 'футляр': False, 'история': False, 'чем': False, 'буквы': False, 'фишек': False, 'не': False, 'должна': False, 'крутится': False, 'реагирует': False, 'еле': False, 'производителя': False, 'победить': False, 'злодей': False, 'карточное': False, 'развлечение': False, 'фанатею': False, 'различных': False, 'кариочных': False, 'героем': False, 'моего': False, 'отзыва': False, 'слышали': False, 'многие': False, 'пойдёт': False, 'мафии': False, 'game': False, 'мафия': False, 'засыпает': False, 'находится': False, 'оформленнгой': False, 'картонной': False, 'коробочке': False, 'дизайн': False, 'минималистичный': False, 'эстетичный': False, 'красно': False, 'чёрное': False, 'смотрится': False, 'круто': False, 'лицевой': False, 'стороне': False, 'расположено': False, 'название': False, 'обалденная': False, 'помогает': False, 'своём': False, 'впечатлении': False, 'бренда': False, 'могли': False, 'читать': False, 'моём': False, 'профиле': False, 'платья': False, 'фасона': False, 'цветов': False, 'каждом': False, 'особенное': False, 'другом': False, 'яркое': False, 'новые': False, 'ситуации': False, 'удобная': False, 'весёлая': False, 'которая': False, 'раскроет': False, 'правду': False, 'друзьях': False, 'отзыве': False, 'поделюсь': False, 'вами': False, 'классной': False, 'настольной': False, 'компаний': False, 'моим': False, 'называется': False, 'личного': False, 'заказать': False, 'официальном': False, 'общие': False, 'взрослого': False, 'питание': False, 'переделал': False, 'бр': False, 'dc': False, '200ma': False, 'замере': False, 'мультиметром': False, 'реальный': False, 'ток': False, '300ma': False, '120ma': False, 'светодиодов': False, 'разъем': False, 'ответный': False, 'закреплён': False, 'стяжках': False, 'торце': False, 'панели': False, 'крепко': False, 'отверстие': False, 'просверлено': False, 'подходящим': False, 'сверло': False, 'работает': False, 'проверено': False, 'бп': False, '12в': False, '1а': False, 'запасом': False, 'току': False, 'достаточное': False, 'желании': False, 'поднять': False, 'напряжение': False, 'нем': False, 'разумных': False, 'пределах': False, 'достижения': False, 'плавного': False, '8батареек': False, 'наткнулся': False, 'игрушку': False, 'вес': False, 'решение': False, 'принято': False, 'мгновенно': False, 'идёт': False, 'разобранном': False, 'виде': False, 'сборка': False, 'составила': False, 'ключ': False, 'отвёртка': False, 'неудобные': False, 'прикручивая': False, 'воткнуть': False, 'палец': False, 'корпуса': False, 'мдф': False, 'толщины': False, 'направляющие': False, 'тонкостенных': False, 'металлических': False, 'трубок': False, 'азарте': False, 'гнутся': False, 'откровенно': False, 'фиксации': False, 'столе': False, 'резиновых': False, 'ножек': False, 'елозит': False, 'маленьком': False, 'столике': False, 'норовит': False, 'свалиться': False, 'недорогая': False, 'мяча': False, 'выполняет': False, 'функции': False, 'катается': False, 'неудобно': False, 'гола': False, 'доброго': False, 'суток': False, 'времена': False, 'кругом': False, 'интернет': False, 'смотришь': False, 'телефонами': False, 'пойдём': False, 'говорят': False, 'погуляем': False, 'сядут': False, 'лавочки': False, 'уткнуться': False, 'экран': False, 'гуляют': False, 'типа': False, 'ходим': False, 'трц': False, 'парки': False, 'сидят': False, 'естественно': False, 'они': False, 'всемирной': False, 'паутине': False, 'живое': False, 'общение': False, 'деградация': False, 'полным': False, 'замечено': False, 'здравствуйте': False, 'уважаемые': False, 'читатели': False, 'моих': False, 'обзоре': False, 'карточная': False, 'вымирание': False, 'издательства': False, 'заключается': False, 'спасти': False, 'вымирания': False, 'лучшее': False, 'дм': False, 'всякое': False, 'интерактивные': False, '3тыс': False, 'пульте': False, 'управления': False, 'плей': False, 'до': False, 'перечислять': False, 'наших': False, 'игрушек': False, 'сравнится': False, '350': False, 'папе': False, '4года': False, 'удочки': False, 'позволяет': False, 'удочку': False, 'поймать': False, 'уточек': False, 'ловить': False, 'отключается': False, 'плавают': False, 'создатели': False, 'вы': False, 'гении': False, 'младший': False, 'член': False, 'нашей': False, 'использует': False, 'эдакий': False, 'напольный': False, 'мобиль': False, 'привлекает': False, 'раздразжает': False, 'прикалываемся': False, 'кладём': False, 'монетки': False, 'посторонние': False, 'двигаются': False, 'устраивали': False, 'балл': False, 'воде': False, 'расставляли': False, 'кукл': False, 'привязанной': False, 'ноге': False, 'проаолоке': False, 'танцевали': False, 'спасибище': False, 'гигантское': False, 'разработчики': False, 'первоклассником': False, 'знает': False, 'работать': False, 'темы': False, 'отнять': False, 'белки': False, 'летяги': False, 'крылья': False, 'изображено': False, 'гербе': False, 'россии': False, 'называются': False, 'морские': False, 'разбойники': False, 'существует': False, 'температуре': False, 'закипает': False, 'вода': False, 'назвать': False, '40': False, 'разделены': False, 'уровням': False, 'цветом': False, 'младшими': False, 'убрав': False, 'сложные': False, 'самопроверки': False, 'поддаваться': False, 'образное': False, 'сближает': False, 'партия': False, 'ушло': False, 'дарили': False, 'дочери': False, 'рекомендовала': False, 'пытается': False, 'описать': False, 'нарисовано': False, 'карточке': False, 'предложить': False, 'ассоциацию': False, 'фантазийные': False, 'необычные': False, 'показывает': False, 'насколько': False, 'развито': False, 'просит': False, 'рекомендуем': False, 'фантастические': False, 'втроём': False, 'сначала': False, 'настольных': False, 'вся': False, 'детвора': False, 'приходит': False, 'гости': False, 'набрала': False, 'подарков': False, 'доченьки': False, 'увидела': False, 'хорошей': False, 'любопытно': False, 'посмотрела': False, 'обзор': False, 'игротека': False, 'рассказывается': False, 'интересны': False, 'оригинальны': False, 'разобралась': False, 'обзором': False, 'знали': False, 'взрослые': False, 'менее': False, 'заинтересованы': False, 'первое': False, 'компанией': False, 'подмоге': False, 'усвоят': False, 'помощь': False, 'нужна': False, 'хотим': False, 'взрослую': False, 'клюедо': False, 'подобные': False, 'большим': False, 'следит': False, 'командная': False, 'победителя': False, 'выигрывают': False, 'поймают': False, 'лиса': False, 'происходит': False, 'всегда': False, 'остаются': False, 'положительные': False, 'плотная': False, 'преподносить': False, 'качественном': False, 'исполнении': False, 'сына': False, 'полезнее': False, 'смартфонов': False, 'играю': False, 'вспомнила': False, 'молодость': False, 'оправдывает': False, 'дарит': False, 'больше': False, 'целых': False, 'довольны': False, 'освоении': False, 'проста': False, 'разложить': False, 'угодно': False, 'динамичные': False, 'при': False, 'помялось': False, 'момент': False, 'смотреть': False, 'ютубе': False, 'компанию': False, 'пробовали': False, 'печать': False, 'мнутся': False, 'памятки': False, 'ролей': False, 'красочные': False, 'включить': False, 'доп': False, 'приобретение': False, '1000': False, 'маленькая': False, 'гигантская': False, 'полупустая': False, 'могу': False, 'нарадоваться': False, 'уютный': False, 'спокойный': False, 'настолкой': False, 'невероятная': False, 'рисовка': False, 'уютные': False, 'полном': False, 'расслаблении': False, 'проходит': False, 'стресса': False, 'дизайну': False, 'структуре': False, 'общепризнанный': False, 's': False, 'tier': False, 'шерлок': False, 'дракула': False, 'классным': False, 'геймплеем': False, 'хайд': False, 'отстаёт': False, 'умом': False, 'упаковано': False, 'содержимое': False, 'отдельное': False, 'удовольствие': False, 'моей': False, 'понравился': False, 'органайзер': False, 'хранится': False, 'аккуратно': False, 'важное': False, 'интересен': False, 'новичкам': False, 'опытным': False, 'играется': False, 'персонажа': False, 'разнообразные': False, 'достаточны': False, 'лучших': False, 'дуэльных': False, 'вечно': False, 'расположения': False, 'бесчисленное': False, 'познаются': False, 'опытных': False, 'игрока': False, 'настоящую': False, 'битву': False, 'жизнь': False, 'смерть': False, 'захватывает': False, 'продумывать': False, 'боя': False, 'матчи': False, 'знаешь': False, 'способностя': False, 'прошли': False, 'хаотично': False, 'рязряда': False, 'иди': False, 'бей': False, 'их': False, 'однако': False, 'после': False, 'зная': False, 'кого': False, 'способности': False, 'началось': False, 'простраивание': False, 'буквально': False, 'волн': False, 'пикник': False, 'дачу': False, 'тд': False, 'разобраться': False, 'минуты': False, 'сходу': False, 'увлекает': False, 'играющих': False, 'классный': False, 'желания': False, 'достал': False, 'пошнали': False, 'филером': False, 'сложной': False, 'кружечку': False, 'чая': False, 'вырубка': False, 'объёмными': False, 'фишечками': False, 'переставлять': False, 'доступными': False, 'широкая': False, 'сюжета': False, 'даёт': False, 'единой': False, 'выигрыша': False, 'ход': False, 'координально': False, 'позволит': False, 'дочку': False, 'подряд': False, 'пугаюсь': False, 'неожиданности': False, 'чернила': False, 'вылетают': False, 'хохочет': False, 'яркая': False, 'крепкая': False, '600р': False, 'хвостиком': False, 'акции': False, 'дочкой': False, 'взгляд': False, 'принцесса': False, 'назвали': False, 'осьминога': False, 'украсив': False, 'короной': False, 'издавала': False, 'звук': False, 'храпа': False, 'спит': False, 'вышли': False, 'положения': False, 'храпит': False, 'дочь': False, 'чисто': False, 'синего': False, 'красного': False, 'изображении': False, 'вводят': False, 'заблуждения': False, 'механический': False, 'ужасен': False, 'управляющие': False, 'расположены': False, 'углом': False, 'выходе': False, 'хоккейной': False, 'наружу': False, 'ударяются': False, 'управлять': False, 'криво': False, 'органичной': False, 'получается': False, 'вторых': False, 'повернуты': False, 'сторону': False, 'защищая': False, 'часть': False, 'отбить': False, 'достойно': False, 'шайбу': False, 'вывести': False, 'угла': False, 'представляется': False, 'возможном': False, 'забивают': False, 'голы': False, 'флангах': False, 'клюшка': False, 'управляется': False, 'шайбой': False, 'углах': False, 'мертвая': False, 'зона': False, 'встает': False, 'ребро': False, 'клюшкой': False, 'зацепить': False, 'прогибается': False, 'напором': False, 'резкой': False, 'вваливается': False, 'оторвать': False, 'придумал': False, 'лицу': False, 'стыд': False, 'советского': False, 'союза': False, 'сравнить': False, 'хоккей': False, 'разы': False, 'технологии': False, 'оборудование': False, 'небо': False, 'земля': False, 'ракеты': False, 'космосам': False, 'летают': False, 'медведям': False, 'пищалки': False, 'пришивает': False, 'делают': False, 'кустарно': False, 'ведением': False, 'счета': False, 'выколи': False, 'пластиковой': False, 'полоски': False, 'малы': False, 'двигаешь': False, 'вставать': False, 'всматриваться': False, 'пролететь': False, 'увидеть': False, 'азарт': False, 'играх': False, 'присутствует': False, 'отличается': False, 'передка': False, 'углы': False, 'работая': False, 'рукам': False, 'мертвые': False, 'зоны': False, 'неконтролируемые': False, 'залетает': False, 'хочу': False, 'советском': False, 'детстве': False, 'многих': False, 'выпускаются': False, 'омским': False, 'заводом': False, 'электротоваров': False, 'столько': False, 'мог': False, 'обратить': False, 'внимание': False, 'отечественных': False, 'производителей': False, 'китайское': False, 'продавать': False, 'расстроилась': False, 'бренд': False, 'копии': False, 'уверена': False, '100': False, 'переплачиваю': False, 'оказались': False, 'квадратные': False, 'нескругленые': False, 'неотшлифованные': False, 'брусочки': False, 'низкого': False, 'занозах': False, 'грустные': False, 'тревожные': False, 'печальные': False, 'войны': False, 'апокалипсиса': False, 'злые': False, 'монстры': False, 'именно': False, 'ребёнком': False, 'депрессивные': False, 'подборка': False, 'использовать': False, 'ненормативную': False, 'лексику': False, 'ой': False, 'скобы': False, 'степлера': False, 'крепятся': False, 'сетки': False, 'лузах': False, 'частично': False, 'пристреляны': False, 'борта': False, 'сделанные': False, 'местами': False, 'сколах': False, 'бортах': False, 'натянуто': False, 'ждать': False, 'какого': False, 'хорошего': False, 'отскока': False, 'шаров': False, 'придётся': False, 'посреди': False, 'центре': False, 'огромное': False, 'пятно': False, 'половину': False, 'приклеили': False, 'фанере': False, 'поставил': False, 'звезду': False, 'старшим': False, 'братом': False, '500': False, 'жена': False, 'проверила': False, 'качтство': False, 'получении': False, 'изготовления': False, 'видел': False, 'азарта': False, 'заканчивается': False, 'выкупаются': False, 'терминал': False, 'считает': False, 'доставке': False, 'получению': False, 'заказа': False, 'возникло': False, 'само': False, 'товара': False, 'стали': False, 'удручающее': False, 'детали': False, 'стенок': False, 'совершенно': False, 'трухлявого': False, 'вкручивании': False, 'шурупов': False, 'опилки': False, 'отверстия': False, 'сикось': False, 'накось': False, 'торцы': False, 'боковин': False, 'отклеились': False, 'собрали': False, 'заметили': False, 'оставим': False, 'ребенок': False, 'ждал': False, '1300': False, 'стоимость': False, '3500': False, 'нонсенс': False, 'принесла': False, 'старались': False, 'собрать': False, 'покупайте': False, 'таких': False, 'клюшки': False, 'полы': False, 'кривые': False, 'месяца': False, 'назад': False, 'тупить': False, 'запоминает': False, 'поменяли': False, 'батарейки': False, 'помогло': False, 'лишним': False, 'тысячи': False, 'продают': False, 'качественное': False, 'строя': False, 'вдумывались': False, 'текст': False, 'соотнося': False, 'игровым': False, 'полем': False, 'видео': False, 'нашли': False, 'гарри': False, 'поттера': False, 'названия': False, 'мест': False, 'комнат': False, 'имеет': False, 'назначения': False, 'накидали': False, 'картинок': False, 'фоном': False, 'связать': False, 'книгой': False, 'фильмом': False, 'деталей': False, 'бестолковая': False, 'фанаты': False, 'решили': False, 'господи': False, 'неопытных': False, 'сущим': False, 'кошмаром': False, 'сдвигать': False, 'каких': False, 'реализация': False, 'троечку': False, 'неграмотной': False, 'скудной': False, 'изучать': False, 'обзоры': False, 'замечательная': False, 'скинул': False, 'звезды': False, 'вон': False, 'выбесила': False, 'цветных': False, 'заявленных': False, '36': False, 'запакованно': False, 'дубляж': False, 'даже': False, 'кошмар': False, '1200': False, '800': False, 'щас': False, 'пвз': False, 'заметить': False, 'было': False, 'ибо': False, 'запакована': False, 'пакет': False, 'погрызли': False, 'описание': False, 'спустя': False, 'часов': False, 'видосов': False, 'постоянного': False, 'чтения': False, 'разобрался': False, 'сказал': False, 'принципе': False, 'пол': False, 'час': False, 'более': False, 'картон': False, 'некоторых': False, 'карточках': False, 'неоднозначные': False, 'формулировки': False, 'карточка': False, 'использованными': False, 'картами': False, 'красные': False, 'зеленые': False, 'ними': False, 'неплохо': False, 'упростить': False, 'мягко': False, 'говоря': False, 'неправда': False, 'меняются': False, 'динамике': False, 'следить': False, 'этим': False, 'контролировать': False, 'однотипность': False, 'непродуманность': False, 'додумывать': False, '600': False, 'вкус': False, 'предпочитаем': False, 'монополия': False, 'элиас': False, 'разбирались': False, 'написана': False, 'обычно': False, 'заказывали': False, 'искать': False, 'практически': False, 'catan': False, 'дешёвая': False, 'замена': False, 'исследователей': False, 'пойдет': False, 'оставляет': False, 'желать': False, 'лучшего': False, 'картонки': False, 'износились': False, 'ломаются': False, 'мрачно': False, 'негативно': False, 'неприятно': False, 'заказали': False, 'комплект': False, 'других': False, 'пишет': False, 'вдвоём': False, 'усложняются': False, 'тк': False, 'минимум': False, 'понятна': False, 'финиша': False, 'бред': False, 'нечистой': False, 'силы': False, 'изображениях': False, 'родных': False, 'изображения': False, 'интересными': False, 'монстров': False, 'тыкв': False, 'хэллуина': False, 'бункер': False, 'смешная': False, 'советскую': False, 'монополию': False, 'странные': False, 'разочаровала': False, 'советуем': False, 'взяли': False, 'днях': False, 'отличнейший': False, 'варгейм': False, 'визуал': False, 'показалось': False, 'атрейдесов': False, 'сложнее': False, 'сыграли': False, 'новой': False, 'раскрывается': False, 'потенциал': False, 'фракции': False, 'немногих': False, 'соло': False, 'перегруженны': False, 'новичка': False, 'разберетесь': False, 'понравится': False, 'вероятностью': False, 'одним': False, 'хобби': False, 'великолепная': False, 'кооперативная': False, 'детектив': False, 'каждое': False, 'повторное': False, 'прохождение': False, 'уникально': False, 'хаоса': False, 'рандомно': False, 'особенности': False, 'попадание': False, 'сердечко': False, 'базовый': False, 'цикл': False, 'весьма': False, 'скуп': False, 'уровень': False, 'сценарного': False, 'накала': False, 'вспоминаем': False, 'теплотой': False, 'готовы': False, 'возвращаться': False, 'каждым': False, 'новым': False, 'дополнением': False, 'растет': False, 'прохождения': False, 'комплексность': False, 'геймплея': False, 'имеем': False, 'коллекции': False, 'доступные': False, 'расширения': False, 'нетепрением': False, 'ждём': False, 'следующей': False, 'слов': False, 'эмоции': False, 'семейный': False, 'мастхев': False, 'веселых': False, 'компанейских': False, 'зашло': False, 'возрастам': False, '60': False, 'поиграли': False, 'тесных': False, 'своими': False, 'локальными': False, 'шутками': False, 'знают': False, 'возрастных': False, '18': False, '22': False, 'появятся': False, 'обязательно': False, 'куплю': False, 'занимает': False, '1': False, 'bbg': False, 'соотношению': False, 'контента': False, 'лучшая': False, 'единственный': False, 'минус': False, 'людей': False, 'готовых': False, 'стабильно': False, 'протяжении': False, 'долгого': False, 'периода': False, 'проблема': False, 'огромным': False, 'приключение': False, 'стиле': False, 'днд': False, 'лишних': False, 'проверок': False, 'скорее': False, 'динамичной': False, 'одном': False, 'ряду': False, 'оскверненным': False, 'граалем': False, 'ужасом': False, 'аркхема': False, 'ред': False, 'стилистики': False, 'крутая': False, 'настолка': False, 'хорошие': False, 'рул': False, 'бук': False, 'куча': False, 'настолку': False, 'родственниками': False, 'лежала': False, 'распакованной': False, 'ждала': False, 'очереди': False, 'другими': False, 'настолками': False, 'подходит': False, 'нескольких': False, 'партий': False, 'жутко': False, 'захотелось': False, 'дополнений': False, 'доставлена': False, 'дополнительной': False, 'идеальном': False, 'состоянии': False, 'вечерами': False, '35': False, 'напрягает': False, 'трудного': False, 'рабочего': False, 'дня': False, 'интересна': False, 'полезна': False, 'наличие': False, 'некую': False, 'случайность': False, 'любой': False, 'позволяют': False, 'выиграть': False, 'нескольким': False, 'благодарность': False, 'качественную': False, 'интересную': False, 'магазину': False, 'скидки': False, 'азул': False, 'игрулька': False, 'мозги': False, 'хорошенько': False, 'размять': False, 'укладку': False, 'кафельных': False, 'плиток': False, 'дворцовом': False, 'полу': False, 'делай': False, 'словно': False, 'настоящий': False, 'мастер': False, 'плиточник': False, 'дело': False, 'идет': False, 'собрал': False, 'крутой': False, 'узор': False, 'хитрому': False, 'подбирая': False, 'красивого': False, 'закончил': False, 'строку': False, 'бац': False, 'перекочевали': False, 'твой': False, 'да': False, 'выстраивать': False, 'чекать': False, 'соперники': False, 'намутили': False, 'стараться': False, 'комбинации': False, 'азула': False, 'найдешь': False, 'выбор': False, 'клади': False, 'плиточку': False, 'очки': False, 'становись': False, 'хозяином': False, 'стильного': False, 'настольного': False, 'дворца': False, 'давно': False, 'нахваливают': False, 'похожа': False, 'каркассон': False, 'строите': False, 'города': False, 'пересекаются': False, 'возможности': False, 'подрезать': False, 'наподлить': False, 'сопернику': False, 'выгодный': False, 'тайл': False, 'легкие': False, 'мозголомная': False, 'считать': False, 'ходу': False, 'победный': False, 'принесет': False, 'иной': False, 'bga': False, 'можете': False, 'бесплатно': False, 'покупкой': False, 'настолки': False, 'вторая': False, 'фирмы': False, 'устраивает': False, 'активностей': False, 'будет': False, 'придумана': False, 'концепция': False, 'богатырями': False, 'персонажами': False, 'русских': False, 'сказок': False, 'подойдет': False, 'мальчикам': False, 'девочкам': False, 'создают': False, 'прекрасные': False, 'западных': False, 'причастным': False, 'созданию': False, 'вечернего': False, 'досуга': False, 'педагогов': False, 'смело': False, 'прекрасная': False, 'малышей': False, 'выговаривают': False, 'согласные': False, 'которым': False, 'необходима': False, 'небольшая': False, 'коррекция': False, 'родителей': False, 'расписаны': False, 'обьяснить': False, 'артикуляционную': False, 'гимнастику': False, 'карточни': False, 'скругленными': False, 'краями': False, 'пораниться': False, 'невозможно': False, 'безопасно': False, 'упакованная': False, 'пупырчатой': False, 'пленке': False, 'игровом': False, 'добрые': False, 'качественного': False, 'помнется': False, 'использовании': False, 'богатырей': False, 'подкачали': False, 'картонные': False, 'выполнять': False, 'родителям': False, 'логику': False, 'небольшие': False, 'физкультурные': False, 'разнообразия': False, 'радуемся': False, 'кэшбэком': False, 'приятной': False, 'однозначно': False, 'разворот': False, 'глянцевая': False, 'поверхность': False, 'цветам': False, 'одинаковое': False, 'зелёных': False, 'всего': False, 'выложить': False, 'поместятся': False, 'зелёной': False, 'тарелочке': False, 'незапланированное': False, 'использование': False, 'рамки': False, 'выкинули': False, 'магнитов': False, 'конце': False, 'вставляем': False, 'магнитики': False, 'рамочки': False, 'самых': False, 'добрых': False, 'уютных': False, 'допов': False, 'нашему': False, 'любимому': False, 'классическому': False, 'имаджинариуму': False, 'содержит': False, '64': False, 'достоинство': False, 'самостоятельная': False, 'замешивать': False, 'любые': False, 'ваши': False, 'версии': False, 'помимо': False, 'особые': False, 'новогодние': False, 'началу': False, 'января': False, 'новогодних': False, 'ламповых': False, 'шалость': False, 'удалась': False, 'решаем': False, 'задачки': False, 'примерно': False, 'пятидесятой': False, 'шестилетке': False, 'сделано': False, 'удивительно': False, 'цены': False, 'займет': False, 'постоянной': False, 'основе': False, 'периодически': False, 'подарить': False, 'увлекательных': False, 'советую': False, 'преобретению': False, 'головоломка': False, 'мы': False, 'родители': False, 'сыну': False, 'занимательная': False, '180': False, 'легкого': False, 'сложному': False, 'пирамиду': False, 'большую': False, 'маленькую': False, 'серию': False, 'смартгеймз': False, 'бондилогика': False, 'эту': False, 'поняла': False, 'отличие': False, 'наличии': False, 'дорогом': False, 'варианте': False, 'книжечки': False, 'сказкой': False, 'бонусов': False, 'книжку': False, 'докупила': False, 'картонную': False, 'обычную': False, 'оффлайн': False, 'магазине': False, 'дочке': False, 'любила': False, 'сказки': False, 'животных': False, 'красной': False, 'шапочки': False, 'слушать': False, 'сказку': False, 'проигрывать': False, 'сюжет': False, 'дополнили': False, 'кроваткой': False, 'лего': False, 'дупло': False, 'помещается': False, 'кроватку': False, 'запаха': False, 'отлит': False, 'швов': False, 'матовый': False, 'текстурой': False, 'кожу': False, 'этого': False, 'обычный': False, 'глянцевый': False, 'ёлки': False, 'твердого': False, 'пластмассовая': False, 'накидка': False, 'дорожки': False, 'матовые': False, 'цветочки': False, 'приклеены': False, 'насквозь': False, 'прицеплены': False, 'крутятся': False, 'особого': False, 'шарма': False, 'приобрел': False, 'данную': False, 'данная': False, 'действительно': False, 'фигурок': False, 'высоте': False, 'серый': False, 'подошла': False, '4х': False, 'летнего': False, 'проработанные': False, 'прорисованные': False, 'логическое': False, 'усидчивость': False, 'построением': False, 'лабиринтов': False, 'уене': False, 'промокодом': False, 'сын': False, 'ежедневно': False, 'хорошо': False, 'доставку': False, 'привезли': False, 'развития': False, 'фантазию': False, 'поездку': False, 'ребёнка': False, 'увлечь': False, 'книжкой': False, 'высшем': False, 'уровне': False, 'чёткие': False, 'рисунки': False, 'сочные': False, 'магнитятся': False, 'книжка': False, 'твёрдая': False, 'хватит': False, 'рекомендовать': False, 'своим': False, 'близким': False, 'семейная': False, 'кому': False, 'колонизаторы': False, 'кажутся': False, 'излишне': False, 'сложными': False, 'перегруженными': False, 'благодаря': False, 'индивидуальным': False, 'органайзерам': False, 'подготовка': False, 'единственную': False, 'сложность': False, 'раскладка': False, 'колодам': False, 'замки': False, 'короля': False, 'людвига': False, 'органайзерах': False, 'практично': False, 'спокойная': False, 'конфликтная': False, 'торгов': False, 'планы': False, 'набора': False, 'победных': False, 'вдумчивости': False, 'просчёта': False, 'планирования': False, 'осознанность': False, 'смысла': False, 'большинстве': False, 'случаев': False, 'уступают': False, 'мыслительных': False, 'процессах': False, 'реакцию': False, 'веселья': False, 'покупка': False, 'размещение': False, 'следование': False, 'цели': False, 'возможно': False, 'создание': False, 'помех': False, 'соперникам': False, 'совершать': False, 'комбо': False, 'сделал': False, 'получил': False, 'классное': False, 'часто': False, 'выделить': False, 'три': False, 'стол': False, 'рассматриваем': False, 'к': False, 'базу': False, 'наигрались': False, 'тайликами': False, 'комнаты': False, 'замке': False, 'злая': False, 'удобные': False, 'органайзеры': False, 'большая': False, 'рассчитана': False, 'дополнение': False, 'хранить': False, 'широкое': False, 'красивое': False, 'лебеди': False, 'проблем': False, 'картинка': False, 'продавца': False, 'оказалась': False, 'чуточку': False, 'достался': False, 'спящий': False, 'лев': False, 'места': False, 'склейки': False, 'бросается': False, 'глаза': False, 'на': False, 'чувствуется': False, 'перепад': False, 'пахнут': False}\n"
     ]
    }
   ],
   "source": [
    "# Сохранение второй модели со словарем фич и функцие нахождения их в тексте\n",
    "path = r\"models\\logistic_regression_classifier.pickle\"\n",
    "\n",
    "with open(path, \"wb\") as classifier_file:\n",
    "    data_for_save = {\n",
    "        \"model\": logreg_model,\n",
    "        \"features\": word_features,\n",
    "        \"function\": find_features,\n",
    "    }\n",
    "    pickle.dump(data_for_save, classifier_file)"
   ]
  }
 ],
 "metadata": {
  "kernelspec": {
   "display_name": "Python 3",
   "language": "python",
   "name": "python3"
  },
  "language_info": {
   "codemirror_mode": {
    "name": "ipython",
    "version": 3
   },
   "file_extension": ".py",
   "mimetype": "text/x-python",
   "name": "python",
   "nbconvert_exporter": "python",
   "pygments_lexer": "ipython3",
   "version": "3.12.0"
  }
 },
 "nbformat": 4,
 "nbformat_minor": 2
}
