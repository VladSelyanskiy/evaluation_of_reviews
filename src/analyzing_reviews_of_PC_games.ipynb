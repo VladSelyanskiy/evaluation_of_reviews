{
 "cells": [
  {
   "cell_type": "code",
   "execution_count": 7,
   "metadata": {},
   "outputs": [],
   "source": [
    "import pandas as pd\n",
    "import numpy as np\n",
    "import re\n",
    "import time\n",
    "from pymystem3 import Mystem\n",
    "from tqdm import tqdm\n",
    "from matplotlib import pyplot as plt\n",
    "import plotly.graph_objects as go\n",
    "from plotly.subplots import make_subplots\n",
    "\n",
    "from nltk.corpus import stopwords as nltk_stopwords\n",
    "from sklearn.feature_extraction.text import TfidfVectorizer\n",
    "from sklearn.linear_model import LogisticRegression\n",
    "from sklearn.metrics import confusion_matrix, roc_curve, auc\n",
    "\n",
    "\n",
    "from sklearn.model_selection import train_test_split"
   ]
  },
  {
   "cell_type": "markdown",
   "metadata": {
    "notebookRunGroups": {
     "groupValue": "2"
    }
   },
   "source": [
    "# Загрузка размеченного датасета"
   ]
  },
  {
   "cell_type": "code",
   "execution_count": 8,
   "metadata": {},
   "outputs": [
    {
     "data": {
      "text/plain": [
       "(7500, 2)"
      ]
     },
     "execution_count": 8,
     "metadata": {},
     "output_type": "execute_result"
    }
   ],
   "source": [
    "data = pd.read_csv('data/video_games_01.csv')\n",
    "data = data.sort_values(by='assessment')\n",
    "data = data[0:7500]\n",
    "data.shape"
   ]
  },
  {
   "cell_type": "code",
   "execution_count": 9,
   "metadata": {},
   "outputs": [
    {
     "data": {
      "text/html": [
       "<div>\n",
       "<style scoped>\n",
       "    .dataframe tbody tr th:only-of-type {\n",
       "        vertical-align: middle;\n",
       "    }\n",
       "\n",
       "    .dataframe tbody tr th {\n",
       "        vertical-align: top;\n",
       "    }\n",
       "\n",
       "    .dataframe thead th {\n",
       "        text-align: right;\n",
       "    }\n",
       "</style>\n",
       "<table border=\"1\" class=\"dataframe\">\n",
       "  <thead>\n",
       "    <tr style=\"text-align: right;\">\n",
       "      <th></th>\n",
       "      <th>review</th>\n",
       "      <th>assessment</th>\n",
       "    </tr>\n",
       "  </thead>\n",
       "  <tbody>\n",
       "    <tr>\n",
       "      <th>3737</th>\n",
       "      <td>Игра для титанов духа :) Если у вас: Крепкие н...</td>\n",
       "      <td>0</td>\n",
       "    </tr>\n",
       "    <tr>\n",
       "      <th>3864</th>\n",
       "      <td>Необычный интерфейс и персонажи - пожалуй с то...</td>\n",
       "      <td>0</td>\n",
       "    </tr>\n",
       "    <tr>\n",
       "      <th>3903</th>\n",
       "      <td>Осторожно, употребление продукта вредит вашей ...</td>\n",
       "      <td>0</td>\n",
       "    </tr>\n",
       "    <tr>\n",
       "      <th>3900</th>\n",
       "      <td>Унылая гриндилка с красивыми артами. Играть не...</td>\n",
       "      <td>0</td>\n",
       "    </tr>\n",
       "    <tr>\n",
       "      <th>3915</th>\n",
       "      <td>Игра классная. Такое количество воинов потерял...</td>\n",
       "      <td>0</td>\n",
       "    </tr>\n",
       "  </tbody>\n",
       "</table>\n",
       "</div>"
      ],
      "text/plain": [
       "                                                 review  assessment\n",
       "3737  Игра для титанов духа :) Если у вас: Крепкие н...           0\n",
       "3864  Необычный интерфейс и персонажи - пожалуй с то...           0\n",
       "3903  Осторожно, употребление продукта вредит вашей ...           0\n",
       "3900  Унылая гриндилка с красивыми артами. Играть не...           0\n",
       "3915  Игра классная. Такое количество воинов потерял...           0"
      ]
     },
     "execution_count": 9,
     "metadata": {},
     "output_type": "execute_result"
    }
   ],
   "source": [
    "data.head(5)"
   ]
  },
  {
   "cell_type": "code",
   "execution_count": 10,
   "metadata": {},
   "outputs": [
    {
     "data": {
      "text/plain": [
       "assessment\n",
       "1    3891\n",
       "0    3609\n",
       "Name: count, dtype: int64"
      ]
     },
     "execution_count": 10,
     "metadata": {},
     "output_type": "execute_result"
    }
   ],
   "source": [
    "# Количество позитивных (1) и отрицательных отзывов (0)\n",
    "data['assessment'].value_counts()"
   ]
  },
  {
   "cell_type": "code",
   "execution_count": 11,
   "metadata": {},
   "outputs": [],
   "source": [
    "# Оставим в тексте только кириллические символы\n",
    "def clear_text(text):\n",
    "    clear_text = re.sub(r'[^А-яЁё]+', ' ', text).lower()\n",
    "    return \" \".join(clear_text.split())\n",
    "    \n",
    "\n",
    "# напишем функцию удаляющую стоп-слова\n",
    "def clean_stop_words(text, stopwords):\n",
    "    text = [word for word in text.split() if word not in stopwords]\n",
    "    return \" \".join(text)"
   ]
  },
  {
   "cell_type": "code",
   "execution_count": 12,
   "metadata": {},
   "outputs": [
    {
     "data": {
      "text/plain": [
       "array({'этом', 'конечно', 'быть', 'ней', 'я', 'этот', 'хорошо', 'с', 'эти', 'надо', 'два', 'ли', 'об', 'на', 'чего', 'всю', 'вас', 'тем', 'к', 'другой', 'моя', 'или', 'сейчас', 'сам', 'ним', 'же', 'том', 'нельзя', 'зачем', 'него', 'вдруг', 'ведь', 'тот', 'а', 'будто', 'эту', 'тогда', 'им', 'но', 'так', 'наконец', 'лучше', 'хоть', 'про', 'нас', 'может', 'под', 'чтобы', 'где', 'три', 'при', 'можно', 'по', 'уже', 'их', 'никогда', 'всегда', 'о', 'теперь', 'она', 'вам', 'себе', 'совсем', 'для', 'этой', 'ничего', 'там', 'даже', 'ей', 'было', 'от', 'был', 'уж', 'была', 'его', 'иногда', 'будет', 'свою', 'между', 'ни', 'этого', 'что', 'со', 'меня', 'ж', 'через', 'чтоб', 'мой', 'того', 'один', 'мы', 'впрочем', 'он', 'еще', 'здесь', 'ты', 'них', 'какая', 'были', 'всего', 'разве', 'нибудь', 'да', 'такой', 'нее', 'после', 'когда', 'потом', 'себя', 'во', 'есть', 'если', 'тоже', 'бы', 'в', 'не', 'без', 'они', 'какой', 'только', 'кто', 'чем', 'потому', 'как', 'почти', 'за', 'тут', 'перед', 'вот', 'вы', 'ему', 'ну', 'над', 'куда', 'до', 'чуть', 'нет', 'более', 'ее', 'много', 'раз', 'больше', 'мне', 'всех', 'все', 'тебя', 'опять', 'и', 'то', 'из', 'у'},\n",
       "      dtype=object)"
      ]
     },
     "execution_count": 12,
     "metadata": {},
     "output_type": "execute_result"
    }
   ],
   "source": [
    "# загрузим список стоп-слов\n",
    "stopwords = set(nltk_stopwords.words('russian'))\n",
    "np.array(stopwords)"
   ]
  },
  {
   "cell_type": "code",
   "execution_count": 13,
   "metadata": {},
   "outputs": [
    {
     "name": "stdout",
     "output_type": "stream",
     "text": [
      "Как же я не на вижу эту игру, но люблю\n",
      "=======================================\n",
      "вижу игру люблю\n"
     ]
    }
   ],
   "source": [
    "# Протестируем работу функции очистки текста\n",
    "review = data['review'][np.random.randint(data.shape[0])]\n",
    "print(review)\n",
    "print('=======================================')\n",
    "print(clean_stop_words((clear_text(review)), stopwords))"
   ]
  },
  {
   "cell_type": "code",
   "execution_count": 14,
   "metadata": {},
   "outputs": [
    {
     "name": "stdout",
     "output_type": "stream",
     "text": [
      "Обработка текстов заняла: 0.12 секунд\n"
     ]
    }
   ],
   "source": [
    "# Очистим тексты отзывов\n",
    "start_clean = time.time()\n",
    "\n",
    "data['review_clear'] = data['review']\\\n",
    "     .apply(lambda x: clean_stop_words(clear_text(str(x)), stopwords))\n",
    "\n",
    "print('Обработка текстов заняла: '+str(round(time.time() - start_clean, 2))+' секунд')"
   ]
  },
  {
   "cell_type": "code",
   "execution_count": 15,
   "metadata": {},
   "outputs": [
    {
     "data": {
      "text/html": [
       "<div>\n",
       "<style scoped>\n",
       "    .dataframe tbody tr th:only-of-type {\n",
       "        vertical-align: middle;\n",
       "    }\n",
       "\n",
       "    .dataframe tbody tr th {\n",
       "        vertical-align: top;\n",
       "    }\n",
       "\n",
       "    .dataframe thead th {\n",
       "        text-align: right;\n",
       "    }\n",
       "</style>\n",
       "<table border=\"1\" class=\"dataframe\">\n",
       "  <thead>\n",
       "    <tr style=\"text-align: right;\">\n",
       "      <th></th>\n",
       "      <th>review</th>\n",
       "      <th>assessment</th>\n",
       "      <th>review_clear</th>\n",
       "    </tr>\n",
       "  </thead>\n",
       "  <tbody>\n",
       "    <tr>\n",
       "      <th>3737</th>\n",
       "      <td>Игра для титанов духа :) Если у вас: Крепкие н...</td>\n",
       "      <td>0</td>\n",
       "      <td>игра титанов духа крепкие нервы стальные яйца ...</td>\n",
       "    </tr>\n",
       "    <tr>\n",
       "      <th>3864</th>\n",
       "      <td>Необычный интерфейс и персонажи - пожалуй с то...</td>\n",
       "      <td>0</td>\n",
       "      <td>необычный интерфейс персонажи пожалуй точки зр...</td>\n",
       "    </tr>\n",
       "    <tr>\n",
       "      <th>3903</th>\n",
       "      <td>Осторожно, употребление продукта вредит вашей ...</td>\n",
       "      <td>0</td>\n",
       "      <td>осторожно употребление продукта вредит вашей н...</td>\n",
       "    </tr>\n",
       "    <tr>\n",
       "      <th>3900</th>\n",
       "      <td>Унылая гриндилка с красивыми артами. Играть не...</td>\n",
       "      <td>0</td>\n",
       "      <td>унылая гриндилка красивыми артами играть интер...</td>\n",
       "    </tr>\n",
       "    <tr>\n",
       "      <th>3915</th>\n",
       "      <td>Игра классная. Такое количество воинов потерял...</td>\n",
       "      <td>0</td>\n",
       "      <td>игра классная такое количество воинов потерял ...</td>\n",
       "    </tr>\n",
       "    <tr>\n",
       "      <th>...</th>\n",
       "      <td>...</td>\n",
       "      <td>...</td>\n",
       "      <td>...</td>\n",
       "    </tr>\n",
       "    <tr>\n",
       "      <th>7474</th>\n",
       "      <td>Игра прикольная , в этой игре можно почувствов...</td>\n",
       "      <td>1</td>\n",
       "      <td>игра прикольная игре почувствовать джамшутом</td>\n",
       "    </tr>\n",
       "    <tr>\n",
       "      <th>7473</th>\n",
       "      <td>Симулятор по созданию своего ,идеального дома!</td>\n",
       "      <td>1</td>\n",
       "      <td>симулятор созданию своего идеального дома</td>\n",
       "    </tr>\n",
       "    <tr>\n",
       "      <th>7472</th>\n",
       "      <td>классная игра и постоянно обновляется)</td>\n",
       "      <td>1</td>\n",
       "      <td>классная игра постоянно обновляется</td>\n",
       "    </tr>\n",
       "    <tr>\n",
       "      <th>7503</th>\n",
       "      <td>Просто игра для рилакса. Чего ещё надо?</td>\n",
       "      <td>1</td>\n",
       "      <td>просто игра рилакса ещё</td>\n",
       "    </tr>\n",
       "    <tr>\n",
       "      <th>7502</th>\n",
       "      <td>Спокойная прикольная игрушка.Рекомендую!!!</td>\n",
       "      <td>1</td>\n",
       "      <td>спокойная прикольная игрушка рекомендую</td>\n",
       "    </tr>\n",
       "  </tbody>\n",
       "</table>\n",
       "<p>7500 rows × 3 columns</p>\n",
       "</div>"
      ],
      "text/plain": [
       "                                                 review  assessment  \\\n",
       "3737  Игра для титанов духа :) Если у вас: Крепкие н...           0   \n",
       "3864  Необычный интерфейс и персонажи - пожалуй с то...           0   \n",
       "3903  Осторожно, употребление продукта вредит вашей ...           0   \n",
       "3900  Унылая гриндилка с красивыми артами. Играть не...           0   \n",
       "3915  Игра классная. Такое количество воинов потерял...           0   \n",
       "...                                                 ...         ...   \n",
       "7474  Игра прикольная , в этой игре можно почувствов...           1   \n",
       "7473     Симулятор по созданию своего ,идеального дома!           1   \n",
       "7472             классная игра и постоянно обновляется)           1   \n",
       "7503            Просто игра для рилакса. Чего ещё надо?           1   \n",
       "7502         Спокойная прикольная игрушка.Рекомендую!!!           1   \n",
       "\n",
       "                                           review_clear  \n",
       "3737  игра титанов духа крепкие нервы стальные яйца ...  \n",
       "3864  необычный интерфейс персонажи пожалуй точки зр...  \n",
       "3903  осторожно употребление продукта вредит вашей н...  \n",
       "3900  унылая гриндилка красивыми артами играть интер...  \n",
       "3915  игра классная такое количество воинов потерял ...  \n",
       "...                                                 ...  \n",
       "7474       игра прикольная игре почувствовать джамшутом  \n",
       "7473          симулятор созданию своего идеального дома  \n",
       "7472                классная игра постоянно обновляется  \n",
       "7503                            просто игра рилакса ещё  \n",
       "7502            спокойная прикольная игрушка рекомендую  \n",
       "\n",
       "[7500 rows x 3 columns]"
      ]
     },
     "execution_count": 15,
     "metadata": {},
     "output_type": "execute_result"
    }
   ],
   "source": [
    "data"
   ]
  },
  {
   "cell_type": "code",
   "execution_count": 16,
   "metadata": {},
   "outputs": [
    {
     "data": {
      "text/html": [
       "<div>\n",
       "<style scoped>\n",
       "    .dataframe tbody tr th:only-of-type {\n",
       "        vertical-align: middle;\n",
       "    }\n",
       "\n",
       "    .dataframe tbody tr th {\n",
       "        vertical-align: top;\n",
       "    }\n",
       "\n",
       "    .dataframe thead th {\n",
       "        text-align: right;\n",
       "    }\n",
       "</style>\n",
       "<table border=\"1\" class=\"dataframe\">\n",
       "  <thead>\n",
       "    <tr style=\"text-align: right;\">\n",
       "      <th></th>\n",
       "      <th>review_clear</th>\n",
       "      <th>assessment</th>\n",
       "    </tr>\n",
       "  </thead>\n",
       "  <tbody>\n",
       "    <tr>\n",
       "      <th>3737</th>\n",
       "      <td>игра титанов духа крепкие нервы стальные яйца ...</td>\n",
       "      <td>0</td>\n",
       "    </tr>\n",
       "    <tr>\n",
       "      <th>3864</th>\n",
       "      <td>необычный интерфейс персонажи пожалуй точки зр...</td>\n",
       "      <td>0</td>\n",
       "    </tr>\n",
       "    <tr>\n",
       "      <th>3903</th>\n",
       "      <td>осторожно употребление продукта вредит вашей н...</td>\n",
       "      <td>0</td>\n",
       "    </tr>\n",
       "    <tr>\n",
       "      <th>3900</th>\n",
       "      <td>унылая гриндилка красивыми артами играть интер...</td>\n",
       "      <td>0</td>\n",
       "    </tr>\n",
       "    <tr>\n",
       "      <th>3915</th>\n",
       "      <td>игра классная такое количество воинов потерял ...</td>\n",
       "      <td>0</td>\n",
       "    </tr>\n",
       "  </tbody>\n",
       "</table>\n",
       "</div>"
      ],
      "text/plain": [
       "                                           review_clear  assessment\n",
       "3737  игра титанов духа крепкие нервы стальные яйца ...           0\n",
       "3864  необычный интерфейс персонажи пожалуй точки зр...           0\n",
       "3903  осторожно употребление продукта вредит вашей н...           0\n",
       "3900  унылая гриндилка красивыми артами играть интер...           0\n",
       "3915  игра классная такое количество воинов потерял ...           0"
      ]
     },
     "execution_count": 16,
     "metadata": {},
     "output_type": "execute_result"
    }
   ],
   "source": [
    "data_clear = data[['review_clear', 'assessment']]\n",
    "data_clear.head()"
   ]
  },
  {
   "cell_type": "markdown",
   "metadata": {},
   "source": [
    "# Лемматизация отзывов"
   ]
  },
  {
   "cell_type": "code",
   "execution_count": 17,
   "metadata": {},
   "outputs": [],
   "source": [
    "def lemmatize(df : (pd.Series, pd.DataFrame),\n",
    "              text_column : (None, str),\n",
    "              n_samples : int,\n",
    "              break_str = 'br',\n",
    "             ) -> pd.Series:\n",
    "    \n",
    "    result = []\n",
    "    \n",
    "    m = Mystem()    \n",
    "    \n",
    "    for i in tqdm(range((df.shape[0] // n_samples) + 1)) :\n",
    "        \n",
    "        start = i * n_samples\n",
    "        \n",
    "        stop = start + n_samples\n",
    "        \n",
    "        sample = break_str.join(df[text_column][start : stop].values)\n",
    "        \n",
    "        lemmas = m.lemmatize(sample)\n",
    "        \n",
    "        lemm_sample = ''.join(lemmas).split(break_str)\n",
    "        \n",
    "        result += lemm_sample\n",
    "        \n",
    "    return pd.Series(result, index = df.index)"
   ]
  },
  {
   "cell_type": "code",
   "execution_count": 18,
   "metadata": {},
   "outputs": [
    {
     "name": "stderr",
     "output_type": "stream",
     "text": [
      "100%|██████████| 76/76 [01:03<00:00,  1.20it/s]\n"
     ]
    }
   ],
   "source": [
    "data['lemm_clean_review'] = lemmatize(\n",
    "    df = data,\n",
    "    text_column = 'review_clear',\n",
    "    n_samples = 100,\n",
    "    break_str = 'br',\n",
    "    )"
   ]
  },
  {
   "cell_type": "code",
   "execution_count": 19,
   "metadata": {},
   "outputs": [
    {
     "data": {
      "text/html": [
       "<div>\n",
       "<style scoped>\n",
       "    .dataframe tbody tr th:only-of-type {\n",
       "        vertical-align: middle;\n",
       "    }\n",
       "\n",
       "    .dataframe tbody tr th {\n",
       "        vertical-align: top;\n",
       "    }\n",
       "\n",
       "    .dataframe thead th {\n",
       "        text-align: right;\n",
       "    }\n",
       "</style>\n",
       "<table border=\"1\" class=\"dataframe\">\n",
       "  <thead>\n",
       "    <tr style=\"text-align: right;\">\n",
       "      <th></th>\n",
       "      <th>review</th>\n",
       "      <th>assessment</th>\n",
       "      <th>review_clear</th>\n",
       "      <th>lemm_clean_review</th>\n",
       "    </tr>\n",
       "  </thead>\n",
       "  <tbody>\n",
       "    <tr>\n",
       "      <th>3737</th>\n",
       "      <td>Игра для титанов духа :) Если у вас: Крепкие н...</td>\n",
       "      <td>0</td>\n",
       "      <td>игра титанов духа крепкие нервы стальные яйца ...</td>\n",
       "      <td>игра титан дух крепкий нерв стальной яйцо огне...</td>\n",
       "    </tr>\n",
       "    <tr>\n",
       "      <th>3864</th>\n",
       "      <td>Необычный интерфейс и персонажи - пожалуй с то...</td>\n",
       "      <td>0</td>\n",
       "      <td>необычный интерфейс персонажи пожалуй точки зр...</td>\n",
       "      <td>необычный интерфейс персонаж пожалуй точка зре...</td>\n",
       "    </tr>\n",
       "    <tr>\n",
       "      <th>3903</th>\n",
       "      <td>Осторожно, употребление продукта вредит вашей ...</td>\n",
       "      <td>0</td>\n",
       "      <td>осторожно употребление продукта вредит вашей н...</td>\n",
       "      <td>осторожно употребление продукт вредить ваш нер...</td>\n",
       "    </tr>\n",
       "    <tr>\n",
       "      <th>3900</th>\n",
       "      <td>Унылая гриндилка с красивыми артами. Играть не...</td>\n",
       "      <td>0</td>\n",
       "      <td>унылая гриндилка красивыми артами играть интер...</td>\n",
       "      <td>унылая гриндилка красивый арта играть интересн...</td>\n",
       "    </tr>\n",
       "    <tr>\n",
       "      <th>3915</th>\n",
       "      <td>Игра классная. Такое количество воинов потерял...</td>\n",
       "      <td>0</td>\n",
       "      <td>игра классная такое количество воинов потерял ...</td>\n",
       "      <td>игра классный такой количество воин потерять с...</td>\n",
       "    </tr>\n",
       "  </tbody>\n",
       "</table>\n",
       "</div>"
      ],
      "text/plain": [
       "                                                 review  assessment  \\\n",
       "3737  Игра для титанов духа :) Если у вас: Крепкие н...           0   \n",
       "3864  Необычный интерфейс и персонажи - пожалуй с то...           0   \n",
       "3903  Осторожно, употребление продукта вредит вашей ...           0   \n",
       "3900  Унылая гриндилка с красивыми артами. Играть не...           0   \n",
       "3915  Игра классная. Такое количество воинов потерял...           0   \n",
       "\n",
       "                                           review_clear  \\\n",
       "3737  игра титанов духа крепкие нервы стальные яйца ...   \n",
       "3864  необычный интерфейс персонажи пожалуй точки зр...   \n",
       "3903  осторожно употребление продукта вредит вашей н...   \n",
       "3900  унылая гриндилка красивыми артами играть интер...   \n",
       "3915  игра классная такое количество воинов потерял ...   \n",
       "\n",
       "                                      lemm_clean_review  \n",
       "3737  игра титан дух крепкий нерв стальной яйцо огне...  \n",
       "3864  необычный интерфейс персонаж пожалуй точка зре...  \n",
       "3903  осторожно употребление продукт вредить ваш нер...  \n",
       "3900  унылая гриндилка красивый арта играть интересн...  \n",
       "3915  игра классный такой количество воин потерять с...  "
      ]
     },
     "execution_count": 19,
     "metadata": {},
     "output_type": "execute_result"
    }
   ],
   "source": [
    "data.head()"
   ]
  },
  {
   "cell_type": "markdown",
   "metadata": {},
   "source": [
    "# Получение TF-IDF векторных представлений размеченных отзывов"
   ]
  },
  {
   "cell_type": "code",
   "execution_count": 20,
   "metadata": {},
   "outputs": [
    {
     "name": "stdout",
     "output_type": "stream",
     "text": [
      "(6000, 4)\n",
      "(1500, 4)\n"
     ]
    }
   ],
   "source": [
    "train, test = train_test_split(data, test_size = 0.2, random_state = 6)\n",
    "\n",
    "print(train.shape)\n",
    "print(test.shape)"
   ]
  },
  {
   "cell_type": "code",
   "execution_count": 21,
   "metadata": {},
   "outputs": [
    {
     "data": {
      "text/html": [
       "<div>\n",
       "<style scoped>\n",
       "    .dataframe tbody tr th:only-of-type {\n",
       "        vertical-align: middle;\n",
       "    }\n",
       "\n",
       "    .dataframe tbody tr th {\n",
       "        vertical-align: top;\n",
       "    }\n",
       "\n",
       "    .dataframe thead th {\n",
       "        text-align: right;\n",
       "    }\n",
       "</style>\n",
       "<table border=\"1\" class=\"dataframe\">\n",
       "  <thead>\n",
       "    <tr style=\"text-align: right;\">\n",
       "      <th></th>\n",
       "      <th>review</th>\n",
       "      <th>assessment</th>\n",
       "      <th>review_clear</th>\n",
       "      <th>lemm_clean_review</th>\n",
       "    </tr>\n",
       "  </thead>\n",
       "  <tbody>\n",
       "    <tr>\n",
       "      <th>16328</th>\n",
       "      <td>переборщили с реализмом, превратив игру в неиг...</td>\n",
       "      <td>0</td>\n",
       "      <td>переборщили реализмом превратив игру неиграбел...</td>\n",
       "      <td>отыгрыш пердак вымышленный технике</td>\n",
       "    </tr>\n",
       "    <tr>\n",
       "      <th>4185</th>\n",
       "      <td>Отправил козляток на верную смертб.</td>\n",
       "      <td>1</td>\n",
       "      <td>отправил козляток верную смертб</td>\n",
       "      <td>мрак всюду мрак спасения</td>\n",
       "    </tr>\n",
       "    <tr>\n",
       "      <th>20343</th>\n",
       "      <td>Игра была очень смешной, насыщенной, весёлой. ...</td>\n",
       "      <td>0</td>\n",
       "      <td>игра очень смешной насыщенной весёлой мёртвая</td>\n",
       "      <td>поиграл понимать прикол кривой стрельба жепы</td>\n",
       "    </tr>\n",
       "    <tr>\n",
       "      <th>16161</th>\n",
       "      <td>Игра не понятная, ужасные режимы, через чур тр...</td>\n",
       "      <td>0</td>\n",
       "      <td>игра понятная ужасные режимы чур требовательна...</td>\n",
       "      <td>точно специальный издание рекомендовать</td>\n",
       "    </tr>\n",
       "    <tr>\n",
       "      <th>7115</th>\n",
       "      <td>Ой, как плохо, ооооочень плохо....</td>\n",
       "      <td>0</td>\n",
       "      <td>ой плохо ооооочень плохо</td>\n",
       "      <td>игра полноеее г работать стобильно</td>\n",
       "    </tr>\n",
       "  </tbody>\n",
       "</table>\n",
       "</div>"
      ],
      "text/plain": [
       "                                                  review  assessment  \\\n",
       "16328  переборщили с реализмом, превратив игру в неиг...           0   \n",
       "4185                 Отправил козляток на верную смертб.           1   \n",
       "20343  Игра была очень смешной, насыщенной, весёлой. ...           0   \n",
       "16161  Игра не понятная, ужасные режимы, через чур тр...           0   \n",
       "7115                  Ой, как плохо, ооооочень плохо....           0   \n",
       "\n",
       "                                            review_clear  \\\n",
       "16328  переборщили реализмом превратив игру неиграбел...   \n",
       "4185                     отправил козляток верную смертб   \n",
       "20343      игра очень смешной насыщенной весёлой мёртвая   \n",
       "16161  игра понятная ужасные режимы чур требовательна...   \n",
       "7115                            ой плохо ооооочень плохо   \n",
       "\n",
       "                                  lemm_clean_review  \n",
       "16328            отыгрыш пердак вымышленный технике  \n",
       "4185                       мрак всюду мрак спасения  \n",
       "20343  поиграл понимать прикол кривой стрельба жепы  \n",
       "16161       точно специальный издание рекомендовать  \n",
       "7115             игра полноеее г работать стобильно  "
      ]
     },
     "execution_count": 21,
     "metadata": {},
     "output_type": "execute_result"
    }
   ],
   "source": [
    "train.head()"
   ]
  },
  {
   "cell_type": "code",
   "execution_count": 22,
   "metadata": {},
   "outputs": [
    {
     "name": "stdout",
     "output_type": "stream",
     "text": [
      "0.52\n",
      "0.514\n"
     ]
    }
   ],
   "source": [
    "# Сравним распределение целевого признака в выборках (распределение положительных отзывов)\n",
    "for sample in [train, test]:    \n",
    "    print(sample[sample['assessment'] == 1].shape[0] / sample.shape[0])"
   ]
  },
  {
   "cell_type": "code",
   "execution_count": 23,
   "metadata": {},
   "outputs": [],
   "source": [
    "# Получим векторные представления текстов\n",
    "count_idf_1 = TfidfVectorizer(ngram_range=(1,1))"
   ]
  },
  {
   "cell_type": "code",
   "execution_count": 24,
   "metadata": {},
   "outputs": [],
   "source": [
    "tf_idf_base_1 = count_idf_1.fit(data['review_clear'])\n",
    "tf_idf_train_base_1 = count_idf_1.transform(train['review_clear'])\n",
    "tf_idf_test_base_1 = count_idf_1.transform(test['review_clear'])"
   ]
  },
  {
   "cell_type": "code",
   "execution_count": 25,
   "metadata": {},
   "outputs": [
    {
     "data": {
      "text/plain": [
       "(1500, 28706)"
      ]
     },
     "metadata": {},
     "output_type": "display_data"
    },
    {
     "data": {
      "text/plain": [
       "(6000, 28706)"
      ]
     },
     "metadata": {},
     "output_type": "display_data"
    }
   ],
   "source": [
    "display(tf_idf_test_base_1.shape)\n",
    "display(tf_idf_train_base_1.shape)"
   ]
  },
  {
   "cell_type": "code",
   "execution_count": 26,
   "metadata": {},
   "outputs": [],
   "source": [
    "logreg_model_base_1 = LogisticRegression(solver = 'lbfgs',\n",
    "                                    random_state = 6,\n",
    "                                    max_iter= 10000,\n",
    "                                    n_jobs= -1)"
   ]
  },
  {
   "cell_type": "markdown",
   "metadata": {},
   "source": [
    "Получим прогноз и оценим качество модели"
   ]
  },
  {
   "cell_type": "code",
   "execution_count": 27,
   "metadata": {},
   "outputs": [
    {
     "data": {
      "text/html": [
       "<style>#sk-container-id-1 {\n",
       "  /* Definition of color scheme common for light and dark mode */\n",
       "  --sklearn-color-text: #000;\n",
       "  --sklearn-color-text-muted: #666;\n",
       "  --sklearn-color-line: gray;\n",
       "  /* Definition of color scheme for unfitted estimators */\n",
       "  --sklearn-color-unfitted-level-0: #fff5e6;\n",
       "  --sklearn-color-unfitted-level-1: #f6e4d2;\n",
       "  --sklearn-color-unfitted-level-2: #ffe0b3;\n",
       "  --sklearn-color-unfitted-level-3: chocolate;\n",
       "  /* Definition of color scheme for fitted estimators */\n",
       "  --sklearn-color-fitted-level-0: #f0f8ff;\n",
       "  --sklearn-color-fitted-level-1: #d4ebff;\n",
       "  --sklearn-color-fitted-level-2: #b3dbfd;\n",
       "  --sklearn-color-fitted-level-3: cornflowerblue;\n",
       "\n",
       "  /* Specific color for light theme */\n",
       "  --sklearn-color-text-on-default-background: var(--sg-text-color, var(--theme-code-foreground, var(--jp-content-font-color1, black)));\n",
       "  --sklearn-color-background: var(--sg-background-color, var(--theme-background, var(--jp-layout-color0, white)));\n",
       "  --sklearn-color-border-box: var(--sg-text-color, var(--theme-code-foreground, var(--jp-content-font-color1, black)));\n",
       "  --sklearn-color-icon: #696969;\n",
       "\n",
       "  @media (prefers-color-scheme: dark) {\n",
       "    /* Redefinition of color scheme for dark theme */\n",
       "    --sklearn-color-text-on-default-background: var(--sg-text-color, var(--theme-code-foreground, var(--jp-content-font-color1, white)));\n",
       "    --sklearn-color-background: var(--sg-background-color, var(--theme-background, var(--jp-layout-color0, #111)));\n",
       "    --sklearn-color-border-box: var(--sg-text-color, var(--theme-code-foreground, var(--jp-content-font-color1, white)));\n",
       "    --sklearn-color-icon: #878787;\n",
       "  }\n",
       "}\n",
       "\n",
       "#sk-container-id-1 {\n",
       "  color: var(--sklearn-color-text);\n",
       "}\n",
       "\n",
       "#sk-container-id-1 pre {\n",
       "  padding: 0;\n",
       "}\n",
       "\n",
       "#sk-container-id-1 input.sk-hidden--visually {\n",
       "  border: 0;\n",
       "  clip: rect(1px 1px 1px 1px);\n",
       "  clip: rect(1px, 1px, 1px, 1px);\n",
       "  height: 1px;\n",
       "  margin: -1px;\n",
       "  overflow: hidden;\n",
       "  padding: 0;\n",
       "  position: absolute;\n",
       "  width: 1px;\n",
       "}\n",
       "\n",
       "#sk-container-id-1 div.sk-dashed-wrapped {\n",
       "  border: 1px dashed var(--sklearn-color-line);\n",
       "  margin: 0 0.4em 0.5em 0.4em;\n",
       "  box-sizing: border-box;\n",
       "  padding-bottom: 0.4em;\n",
       "  background-color: var(--sklearn-color-background);\n",
       "}\n",
       "\n",
       "#sk-container-id-1 div.sk-container {\n",
       "  /* jupyter's `normalize.less` sets `[hidden] { display: none; }`\n",
       "     but bootstrap.min.css set `[hidden] { display: none !important; }`\n",
       "     so we also need the `!important` here to be able to override the\n",
       "     default hidden behavior on the sphinx rendered scikit-learn.org.\n",
       "     See: https://github.com/scikit-learn/scikit-learn/issues/21755 */\n",
       "  display: inline-block !important;\n",
       "  position: relative;\n",
       "}\n",
       "\n",
       "#sk-container-id-1 div.sk-text-repr-fallback {\n",
       "  display: none;\n",
       "}\n",
       "\n",
       "div.sk-parallel-item,\n",
       "div.sk-serial,\n",
       "div.sk-item {\n",
       "  /* draw centered vertical line to link estimators */\n",
       "  background-image: linear-gradient(var(--sklearn-color-text-on-default-background), var(--sklearn-color-text-on-default-background));\n",
       "  background-size: 2px 100%;\n",
       "  background-repeat: no-repeat;\n",
       "  background-position: center center;\n",
       "}\n",
       "\n",
       "/* Parallel-specific style estimator block */\n",
       "\n",
       "#sk-container-id-1 div.sk-parallel-item::after {\n",
       "  content: \"\";\n",
       "  width: 100%;\n",
       "  border-bottom: 2px solid var(--sklearn-color-text-on-default-background);\n",
       "  flex-grow: 1;\n",
       "}\n",
       "\n",
       "#sk-container-id-1 div.sk-parallel {\n",
       "  display: flex;\n",
       "  align-items: stretch;\n",
       "  justify-content: center;\n",
       "  background-color: var(--sklearn-color-background);\n",
       "  position: relative;\n",
       "}\n",
       "\n",
       "#sk-container-id-1 div.sk-parallel-item {\n",
       "  display: flex;\n",
       "  flex-direction: column;\n",
       "}\n",
       "\n",
       "#sk-container-id-1 div.sk-parallel-item:first-child::after {\n",
       "  align-self: flex-end;\n",
       "  width: 50%;\n",
       "}\n",
       "\n",
       "#sk-container-id-1 div.sk-parallel-item:last-child::after {\n",
       "  align-self: flex-start;\n",
       "  width: 50%;\n",
       "}\n",
       "\n",
       "#sk-container-id-1 div.sk-parallel-item:only-child::after {\n",
       "  width: 0;\n",
       "}\n",
       "\n",
       "/* Serial-specific style estimator block */\n",
       "\n",
       "#sk-container-id-1 div.sk-serial {\n",
       "  display: flex;\n",
       "  flex-direction: column;\n",
       "  align-items: center;\n",
       "  background-color: var(--sklearn-color-background);\n",
       "  padding-right: 1em;\n",
       "  padding-left: 1em;\n",
       "}\n",
       "\n",
       "\n",
       "/* Toggleable style: style used for estimator/Pipeline/ColumnTransformer box that is\n",
       "clickable and can be expanded/collapsed.\n",
       "- Pipeline and ColumnTransformer use this feature and define the default style\n",
       "- Estimators will overwrite some part of the style using the `sk-estimator` class\n",
       "*/\n",
       "\n",
       "/* Pipeline and ColumnTransformer style (default) */\n",
       "\n",
       "#sk-container-id-1 div.sk-toggleable {\n",
       "  /* Default theme specific background. It is overwritten whether we have a\n",
       "  specific estimator or a Pipeline/ColumnTransformer */\n",
       "  background-color: var(--sklearn-color-background);\n",
       "}\n",
       "\n",
       "/* Toggleable label */\n",
       "#sk-container-id-1 label.sk-toggleable__label {\n",
       "  cursor: pointer;\n",
       "  display: flex;\n",
       "  width: 100%;\n",
       "  margin-bottom: 0;\n",
       "  padding: 0.5em;\n",
       "  box-sizing: border-box;\n",
       "  text-align: center;\n",
       "  align-items: start;\n",
       "  justify-content: space-between;\n",
       "  gap: 0.5em;\n",
       "}\n",
       "\n",
       "#sk-container-id-1 label.sk-toggleable__label .caption {\n",
       "  font-size: 0.6rem;\n",
       "  font-weight: lighter;\n",
       "  color: var(--sklearn-color-text-muted);\n",
       "}\n",
       "\n",
       "#sk-container-id-1 label.sk-toggleable__label-arrow:before {\n",
       "  /* Arrow on the left of the label */\n",
       "  content: \"▸\";\n",
       "  float: left;\n",
       "  margin-right: 0.25em;\n",
       "  color: var(--sklearn-color-icon);\n",
       "}\n",
       "\n",
       "#sk-container-id-1 label.sk-toggleable__label-arrow:hover:before {\n",
       "  color: var(--sklearn-color-text);\n",
       "}\n",
       "\n",
       "/* Toggleable content - dropdown */\n",
       "\n",
       "#sk-container-id-1 div.sk-toggleable__content {\n",
       "  max-height: 0;\n",
       "  max-width: 0;\n",
       "  overflow: hidden;\n",
       "  text-align: left;\n",
       "  /* unfitted */\n",
       "  background-color: var(--sklearn-color-unfitted-level-0);\n",
       "}\n",
       "\n",
       "#sk-container-id-1 div.sk-toggleable__content.fitted {\n",
       "  /* fitted */\n",
       "  background-color: var(--sklearn-color-fitted-level-0);\n",
       "}\n",
       "\n",
       "#sk-container-id-1 div.sk-toggleable__content pre {\n",
       "  margin: 0.2em;\n",
       "  border-radius: 0.25em;\n",
       "  color: var(--sklearn-color-text);\n",
       "  /* unfitted */\n",
       "  background-color: var(--sklearn-color-unfitted-level-0);\n",
       "}\n",
       "\n",
       "#sk-container-id-1 div.sk-toggleable__content.fitted pre {\n",
       "  /* unfitted */\n",
       "  background-color: var(--sklearn-color-fitted-level-0);\n",
       "}\n",
       "\n",
       "#sk-container-id-1 input.sk-toggleable__control:checked~div.sk-toggleable__content {\n",
       "  /* Expand drop-down */\n",
       "  max-height: 200px;\n",
       "  max-width: 100%;\n",
       "  overflow: auto;\n",
       "}\n",
       "\n",
       "#sk-container-id-1 input.sk-toggleable__control:checked~label.sk-toggleable__label-arrow:before {\n",
       "  content: \"▾\";\n",
       "}\n",
       "\n",
       "/* Pipeline/ColumnTransformer-specific style */\n",
       "\n",
       "#sk-container-id-1 div.sk-label input.sk-toggleable__control:checked~label.sk-toggleable__label {\n",
       "  color: var(--sklearn-color-text);\n",
       "  background-color: var(--sklearn-color-unfitted-level-2);\n",
       "}\n",
       "\n",
       "#sk-container-id-1 div.sk-label.fitted input.sk-toggleable__control:checked~label.sk-toggleable__label {\n",
       "  background-color: var(--sklearn-color-fitted-level-2);\n",
       "}\n",
       "\n",
       "/* Estimator-specific style */\n",
       "\n",
       "/* Colorize estimator box */\n",
       "#sk-container-id-1 div.sk-estimator input.sk-toggleable__control:checked~label.sk-toggleable__label {\n",
       "  /* unfitted */\n",
       "  background-color: var(--sklearn-color-unfitted-level-2);\n",
       "}\n",
       "\n",
       "#sk-container-id-1 div.sk-estimator.fitted input.sk-toggleable__control:checked~label.sk-toggleable__label {\n",
       "  /* fitted */\n",
       "  background-color: var(--sklearn-color-fitted-level-2);\n",
       "}\n",
       "\n",
       "#sk-container-id-1 div.sk-label label.sk-toggleable__label,\n",
       "#sk-container-id-1 div.sk-label label {\n",
       "  /* The background is the default theme color */\n",
       "  color: var(--sklearn-color-text-on-default-background);\n",
       "}\n",
       "\n",
       "/* On hover, darken the color of the background */\n",
       "#sk-container-id-1 div.sk-label:hover label.sk-toggleable__label {\n",
       "  color: var(--sklearn-color-text);\n",
       "  background-color: var(--sklearn-color-unfitted-level-2);\n",
       "}\n",
       "\n",
       "/* Label box, darken color on hover, fitted */\n",
       "#sk-container-id-1 div.sk-label.fitted:hover label.sk-toggleable__label.fitted {\n",
       "  color: var(--sklearn-color-text);\n",
       "  background-color: var(--sklearn-color-fitted-level-2);\n",
       "}\n",
       "\n",
       "/* Estimator label */\n",
       "\n",
       "#sk-container-id-1 div.sk-label label {\n",
       "  font-family: monospace;\n",
       "  font-weight: bold;\n",
       "  display: inline-block;\n",
       "  line-height: 1.2em;\n",
       "}\n",
       "\n",
       "#sk-container-id-1 div.sk-label-container {\n",
       "  text-align: center;\n",
       "}\n",
       "\n",
       "/* Estimator-specific */\n",
       "#sk-container-id-1 div.sk-estimator {\n",
       "  font-family: monospace;\n",
       "  border: 1px dotted var(--sklearn-color-border-box);\n",
       "  border-radius: 0.25em;\n",
       "  box-sizing: border-box;\n",
       "  margin-bottom: 0.5em;\n",
       "  /* unfitted */\n",
       "  background-color: var(--sklearn-color-unfitted-level-0);\n",
       "}\n",
       "\n",
       "#sk-container-id-1 div.sk-estimator.fitted {\n",
       "  /* fitted */\n",
       "  background-color: var(--sklearn-color-fitted-level-0);\n",
       "}\n",
       "\n",
       "/* on hover */\n",
       "#sk-container-id-1 div.sk-estimator:hover {\n",
       "  /* unfitted */\n",
       "  background-color: var(--sklearn-color-unfitted-level-2);\n",
       "}\n",
       "\n",
       "#sk-container-id-1 div.sk-estimator.fitted:hover {\n",
       "  /* fitted */\n",
       "  background-color: var(--sklearn-color-fitted-level-2);\n",
       "}\n",
       "\n",
       "/* Specification for estimator info (e.g. \"i\" and \"?\") */\n",
       "\n",
       "/* Common style for \"i\" and \"?\" */\n",
       "\n",
       ".sk-estimator-doc-link,\n",
       "a:link.sk-estimator-doc-link,\n",
       "a:visited.sk-estimator-doc-link {\n",
       "  float: right;\n",
       "  font-size: smaller;\n",
       "  line-height: 1em;\n",
       "  font-family: monospace;\n",
       "  background-color: var(--sklearn-color-background);\n",
       "  border-radius: 1em;\n",
       "  height: 1em;\n",
       "  width: 1em;\n",
       "  text-decoration: none !important;\n",
       "  margin-left: 0.5em;\n",
       "  text-align: center;\n",
       "  /* unfitted */\n",
       "  border: var(--sklearn-color-unfitted-level-1) 1pt solid;\n",
       "  color: var(--sklearn-color-unfitted-level-1);\n",
       "}\n",
       "\n",
       ".sk-estimator-doc-link.fitted,\n",
       "a:link.sk-estimator-doc-link.fitted,\n",
       "a:visited.sk-estimator-doc-link.fitted {\n",
       "  /* fitted */\n",
       "  border: var(--sklearn-color-fitted-level-1) 1pt solid;\n",
       "  color: var(--sklearn-color-fitted-level-1);\n",
       "}\n",
       "\n",
       "/* On hover */\n",
       "div.sk-estimator:hover .sk-estimator-doc-link:hover,\n",
       ".sk-estimator-doc-link:hover,\n",
       "div.sk-label-container:hover .sk-estimator-doc-link:hover,\n",
       ".sk-estimator-doc-link:hover {\n",
       "  /* unfitted */\n",
       "  background-color: var(--sklearn-color-unfitted-level-3);\n",
       "  color: var(--sklearn-color-background);\n",
       "  text-decoration: none;\n",
       "}\n",
       "\n",
       "div.sk-estimator.fitted:hover .sk-estimator-doc-link.fitted:hover,\n",
       ".sk-estimator-doc-link.fitted:hover,\n",
       "div.sk-label-container:hover .sk-estimator-doc-link.fitted:hover,\n",
       ".sk-estimator-doc-link.fitted:hover {\n",
       "  /* fitted */\n",
       "  background-color: var(--sklearn-color-fitted-level-3);\n",
       "  color: var(--sklearn-color-background);\n",
       "  text-decoration: none;\n",
       "}\n",
       "\n",
       "/* Span, style for the box shown on hovering the info icon */\n",
       ".sk-estimator-doc-link span {\n",
       "  display: none;\n",
       "  z-index: 9999;\n",
       "  position: relative;\n",
       "  font-weight: normal;\n",
       "  right: .2ex;\n",
       "  padding: .5ex;\n",
       "  margin: .5ex;\n",
       "  width: min-content;\n",
       "  min-width: 20ex;\n",
       "  max-width: 50ex;\n",
       "  color: var(--sklearn-color-text);\n",
       "  box-shadow: 2pt 2pt 4pt #999;\n",
       "  /* unfitted */\n",
       "  background: var(--sklearn-color-unfitted-level-0);\n",
       "  border: .5pt solid var(--sklearn-color-unfitted-level-3);\n",
       "}\n",
       "\n",
       ".sk-estimator-doc-link.fitted span {\n",
       "  /* fitted */\n",
       "  background: var(--sklearn-color-fitted-level-0);\n",
       "  border: var(--sklearn-color-fitted-level-3);\n",
       "}\n",
       "\n",
       ".sk-estimator-doc-link:hover span {\n",
       "  display: block;\n",
       "}\n",
       "\n",
       "/* \"?\"-specific style due to the `<a>` HTML tag */\n",
       "\n",
       "#sk-container-id-1 a.estimator_doc_link {\n",
       "  float: right;\n",
       "  font-size: 1rem;\n",
       "  line-height: 1em;\n",
       "  font-family: monospace;\n",
       "  background-color: var(--sklearn-color-background);\n",
       "  border-radius: 1rem;\n",
       "  height: 1rem;\n",
       "  width: 1rem;\n",
       "  text-decoration: none;\n",
       "  /* unfitted */\n",
       "  color: var(--sklearn-color-unfitted-level-1);\n",
       "  border: var(--sklearn-color-unfitted-level-1) 1pt solid;\n",
       "}\n",
       "\n",
       "#sk-container-id-1 a.estimator_doc_link.fitted {\n",
       "  /* fitted */\n",
       "  border: var(--sklearn-color-fitted-level-1) 1pt solid;\n",
       "  color: var(--sklearn-color-fitted-level-1);\n",
       "}\n",
       "\n",
       "/* On hover */\n",
       "#sk-container-id-1 a.estimator_doc_link:hover {\n",
       "  /* unfitted */\n",
       "  background-color: var(--sklearn-color-unfitted-level-3);\n",
       "  color: var(--sklearn-color-background);\n",
       "  text-decoration: none;\n",
       "}\n",
       "\n",
       "#sk-container-id-1 a.estimator_doc_link.fitted:hover {\n",
       "  /* fitted */\n",
       "  background-color: var(--sklearn-color-fitted-level-3);\n",
       "}\n",
       "</style><div id=\"sk-container-id-1\" class=\"sk-top-container\"><div class=\"sk-text-repr-fallback\"><pre>LogisticRegression(max_iter=10000, n_jobs=-1, random_state=6)</pre><b>In a Jupyter environment, please rerun this cell to show the HTML representation or trust the notebook. <br />On GitHub, the HTML representation is unable to render, please try loading this page with nbviewer.org.</b></div><div class=\"sk-container\" hidden><div class=\"sk-item\"><div class=\"sk-estimator fitted sk-toggleable\"><input class=\"sk-toggleable__control sk-hidden--visually\" id=\"sk-estimator-id-1\" type=\"checkbox\" checked><label for=\"sk-estimator-id-1\" class=\"sk-toggleable__label fitted sk-toggleable__label-arrow\"><div><div>LogisticRegression</div></div><div><a class=\"sk-estimator-doc-link fitted\" rel=\"noreferrer\" target=\"_blank\" href=\"https://scikit-learn.org/1.6/modules/generated/sklearn.linear_model.LogisticRegression.html\">?<span>Documentation for LogisticRegression</span></a><span class=\"sk-estimator-doc-link fitted\">i<span>Fitted</span></span></div></label><div class=\"sk-toggleable__content fitted\"><pre>LogisticRegression(max_iter=10000, n_jobs=-1, random_state=6)</pre></div> </div></div></div></div>"
      ],
      "text/plain": [
       "LogisticRegression(max_iter=10000, n_jobs=-1, random_state=6)"
      ]
     },
     "execution_count": 27,
     "metadata": {},
     "output_type": "execute_result"
    }
   ],
   "source": [
    "logreg_model_base_1.fit(tf_idf_train_base_1, train['assessment'])"
   ]
  },
  {
   "cell_type": "code",
   "execution_count": 28,
   "metadata": {},
   "outputs": [],
   "source": [
    "predict_lr_base_proba = logreg_model_base_1.predict_proba(tf_idf_test_base_1)"
   ]
  },
  {
   "cell_type": "markdown",
   "metadata": {},
   "source": [
    "# Предварительное обучение моделей"
   ]
  },
  {
   "cell_type": "code",
   "execution_count": 29,
   "metadata": {},
   "outputs": [],
   "source": [
    "count_idf_lemm = TfidfVectorizer(ngram_range=(1,1))"
   ]
  },
  {
   "cell_type": "code",
   "execution_count": 30,
   "metadata": {},
   "outputs": [],
   "source": [
    "tf_idf_lemm = count_idf_lemm.fit(data['lemm_clean_review'])\n",
    "tf_idf_train_lemm = count_idf_lemm.transform(train['lemm_clean_review'])\n",
    "tf_idf_test_lemm = count_idf_lemm.transform(test['lemm_clean_review'])"
   ]
  },
  {
   "cell_type": "code",
   "execution_count": 31,
   "metadata": {},
   "outputs": [
    {
     "data": {
      "text/plain": [
       "(6000, 18081)"
      ]
     },
     "metadata": {},
     "output_type": "display_data"
    },
    {
     "data": {
      "text/plain": [
       "(1500, 18081)"
      ]
     },
     "metadata": {},
     "output_type": "display_data"
    }
   ],
   "source": [
    "display(tf_idf_train_lemm.shape)\n",
    "display(tf_idf_test_lemm.shape)"
   ]
  },
  {
   "cell_type": "code",
   "execution_count": 32,
   "metadata": {},
   "outputs": [],
   "source": [
    "model_lr_lemm = LogisticRegression(solver = 'lbfgs',\n",
    "                                    random_state = 6,\n",
    "                                    max_iter= 10000,\n",
    "                                    n_jobs= -1)"
   ]
  },
  {
   "cell_type": "code",
   "execution_count": 33,
   "metadata": {},
   "outputs": [
    {
     "data": {
      "text/html": [
       "<style>#sk-container-id-2 {\n",
       "  /* Definition of color scheme common for light and dark mode */\n",
       "  --sklearn-color-text: #000;\n",
       "  --sklearn-color-text-muted: #666;\n",
       "  --sklearn-color-line: gray;\n",
       "  /* Definition of color scheme for unfitted estimators */\n",
       "  --sklearn-color-unfitted-level-0: #fff5e6;\n",
       "  --sklearn-color-unfitted-level-1: #f6e4d2;\n",
       "  --sklearn-color-unfitted-level-2: #ffe0b3;\n",
       "  --sklearn-color-unfitted-level-3: chocolate;\n",
       "  /* Definition of color scheme for fitted estimators */\n",
       "  --sklearn-color-fitted-level-0: #f0f8ff;\n",
       "  --sklearn-color-fitted-level-1: #d4ebff;\n",
       "  --sklearn-color-fitted-level-2: #b3dbfd;\n",
       "  --sklearn-color-fitted-level-3: cornflowerblue;\n",
       "\n",
       "  /* Specific color for light theme */\n",
       "  --sklearn-color-text-on-default-background: var(--sg-text-color, var(--theme-code-foreground, var(--jp-content-font-color1, black)));\n",
       "  --sklearn-color-background: var(--sg-background-color, var(--theme-background, var(--jp-layout-color0, white)));\n",
       "  --sklearn-color-border-box: var(--sg-text-color, var(--theme-code-foreground, var(--jp-content-font-color1, black)));\n",
       "  --sklearn-color-icon: #696969;\n",
       "\n",
       "  @media (prefers-color-scheme: dark) {\n",
       "    /* Redefinition of color scheme for dark theme */\n",
       "    --sklearn-color-text-on-default-background: var(--sg-text-color, var(--theme-code-foreground, var(--jp-content-font-color1, white)));\n",
       "    --sklearn-color-background: var(--sg-background-color, var(--theme-background, var(--jp-layout-color0, #111)));\n",
       "    --sklearn-color-border-box: var(--sg-text-color, var(--theme-code-foreground, var(--jp-content-font-color1, white)));\n",
       "    --sklearn-color-icon: #878787;\n",
       "  }\n",
       "}\n",
       "\n",
       "#sk-container-id-2 {\n",
       "  color: var(--sklearn-color-text);\n",
       "}\n",
       "\n",
       "#sk-container-id-2 pre {\n",
       "  padding: 0;\n",
       "}\n",
       "\n",
       "#sk-container-id-2 input.sk-hidden--visually {\n",
       "  border: 0;\n",
       "  clip: rect(1px 1px 1px 1px);\n",
       "  clip: rect(1px, 1px, 1px, 1px);\n",
       "  height: 1px;\n",
       "  margin: -1px;\n",
       "  overflow: hidden;\n",
       "  padding: 0;\n",
       "  position: absolute;\n",
       "  width: 1px;\n",
       "}\n",
       "\n",
       "#sk-container-id-2 div.sk-dashed-wrapped {\n",
       "  border: 1px dashed var(--sklearn-color-line);\n",
       "  margin: 0 0.4em 0.5em 0.4em;\n",
       "  box-sizing: border-box;\n",
       "  padding-bottom: 0.4em;\n",
       "  background-color: var(--sklearn-color-background);\n",
       "}\n",
       "\n",
       "#sk-container-id-2 div.sk-container {\n",
       "  /* jupyter's `normalize.less` sets `[hidden] { display: none; }`\n",
       "     but bootstrap.min.css set `[hidden] { display: none !important; }`\n",
       "     so we also need the `!important` here to be able to override the\n",
       "     default hidden behavior on the sphinx rendered scikit-learn.org.\n",
       "     See: https://github.com/scikit-learn/scikit-learn/issues/21755 */\n",
       "  display: inline-block !important;\n",
       "  position: relative;\n",
       "}\n",
       "\n",
       "#sk-container-id-2 div.sk-text-repr-fallback {\n",
       "  display: none;\n",
       "}\n",
       "\n",
       "div.sk-parallel-item,\n",
       "div.sk-serial,\n",
       "div.sk-item {\n",
       "  /* draw centered vertical line to link estimators */\n",
       "  background-image: linear-gradient(var(--sklearn-color-text-on-default-background), var(--sklearn-color-text-on-default-background));\n",
       "  background-size: 2px 100%;\n",
       "  background-repeat: no-repeat;\n",
       "  background-position: center center;\n",
       "}\n",
       "\n",
       "/* Parallel-specific style estimator block */\n",
       "\n",
       "#sk-container-id-2 div.sk-parallel-item::after {\n",
       "  content: \"\";\n",
       "  width: 100%;\n",
       "  border-bottom: 2px solid var(--sklearn-color-text-on-default-background);\n",
       "  flex-grow: 1;\n",
       "}\n",
       "\n",
       "#sk-container-id-2 div.sk-parallel {\n",
       "  display: flex;\n",
       "  align-items: stretch;\n",
       "  justify-content: center;\n",
       "  background-color: var(--sklearn-color-background);\n",
       "  position: relative;\n",
       "}\n",
       "\n",
       "#sk-container-id-2 div.sk-parallel-item {\n",
       "  display: flex;\n",
       "  flex-direction: column;\n",
       "}\n",
       "\n",
       "#sk-container-id-2 div.sk-parallel-item:first-child::after {\n",
       "  align-self: flex-end;\n",
       "  width: 50%;\n",
       "}\n",
       "\n",
       "#sk-container-id-2 div.sk-parallel-item:last-child::after {\n",
       "  align-self: flex-start;\n",
       "  width: 50%;\n",
       "}\n",
       "\n",
       "#sk-container-id-2 div.sk-parallel-item:only-child::after {\n",
       "  width: 0;\n",
       "}\n",
       "\n",
       "/* Serial-specific style estimator block */\n",
       "\n",
       "#sk-container-id-2 div.sk-serial {\n",
       "  display: flex;\n",
       "  flex-direction: column;\n",
       "  align-items: center;\n",
       "  background-color: var(--sklearn-color-background);\n",
       "  padding-right: 1em;\n",
       "  padding-left: 1em;\n",
       "}\n",
       "\n",
       "\n",
       "/* Toggleable style: style used for estimator/Pipeline/ColumnTransformer box that is\n",
       "clickable and can be expanded/collapsed.\n",
       "- Pipeline and ColumnTransformer use this feature and define the default style\n",
       "- Estimators will overwrite some part of the style using the `sk-estimator` class\n",
       "*/\n",
       "\n",
       "/* Pipeline and ColumnTransformer style (default) */\n",
       "\n",
       "#sk-container-id-2 div.sk-toggleable {\n",
       "  /* Default theme specific background. It is overwritten whether we have a\n",
       "  specific estimator or a Pipeline/ColumnTransformer */\n",
       "  background-color: var(--sklearn-color-background);\n",
       "}\n",
       "\n",
       "/* Toggleable label */\n",
       "#sk-container-id-2 label.sk-toggleable__label {\n",
       "  cursor: pointer;\n",
       "  display: flex;\n",
       "  width: 100%;\n",
       "  margin-bottom: 0;\n",
       "  padding: 0.5em;\n",
       "  box-sizing: border-box;\n",
       "  text-align: center;\n",
       "  align-items: start;\n",
       "  justify-content: space-between;\n",
       "  gap: 0.5em;\n",
       "}\n",
       "\n",
       "#sk-container-id-2 label.sk-toggleable__label .caption {\n",
       "  font-size: 0.6rem;\n",
       "  font-weight: lighter;\n",
       "  color: var(--sklearn-color-text-muted);\n",
       "}\n",
       "\n",
       "#sk-container-id-2 label.sk-toggleable__label-arrow:before {\n",
       "  /* Arrow on the left of the label */\n",
       "  content: \"▸\";\n",
       "  float: left;\n",
       "  margin-right: 0.25em;\n",
       "  color: var(--sklearn-color-icon);\n",
       "}\n",
       "\n",
       "#sk-container-id-2 label.sk-toggleable__label-arrow:hover:before {\n",
       "  color: var(--sklearn-color-text);\n",
       "}\n",
       "\n",
       "/* Toggleable content - dropdown */\n",
       "\n",
       "#sk-container-id-2 div.sk-toggleable__content {\n",
       "  max-height: 0;\n",
       "  max-width: 0;\n",
       "  overflow: hidden;\n",
       "  text-align: left;\n",
       "  /* unfitted */\n",
       "  background-color: var(--sklearn-color-unfitted-level-0);\n",
       "}\n",
       "\n",
       "#sk-container-id-2 div.sk-toggleable__content.fitted {\n",
       "  /* fitted */\n",
       "  background-color: var(--sklearn-color-fitted-level-0);\n",
       "}\n",
       "\n",
       "#sk-container-id-2 div.sk-toggleable__content pre {\n",
       "  margin: 0.2em;\n",
       "  border-radius: 0.25em;\n",
       "  color: var(--sklearn-color-text);\n",
       "  /* unfitted */\n",
       "  background-color: var(--sklearn-color-unfitted-level-0);\n",
       "}\n",
       "\n",
       "#sk-container-id-2 div.sk-toggleable__content.fitted pre {\n",
       "  /* unfitted */\n",
       "  background-color: var(--sklearn-color-fitted-level-0);\n",
       "}\n",
       "\n",
       "#sk-container-id-2 input.sk-toggleable__control:checked~div.sk-toggleable__content {\n",
       "  /* Expand drop-down */\n",
       "  max-height: 200px;\n",
       "  max-width: 100%;\n",
       "  overflow: auto;\n",
       "}\n",
       "\n",
       "#sk-container-id-2 input.sk-toggleable__control:checked~label.sk-toggleable__label-arrow:before {\n",
       "  content: \"▾\";\n",
       "}\n",
       "\n",
       "/* Pipeline/ColumnTransformer-specific style */\n",
       "\n",
       "#sk-container-id-2 div.sk-label input.sk-toggleable__control:checked~label.sk-toggleable__label {\n",
       "  color: var(--sklearn-color-text);\n",
       "  background-color: var(--sklearn-color-unfitted-level-2);\n",
       "}\n",
       "\n",
       "#sk-container-id-2 div.sk-label.fitted input.sk-toggleable__control:checked~label.sk-toggleable__label {\n",
       "  background-color: var(--sklearn-color-fitted-level-2);\n",
       "}\n",
       "\n",
       "/* Estimator-specific style */\n",
       "\n",
       "/* Colorize estimator box */\n",
       "#sk-container-id-2 div.sk-estimator input.sk-toggleable__control:checked~label.sk-toggleable__label {\n",
       "  /* unfitted */\n",
       "  background-color: var(--sklearn-color-unfitted-level-2);\n",
       "}\n",
       "\n",
       "#sk-container-id-2 div.sk-estimator.fitted input.sk-toggleable__control:checked~label.sk-toggleable__label {\n",
       "  /* fitted */\n",
       "  background-color: var(--sklearn-color-fitted-level-2);\n",
       "}\n",
       "\n",
       "#sk-container-id-2 div.sk-label label.sk-toggleable__label,\n",
       "#sk-container-id-2 div.sk-label label {\n",
       "  /* The background is the default theme color */\n",
       "  color: var(--sklearn-color-text-on-default-background);\n",
       "}\n",
       "\n",
       "/* On hover, darken the color of the background */\n",
       "#sk-container-id-2 div.sk-label:hover label.sk-toggleable__label {\n",
       "  color: var(--sklearn-color-text);\n",
       "  background-color: var(--sklearn-color-unfitted-level-2);\n",
       "}\n",
       "\n",
       "/* Label box, darken color on hover, fitted */\n",
       "#sk-container-id-2 div.sk-label.fitted:hover label.sk-toggleable__label.fitted {\n",
       "  color: var(--sklearn-color-text);\n",
       "  background-color: var(--sklearn-color-fitted-level-2);\n",
       "}\n",
       "\n",
       "/* Estimator label */\n",
       "\n",
       "#sk-container-id-2 div.sk-label label {\n",
       "  font-family: monospace;\n",
       "  font-weight: bold;\n",
       "  display: inline-block;\n",
       "  line-height: 1.2em;\n",
       "}\n",
       "\n",
       "#sk-container-id-2 div.sk-label-container {\n",
       "  text-align: center;\n",
       "}\n",
       "\n",
       "/* Estimator-specific */\n",
       "#sk-container-id-2 div.sk-estimator {\n",
       "  font-family: monospace;\n",
       "  border: 1px dotted var(--sklearn-color-border-box);\n",
       "  border-radius: 0.25em;\n",
       "  box-sizing: border-box;\n",
       "  margin-bottom: 0.5em;\n",
       "  /* unfitted */\n",
       "  background-color: var(--sklearn-color-unfitted-level-0);\n",
       "}\n",
       "\n",
       "#sk-container-id-2 div.sk-estimator.fitted {\n",
       "  /* fitted */\n",
       "  background-color: var(--sklearn-color-fitted-level-0);\n",
       "}\n",
       "\n",
       "/* on hover */\n",
       "#sk-container-id-2 div.sk-estimator:hover {\n",
       "  /* unfitted */\n",
       "  background-color: var(--sklearn-color-unfitted-level-2);\n",
       "}\n",
       "\n",
       "#sk-container-id-2 div.sk-estimator.fitted:hover {\n",
       "  /* fitted */\n",
       "  background-color: var(--sklearn-color-fitted-level-2);\n",
       "}\n",
       "\n",
       "/* Specification for estimator info (e.g. \"i\" and \"?\") */\n",
       "\n",
       "/* Common style for \"i\" and \"?\" */\n",
       "\n",
       ".sk-estimator-doc-link,\n",
       "a:link.sk-estimator-doc-link,\n",
       "a:visited.sk-estimator-doc-link {\n",
       "  float: right;\n",
       "  font-size: smaller;\n",
       "  line-height: 1em;\n",
       "  font-family: monospace;\n",
       "  background-color: var(--sklearn-color-background);\n",
       "  border-radius: 1em;\n",
       "  height: 1em;\n",
       "  width: 1em;\n",
       "  text-decoration: none !important;\n",
       "  margin-left: 0.5em;\n",
       "  text-align: center;\n",
       "  /* unfitted */\n",
       "  border: var(--sklearn-color-unfitted-level-1) 1pt solid;\n",
       "  color: var(--sklearn-color-unfitted-level-1);\n",
       "}\n",
       "\n",
       ".sk-estimator-doc-link.fitted,\n",
       "a:link.sk-estimator-doc-link.fitted,\n",
       "a:visited.sk-estimator-doc-link.fitted {\n",
       "  /* fitted */\n",
       "  border: var(--sklearn-color-fitted-level-1) 1pt solid;\n",
       "  color: var(--sklearn-color-fitted-level-1);\n",
       "}\n",
       "\n",
       "/* On hover */\n",
       "div.sk-estimator:hover .sk-estimator-doc-link:hover,\n",
       ".sk-estimator-doc-link:hover,\n",
       "div.sk-label-container:hover .sk-estimator-doc-link:hover,\n",
       ".sk-estimator-doc-link:hover {\n",
       "  /* unfitted */\n",
       "  background-color: var(--sklearn-color-unfitted-level-3);\n",
       "  color: var(--sklearn-color-background);\n",
       "  text-decoration: none;\n",
       "}\n",
       "\n",
       "div.sk-estimator.fitted:hover .sk-estimator-doc-link.fitted:hover,\n",
       ".sk-estimator-doc-link.fitted:hover,\n",
       "div.sk-label-container:hover .sk-estimator-doc-link.fitted:hover,\n",
       ".sk-estimator-doc-link.fitted:hover {\n",
       "  /* fitted */\n",
       "  background-color: var(--sklearn-color-fitted-level-3);\n",
       "  color: var(--sklearn-color-background);\n",
       "  text-decoration: none;\n",
       "}\n",
       "\n",
       "/* Span, style for the box shown on hovering the info icon */\n",
       ".sk-estimator-doc-link span {\n",
       "  display: none;\n",
       "  z-index: 9999;\n",
       "  position: relative;\n",
       "  font-weight: normal;\n",
       "  right: .2ex;\n",
       "  padding: .5ex;\n",
       "  margin: .5ex;\n",
       "  width: min-content;\n",
       "  min-width: 20ex;\n",
       "  max-width: 50ex;\n",
       "  color: var(--sklearn-color-text);\n",
       "  box-shadow: 2pt 2pt 4pt #999;\n",
       "  /* unfitted */\n",
       "  background: var(--sklearn-color-unfitted-level-0);\n",
       "  border: .5pt solid var(--sklearn-color-unfitted-level-3);\n",
       "}\n",
       "\n",
       ".sk-estimator-doc-link.fitted span {\n",
       "  /* fitted */\n",
       "  background: var(--sklearn-color-fitted-level-0);\n",
       "  border: var(--sklearn-color-fitted-level-3);\n",
       "}\n",
       "\n",
       ".sk-estimator-doc-link:hover span {\n",
       "  display: block;\n",
       "}\n",
       "\n",
       "/* \"?\"-specific style due to the `<a>` HTML tag */\n",
       "\n",
       "#sk-container-id-2 a.estimator_doc_link {\n",
       "  float: right;\n",
       "  font-size: 1rem;\n",
       "  line-height: 1em;\n",
       "  font-family: monospace;\n",
       "  background-color: var(--sklearn-color-background);\n",
       "  border-radius: 1rem;\n",
       "  height: 1rem;\n",
       "  width: 1rem;\n",
       "  text-decoration: none;\n",
       "  /* unfitted */\n",
       "  color: var(--sklearn-color-unfitted-level-1);\n",
       "  border: var(--sklearn-color-unfitted-level-1) 1pt solid;\n",
       "}\n",
       "\n",
       "#sk-container-id-2 a.estimator_doc_link.fitted {\n",
       "  /* fitted */\n",
       "  border: var(--sklearn-color-fitted-level-1) 1pt solid;\n",
       "  color: var(--sklearn-color-fitted-level-1);\n",
       "}\n",
       "\n",
       "/* On hover */\n",
       "#sk-container-id-2 a.estimator_doc_link:hover {\n",
       "  /* unfitted */\n",
       "  background-color: var(--sklearn-color-unfitted-level-3);\n",
       "  color: var(--sklearn-color-background);\n",
       "  text-decoration: none;\n",
       "}\n",
       "\n",
       "#sk-container-id-2 a.estimator_doc_link.fitted:hover {\n",
       "  /* fitted */\n",
       "  background-color: var(--sklearn-color-fitted-level-3);\n",
       "}\n",
       "</style><div id=\"sk-container-id-2\" class=\"sk-top-container\"><div class=\"sk-text-repr-fallback\"><pre>LogisticRegression(max_iter=10000, n_jobs=-1, random_state=6)</pre><b>In a Jupyter environment, please rerun this cell to show the HTML representation or trust the notebook. <br />On GitHub, the HTML representation is unable to render, please try loading this page with nbviewer.org.</b></div><div class=\"sk-container\" hidden><div class=\"sk-item\"><div class=\"sk-estimator fitted sk-toggleable\"><input class=\"sk-toggleable__control sk-hidden--visually\" id=\"sk-estimator-id-2\" type=\"checkbox\" checked><label for=\"sk-estimator-id-2\" class=\"sk-toggleable__label fitted sk-toggleable__label-arrow\"><div><div>LogisticRegression</div></div><div><a class=\"sk-estimator-doc-link fitted\" rel=\"noreferrer\" target=\"_blank\" href=\"https://scikit-learn.org/1.6/modules/generated/sklearn.linear_model.LogisticRegression.html\">?<span>Documentation for LogisticRegression</span></a><span class=\"sk-estimator-doc-link fitted\">i<span>Fitted</span></span></div></label><div class=\"sk-toggleable__content fitted\"><pre>LogisticRegression(max_iter=10000, n_jobs=-1, random_state=6)</pre></div> </div></div></div></div>"
      ],
      "text/plain": [
       "LogisticRegression(max_iter=10000, n_jobs=-1, random_state=6)"
      ]
     },
     "execution_count": 33,
     "metadata": {},
     "output_type": "execute_result"
    }
   ],
   "source": [
    "model_lr_lemm.fit(tf_idf_train_lemm, train['assessment'])"
   ]
  },
  {
   "cell_type": "code",
   "execution_count": 34,
   "metadata": {},
   "outputs": [],
   "source": [
    "predict_lr_lemm_proba = model_lr_lemm.predict_proba(tf_idf_test_lemm)"
   ]
  },
  {
   "cell_type": "markdown",
   "metadata": {},
   "source": [
    "Сравним с классификатором, который выбирает случайное число от 0 до 1"
   ]
  },
  {
   "cell_type": "code",
   "execution_count": 35,
   "metadata": {},
   "outputs": [],
   "source": [
    "def coin_classifier(X:np.array) -> np.array:\n",
    "    predict = np.random.uniform(0.0, 1.0, X.shape[0])\n",
    "    return predict"
   ]
  },
  {
   "cell_type": "code",
   "execution_count": 36,
   "metadata": {},
   "outputs": [],
   "source": [
    "coin_predict = coin_classifier(tf_idf_test_base_1)"
   ]
  },
  {
   "cell_type": "code",
   "execution_count": 37,
   "metadata": {},
   "outputs": [
    {
     "data": {
      "image/png": "[encoded data removed]",
      "text/plain": [
       "<Figure size 800x600 with 1 Axes>"
      ]
     },
     "metadata": {},
     "output_type": "display_data"
    }
   ],
   "source": [
    "fif = plt.figure(figsize = (8, 6))\n",
    "\n",
    "pd.Series(coin_predict)\\\n",
    "                .hist(bins = 100,\n",
    "                      alpha = 0.9,\n",
    "                      color = 'r',\n",
    "                      label = 'Coin'\n",
    "                     )\n",
    "\n",
    "pd.Series(predict_lr_base_proba[:, 1])\\\n",
    "                .hist(bins = 100,\n",
    "                      alpha = 0.9,\n",
    "                      color = 'b',\n",
    "                      label = 'TF-IDF LogisticRegression'\n",
    "                     )\n",
    "plt.legend()   \n",
    "plt.show()"
   ]
  },
  {
   "cell_type": "markdown",
   "metadata": {},
   "source": [
    "# Визуализация ROC-кривых классификаторов и матрицы ошибок"
   ]
  },
  {
   "cell_type": "code",
   "execution_count": 38,
   "metadata": {},
   "outputs": [],
   "source": [
    "fpr_base, tpr_base, _ = roc_curve(test['assessment'], predict_lr_base_proba[:, 1])\n",
    "roc_auc_base = auc(fpr_base, tpr_base)"
   ]
  },
  {
   "cell_type": "code",
   "execution_count": 39,
   "metadata": {},
   "outputs": [],
   "source": [
    "fpr_lemm, tpr_lemm, _ = roc_curve(test['assessment'], predict_lr_lemm_proba[:, 1])\n",
    "roc_auc_lemm = auc(fpr_lemm, tpr_lemm)"
   ]
  },
  {
   "cell_type": "code",
   "execution_count": 40,
   "metadata": {},
   "outputs": [],
   "source": [
    "fpr_coin, tpr_coin, _ = roc_curve(test['assessment'], coin_predict)\n",
    "roc_auc_coin = auc(fpr_base, tpr_base)"
   ]
  },
  {
   "cell_type": "code",
   "execution_count": 41,
   "metadata": {},
   "outputs": [
    {
     "data": {
      "application/vnd.plotly.v1+json": {
       "config": {
        "plotlyServerURL": "https://plot.ly"
       },
       "data": [
        {
         "fill": "tozeroy",
         "name": "ROC lemm (area = 0.918)",
         "type": "scatter",
         "x": {
          "bdata": "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",
          "dtype": "f8"
         },
         "y": {
          "bdata": "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",
          "dtype": "f8"
         }
        },
        {
         "name": "ROC base (area = 0.930)",
         "type": "scatter",
         "x": {
          "bdata": "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",
          "dtype": "f8"
         },
         "y": {
          "bdata": "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",
          "dtype": "f8"
         }
        },
        {
         "line": {
          "dash": "dash"
         },
         "mode": "lines",
         "name": "Coin classifier (area = 0.5)",
         "type": "scatter",
         "x": {
          "bdata": "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",
          "dtype": "f8"
         },
         "y": {
          "bdata": "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",
          "dtype": "f8"
         }
        }
       ],
       "layout": {
        "annotations": [
         {
          "font": {
           "size": 16
          },
          "showarrow": false,
          "text": "Receiver operating characteristic",
          "x": 0.5,
          "xanchor": "center",
          "xref": "paper",
          "y": 1,
          "yanchor": "bottom",
          "yref": "paper"
         },
         {
          "font": {
           "size": 16
          },
          "showarrow": false,
          "text": "False Positive Rate",
          "x": 0.5,
          "xanchor": "center",
          "xref": "paper",
          "y": 0,
          "yanchor": "top",
          "yref": "paper",
          "yshift": -30
         },
         {
          "font": {
           "size": 16
          },
          "showarrow": false,
          "text": "True Positive Rate",
          "textangle": -90,
          "x": 0,
          "xanchor": "right",
          "xref": "paper",
          "xshift": -40,
          "y": 0.5,
          "yanchor": "middle",
          "yref": "paper"
         }
        ],
        "font": {
         "color": "rgba(212, 210, 210, 1)"
        },
        "height": 600,
        "template": {
         "data": {
          "bar": [
           {
            "error_x": {
             "color": "#f2f5fa"
            },
            "error_y": {
             "color": "#f2f5fa"
            },
            "marker": {
             "line": {
              "color": "rgb(17,17,17)",
              "width": 0.5
             },
             "pattern": {
              "fillmode": "overlay",
              "size": 10,
              "solidity": 0.2
             }
            },
            "type": "bar"
           }
          ],
          "barpolar": [
           {
            "marker": {
             "line": {
              "color": "rgb(17,17,17)",
              "width": 0.5
             },
             "pattern": {
              "fillmode": "overlay",
              "size": 10,
              "solidity": 0.2
             }
            },
            "type": "barpolar"
           }
          ],
          "carpet": [
           {
            "aaxis": {
             "endlinecolor": "#A2B1C6",
             "gridcolor": "#506784",
             "linecolor": "#506784",
             "minorgridcolor": "#506784",
             "startlinecolor": "#A2B1C6"
            },
            "baxis": {
             "endlinecolor": "#A2B1C6",
             "gridcolor": "#506784",
             "linecolor": "#506784",
             "minorgridcolor": "#506784",
             "startlinecolor": "#A2B1C6"
            },
            "type": "carpet"
           }
          ],
          "choropleth": [
           {
            "colorbar": {
             "outlinewidth": 0,
             "ticks": ""
            },
            "type": "choropleth"
           }
          ],
          "contour": [
           {
            "colorbar": {
             "outlinewidth": 0,
             "ticks": ""
            },
            "colorscale": [
             [
              0,
              "#0d0887"
             ],
             [
              0.1111111111111111,
              "#46039f"
             ],
             [
              0.2222222222222222,
              "#7201a8"
             ],
             [
              0.3333333333333333,
              "#9c179e"
             ],
             [
              0.4444444444444444,
              "#bd3786"
             ],
             [
              0.5555555555555556,
              "#d8576b"
             ],
             [
              0.6666666666666666,
              "#ed7953"
             ],
             [
              0.7777777777777778,
              "#fb9f3a"
             ],
             [
              0.8888888888888888,
              "#fdca26"
             ],
             [
              1,
              "#f0f921"
             ]
            ],
            "type": "contour"
           }
          ],
          "contourcarpet": [
           {
            "colorbar": {
             "outlinewidth": 0,
             "ticks": ""
            },
            "type": "contourcarpet"
           }
          ],
          "heatmap": [
           {
            "colorbar": {
             "outlinewidth": 0,
             "ticks": ""
            },
            "colorscale": [
             [
              0,
              "#0d0887"
             ],
             [
              0.1111111111111111,
              "#46039f"
             ],
             [
              0.2222222222222222,
              "#7201a8"
             ],
             [
              0.3333333333333333,
              "#9c179e"
             ],
             [
              0.4444444444444444,
              "#bd3786"
             ],
             [
              0.5555555555555556,
              "#d8576b"
             ],
             [
              0.6666666666666666,
              "#ed7953"
             ],
             [
              0.7777777777777778,
              "#fb9f3a"
             ],
             [
              0.8888888888888888,
              "#fdca26"
             ],
             [
              1,
              "#f0f921"
             ]
            ],
            "type": "heatmap"
           }
          ],
          "histogram": [
           {
            "marker": {
             "pattern": {
              "fillmode": "overlay",
              "size": 10,
              "solidity": 0.2
             }
            },
            "type": "histogram"
           }
          ],
          "histogram2d": [
           {
            "colorbar": {
             "outlinewidth": 0,
             "ticks": ""
            },
            "colorscale": [
             [
              0,
              "#0d0887"
             ],
             [
              0.1111111111111111,
              "#46039f"
             ],
             [
              0.2222222222222222,
              "#7201a8"
             ],
             [
              0.3333333333333333,
              "#9c179e"
             ],
             [
              0.4444444444444444,
              "#bd3786"
             ],
             [
              0.5555555555555556,
              "#d8576b"
             ],
             [
              0.6666666666666666,
              "#ed7953"
             ],
             [
              0.7777777777777778,
              "#fb9f3a"
             ],
             [
              0.8888888888888888,
              "#fdca26"
             ],
             [
              1,
              "#f0f921"
             ]
            ],
            "type": "histogram2d"
           }
          ],
          "histogram2dcontour": [
           {
            "colorbar": {
             "outlinewidth": 0,
             "ticks": ""
            },
            "colorscale": [
             [
              0,
              "#0d0887"
             ],
             [
              0.1111111111111111,
              "#46039f"
             ],
             [
              0.2222222222222222,
              "#7201a8"
             ],
             [
              0.3333333333333333,
              "#9c179e"
             ],
             [
              0.4444444444444444,
              "#bd3786"
             ],
             [
              0.5555555555555556,
              "#d8576b"
             ],
             [
              0.6666666666666666,
              "#ed7953"
             ],
             [
              0.7777777777777778,
              "#fb9f3a"
             ],
             [
              0.8888888888888888,
              "#fdca26"
             ],
             [
              1,
              "#f0f921"
             ]
            ],
            "type": "histogram2dcontour"
           }
          ],
          "mesh3d": [
           {
            "colorbar": {
             "outlinewidth": 0,
             "ticks": ""
            },
            "type": "mesh3d"
           }
          ],
          "parcoords": [
           {
            "line": {
             "colorbar": {
              "outlinewidth": 0,
              "ticks": ""
             }
            },
            "type": "parcoords"
           }
          ],
          "pie": [
           {
            "automargin": true,
            "type": "pie"
           }
          ],
          "scatter": [
           {
            "marker": {
             "line": {
              "color": "#283442"
             }
            },
            "type": "scatter"
           }
          ],
          "scatter3d": [
           {
            "line": {
             "colorbar": {
              "outlinewidth": 0,
              "ticks": ""
             }
            },
            "marker": {
             "colorbar": {
              "outlinewidth": 0,
              "ticks": ""
             }
            },
            "type": "scatter3d"
           }
          ],
          "scattercarpet": [
           {
            "marker": {
             "colorbar": {
              "outlinewidth": 0,
              "ticks": ""
             }
            },
            "type": "scattercarpet"
           }
          ],
          "scattergeo": [
           {
            "marker": {
             "colorbar": {
              "outlinewidth": 0,
              "ticks": ""
             }
            },
            "type": "scattergeo"
           }
          ],
          "scattergl": [
           {
            "marker": {
             "line": {
              "color": "#283442"
             }
            },
            "type": "scattergl"
           }
          ],
          "scattermap": [
           {
            "marker": {
             "colorbar": {
              "outlinewidth": 0,
              "ticks": ""
             }
            },
            "type": "scattermap"
           }
          ],
          "scattermapbox": [
           {
            "marker": {
             "colorbar": {
              "outlinewidth": 0,
              "ticks": ""
             }
            },
            "type": "scattermapbox"
           }
          ],
          "scatterpolar": [
           {
            "marker": {
             "colorbar": {
              "outlinewidth": 0,
              "ticks": ""
             }
            },
            "type": "scatterpolar"
           }
          ],
          "scatterpolargl": [
           {
            "marker": {
             "colorbar": {
              "outlinewidth": 0,
              "ticks": ""
             }
            },
            "type": "scatterpolargl"
           }
          ],
          "scatterternary": [
           {
            "marker": {
             "colorbar": {
              "outlinewidth": 0,
              "ticks": ""
             }
            },
            "type": "scatterternary"
           }
          ],
          "surface": [
           {
            "colorbar": {
             "outlinewidth": 0,
             "ticks": ""
            },
            "colorscale": [
             [
              0,
              "#0d0887"
             ],
             [
              0.1111111111111111,
              "#46039f"
             ],
             [
              0.2222222222222222,
              "#7201a8"
             ],
             [
              0.3333333333333333,
              "#9c179e"
             ],
             [
              0.4444444444444444,
              "#bd3786"
             ],
             [
              0.5555555555555556,
              "#d8576b"
             ],
             [
              0.6666666666666666,
              "#ed7953"
             ],
             [
              0.7777777777777778,
              "#fb9f3a"
             ],
             [
              0.8888888888888888,
              "#fdca26"
             ],
             [
              1,
              "#f0f921"
             ]
            ],
            "type": "surface"
           }
          ],
          "table": [
           {
            "cells": {
             "fill": {
              "color": "#506784"
             },
             "line": {
              "color": "rgb(17,17,17)"
             }
            },
            "header": {
             "fill": {
              "color": "#2a3f5f"
             },
             "line": {
              "color": "rgb(17,17,17)"
             }
            },
            "type": "table"
           }
          ]
         },
         "layout": {
          "annotationdefaults": {
           "arrowcolor": "#f2f5fa",
           "arrowhead": 0,
           "arrowwidth": 1
          },
          "autotypenumbers": "strict",
          "coloraxis": {
           "colorbar": {
            "outlinewidth": 0,
            "ticks": ""
           }
          },
          "colorscale": {
           "diverging": [
            [
             0,
             "#8e0152"
            ],
            [
             0.1,
             "#c51b7d"
            ],
            [
             0.2,
             "#de77ae"
            ],
            [
             0.3,
             "#f1b6da"
            ],
            [
             0.4,
             "#fde0ef"
            ],
            [
             0.5,
             "#f7f7f7"
            ],
            [
             0.6,
             "#e6f5d0"
            ],
            [
             0.7,
             "#b8e186"
            ],
            [
             0.8,
             "#7fbc41"
            ],
            [
             0.9,
             "#4d9221"
            ],
            [
             1,
             "#276419"
            ]
           ],
           "sequential": [
            [
             0,
             "#0d0887"
            ],
            [
             0.1111111111111111,
             "#46039f"
            ],
            [
             0.2222222222222222,
             "#7201a8"
            ],
            [
             0.3333333333333333,
             "#9c179e"
            ],
            [
             0.4444444444444444,
             "#bd3786"
            ],
            [
             0.5555555555555556,
             "#d8576b"
            ],
            [
             0.6666666666666666,
             "#ed7953"
            ],
            [
             0.7777777777777778,
             "#fb9f3a"
            ],
            [
             0.8888888888888888,
             "#fdca26"
            ],
            [
             1,
             "#f0f921"
            ]
           ],
           "sequentialminus": [
            [
             0,
             "#0d0887"
            ],
            [
             0.1111111111111111,
             "#46039f"
            ],
            [
             0.2222222222222222,
             "#7201a8"
            ],
            [
             0.3333333333333333,
             "#9c179e"
            ],
            [
             0.4444444444444444,
             "#bd3786"
            ],
            [
             0.5555555555555556,
             "#d8576b"
            ],
            [
             0.6666666666666666,
             "#ed7953"
            ],
            [
             0.7777777777777778,
             "#fb9f3a"
            ],
            [
             0.8888888888888888,
             "#fdca26"
            ],
            [
             1,
             "#f0f921"
            ]
           ]
          },
          "colorway": [
           "#636efa",
           "#EF553B",
           "#00cc96",
           "#ab63fa",
           "#FFA15A",
           "#19d3f3",
           "#FF6692",
           "#B6E880",
           "#FF97FF",
           "#FECB52"
          ],
          "font": {
           "color": "#f2f5fa"
          },
          "geo": {
           "bgcolor": "rgb(17,17,17)",
           "lakecolor": "rgb(17,17,17)",
           "landcolor": "rgb(17,17,17)",
           "showlakes": true,
           "showland": true,
           "subunitcolor": "#506784"
          },
          "hoverlabel": {
           "align": "left"
          },
          "hovermode": "closest",
          "mapbox": {
           "style": "dark"
          },
          "paper_bgcolor": "rgb(17,17,17)",
          "plot_bgcolor": "rgb(17,17,17)",
          "polar": {
           "angularaxis": {
            "gridcolor": "#506784",
            "linecolor": "#506784",
            "ticks": ""
           },
           "bgcolor": "rgb(17,17,17)",
           "radialaxis": {
            "gridcolor": "#506784",
            "linecolor": "#506784",
            "ticks": ""
           }
          },
          "scene": {
           "xaxis": {
            "backgroundcolor": "rgb(17,17,17)",
            "gridcolor": "#506784",
            "gridwidth": 2,
            "linecolor": "#506784",
            "showbackground": true,
            "ticks": "",
            "zerolinecolor": "#C8D4E3"
           },
           "yaxis": {
            "backgroundcolor": "rgb(17,17,17)",
            "gridcolor": "#506784",
            "gridwidth": 2,
            "linecolor": "#506784",
            "showbackground": true,
            "ticks": "",
            "zerolinecolor": "#C8D4E3"
           },
           "zaxis": {
            "backgroundcolor": "rgb(17,17,17)",
            "gridcolor": "#506784",
            "gridwidth": 2,
            "linecolor": "#506784",
            "showbackground": true,
            "ticks": "",
            "zerolinecolor": "#C8D4E3"
           }
          },
          "shapedefaults": {
           "line": {
            "color": "#f2f5fa"
           }
          },
          "sliderdefaults": {
           "bgcolor": "#C8D4E3",
           "bordercolor": "rgb(17,17,17)",
           "borderwidth": 1,
           "tickwidth": 0
          },
          "ternary": {
           "aaxis": {
            "gridcolor": "#506784",
            "linecolor": "#506784",
            "ticks": ""
           },
           "baxis": {
            "gridcolor": "#506784",
            "linecolor": "#506784",
            "ticks": ""
           },
           "bgcolor": "rgb(17,17,17)",
           "caxis": {
            "gridcolor": "#506784",
            "linecolor": "#506784",
            "ticks": ""
           }
          },
          "title": {
           "x": 0.05
          },
          "updatemenudefaults": {
           "bgcolor": "#506784",
           "borderwidth": 0
          },
          "xaxis": {
           "automargin": true,
           "gridcolor": "#283442",
           "linecolor": "#506784",
           "ticks": "",
           "title": {
            "standoff": 15
           },
           "zerolinecolor": "#283442",
           "zerolinewidth": 2
          },
          "yaxis": {
           "automargin": true,
           "gridcolor": "#283442",
           "linecolor": "#506784",
           "ticks": "",
           "title": {
            "standoff": 15
           },
           "zerolinecolor": "#283442",
           "zerolinewidth": 2
          }
         }
        },
        "width": 800,
        "xaxis": {
         "anchor": "y",
         "domain": [
          0,
          1
         ],
         "showgrid": false,
         "zeroline": false
        },
        "yaxis": {
         "anchor": "x",
         "domain": [
          0,
          1
         ]
        }
       }
      }
     },
     "metadata": {},
     "output_type": "display_data"
    }
   ],
   "source": [
    "fig = make_subplots(1,1,\n",
    "                    subplot_titles = [\"Receiver operating characteristic\"],\n",
    "                    x_title=\"False Positive Rate\",\n",
    "                    y_title = \"True Positive Rate\"\n",
    "                   )\n",
    "\n",
    "fig.add_trace(go.Scatter(\n",
    "    x = fpr_lemm,\n",
    "    y = tpr_lemm,\n",
    "    fill = 'tozeroy',\n",
    "    name = \"ROC lemm (area = %0.3f)\" % roc_auc_lemm,\n",
    "    ))\n",
    "\n",
    "fig.add_trace(go.Scatter(\n",
    "    x = fpr_base,\n",
    "    y = tpr_base,\n",
    "    #fill = 'tozeroy',\n",
    "    name = \"ROC base (area = %0.3f)\" % roc_auc_base,\n",
    "    ))\n",
    "\n",
    "fig.add_trace(go.Scatter(\n",
    "    x = fpr_coin,\n",
    "    y = tpr_coin,\n",
    "    mode = 'lines',\n",
    "    line = dict(dash = 'dash'),\n",
    "    name = 'Coin classifier (area = 0.5)'\n",
    "    ))\n",
    "\n",
    "\n",
    "fig.update_layout(\n",
    "    height = 600,\n",
    "    width = 800,\n",
    "    xaxis_showgrid=False,\n",
    "    xaxis_zeroline=False,\n",
    "    template = 'plotly_dark',\n",
    "    font_color = 'rgba(212, 210, 210, 1)'\n",
    "    )"
   ]
  },
  {
   "cell_type": "code",
   "execution_count": 42,
   "metadata": {},
   "outputs": [
    {
     "data": {
      "text/plain": [
       "array([[0.82578875, 0.17421125],\n",
       "       [0.10635538, 0.89364462]])"
      ]
     },
     "execution_count": 42,
     "metadata": {},
     "output_type": "execute_result"
    }
   ],
   "source": [
    "# Выведем матрицы ошибок\n",
    "matrix1 = confusion_matrix(test['assessment'],\n",
    "                 (predict_lr_base_proba[:, 1] > 0.5).astype('float'),\n",
    "                 normalize='true',\n",
    "                )\n",
    "matrix1"
   ]
  },
  {
   "cell_type": "code",
   "execution_count": 43,
   "metadata": {},
   "outputs": [
    {
     "data": {
      "text/plain": [
       "array([[0.78326475, 0.21673525],\n",
       "       [0.10505837, 0.89494163]])"
      ]
     },
     "execution_count": 43,
     "metadata": {},
     "output_type": "execute_result"
    }
   ],
   "source": [
    "# Выведем матрицы ошибок для лим\n",
    "matrix2 = confusion_matrix(test['assessment'],\n",
    "                 (predict_lr_lemm_proba[:, 1] > 0.5).astype('float'),\n",
    "                 normalize='true',\n",
    "                )\n",
    "matrix2"
   ]
  },
  {
   "cell_type": "markdown",
   "metadata": {},
   "source": [
    "Красивая матрица ошибок"
   ]
  },
  {
   "cell_type": "code",
   "execution_count": 44,
   "metadata": {},
   "outputs": [
    {
     "data": {
      "application/vnd.plotly.v1+json": {
       "config": {
        "plotlyServerURL": "https://plot.ly"
       },
       "data": [
        {
         "colorscale": [
          [
           0,
           "rgb(255,247,251)"
          ],
          [
           0.125,
           "rgb(236,231,242)"
          ],
          [
           0.25,
           "rgb(208,209,230)"
          ],
          [
           0.375,
           "rgb(166,189,219)"
          ],
          [
           0.5,
           "rgb(116,169,207)"
          ],
          [
           0.625,
           "rgb(54,144,192)"
          ],
          [
           0.75,
           "rgb(5,112,176)"
          ],
          [
           0.875,
           "rgb(4,90,141)"
          ],
          [
           1,
           "rgb(2,56,88)"
          ]
         ],
         "type": "heatmap",
         "x": [
          "predicted_negative",
          "predicted_positive"
         ],
         "y": [
          "positive",
          "negative"
         ],
         "z": [
          [
           0.10635538261997406,
           0.893644617380026
          ],
          [
           0.8257887517146777,
           0.17421124828532236
          ]
         ]
        },
        {
         "colorscale": [
          [
           0,
           "rgb(255,247,251)"
          ],
          [
           0.125,
           "rgb(236,231,242)"
          ],
          [
           0.25,
           "rgb(208,209,230)"
          ],
          [
           0.375,
           "rgb(166,189,219)"
          ],
          [
           0.5,
           "rgb(116,169,207)"
          ],
          [
           0.625,
           "rgb(54,144,192)"
          ],
          [
           0.75,
           "rgb(5,112,176)"
          ],
          [
           0.875,
           "rgb(4,90,141)"
          ],
          [
           1,
           "rgb(2,56,88)"
          ]
         ],
         "type": "heatmap",
         "x": [
          "predicted_negative",
          "predicted_positive"
         ],
         "y": [
          "positive",
          "negative"
         ],
         "z": [
          [
           0.10635538261997406,
           0.893644617380026
          ],
          [
           0.8257887517146777,
           0.17421124828532236
          ]
         ]
        }
       ],
       "layout": {
        "annotations": [
         {
          "font": {
           "color": "black"
          },
          "showarrow": false,
          "text": "false negative 0.11",
          "x": 0,
          "y": 0,
          "yshift": 10
         },
         {
          "font": {
           "color": "black"
          },
          "showarrow": false,
          "text": "false positive 0.17",
          "x": 1,
          "y": 1,
          "yshift": 10
         },
         {
          "font": {
           "color": "white"
          },
          "showarrow": false,
          "text": "true positive 0.89",
          "x": 1,
          "y": 0,
          "yshift": 10
         },
         {
          "font": {
           "color": "white"
          },
          "showarrow": false,
          "text": "true negative 0.83",
          "x": 0,
          "y": 1,
          "yshift": 10
         }
        ],
        "font": {
         "color": "rgba(212, 210, 210, 1)"
        },
        "height": 500,
        "template": {
         "data": {
          "bar": [
           {
            "error_x": {
             "color": "#f2f5fa"
            },
            "error_y": {
             "color": "#f2f5fa"
            },
            "marker": {
             "line": {
              "color": "rgb(17,17,17)",
              "width": 0.5
             },
             "pattern": {
              "fillmode": "overlay",
              "size": 10,
              "solidity": 0.2
             }
            },
            "type": "bar"
           }
          ],
          "barpolar": [
           {
            "marker": {
             "line": {
              "color": "rgb(17,17,17)",
              "width": 0.5
             },
             "pattern": {
              "fillmode": "overlay",
              "size": 10,
              "solidity": 0.2
             }
            },
            "type": "barpolar"
           }
          ],
          "carpet": [
           {
            "aaxis": {
             "endlinecolor": "#A2B1C6",
             "gridcolor": "#506784",
             "linecolor": "#506784",
             "minorgridcolor": "#506784",
             "startlinecolor": "#A2B1C6"
            },
            "baxis": {
             "endlinecolor": "#A2B1C6",
             "gridcolor": "#506784",
             "linecolor": "#506784",
             "minorgridcolor": "#506784",
             "startlinecolor": "#A2B1C6"
            },
            "type": "carpet"
           }
          ],
          "choropleth": [
           {
            "colorbar": {
             "outlinewidth": 0,
             "ticks": ""
            },
            "type": "choropleth"
           }
          ],
          "contour": [
           {
            "colorbar": {
             "outlinewidth": 0,
             "ticks": ""
            },
            "colorscale": [
             [
              0,
              "#0d0887"
             ],
             [
              0.1111111111111111,
              "#46039f"
             ],
             [
              0.2222222222222222,
              "#7201a8"
             ],
             [
              0.3333333333333333,
              "#9c179e"
             ],
             [
              0.4444444444444444,
              "#bd3786"
             ],
             [
              0.5555555555555556,
              "#d8576b"
             ],
             [
              0.6666666666666666,
              "#ed7953"
             ],
             [
              0.7777777777777778,
              "#fb9f3a"
             ],
             [
              0.8888888888888888,
              "#fdca26"
             ],
             [
              1,
              "#f0f921"
             ]
            ],
            "type": "contour"
           }
          ],
          "contourcarpet": [
           {
            "colorbar": {
             "outlinewidth": 0,
             "ticks": ""
            },
            "type": "contourcarpet"
           }
          ],
          "heatmap": [
           {
            "colorbar": {
             "outlinewidth": 0,
             "ticks": ""
            },
            "colorscale": [
             [
              0,
              "#0d0887"
             ],
             [
              0.1111111111111111,
              "#46039f"
             ],
             [
              0.2222222222222222,
              "#7201a8"
             ],
             [
              0.3333333333333333,
              "#9c179e"
             ],
             [
              0.4444444444444444,
              "#bd3786"
             ],
             [
              0.5555555555555556,
              "#d8576b"
             ],
             [
              0.6666666666666666,
              "#ed7953"
             ],
             [
              0.7777777777777778,
              "#fb9f3a"
             ],
             [
              0.8888888888888888,
              "#fdca26"
             ],
             [
              1,
              "#f0f921"
             ]
            ],
            "type": "heatmap"
           }
          ],
          "histogram": [
           {
            "marker": {
             "pattern": {
              "fillmode": "overlay",
              "size": 10,
              "solidity": 0.2
             }
            },
            "type": "histogram"
           }
          ],
          "histogram2d": [
           {
            "colorbar": {
             "outlinewidth": 0,
             "ticks": ""
            },
            "colorscale": [
             [
              0,
              "#0d0887"
             ],
             [
              0.1111111111111111,
              "#46039f"
             ],
             [
              0.2222222222222222,
              "#7201a8"
             ],
             [
              0.3333333333333333,
              "#9c179e"
             ],
             [
              0.4444444444444444,
              "#bd3786"
             ],
             [
              0.5555555555555556,
              "#d8576b"
             ],
             [
              0.6666666666666666,
              "#ed7953"
             ],
             [
              0.7777777777777778,
              "#fb9f3a"
             ],
             [
              0.8888888888888888,
              "#fdca26"
             ],
             [
              1,
              "#f0f921"
             ]
            ],
            "type": "histogram2d"
           }
          ],
          "histogram2dcontour": [
           {
            "colorbar": {
             "outlinewidth": 0,
             "ticks": ""
            },
            "colorscale": [
             [
              0,
              "#0d0887"
             ],
             [
              0.1111111111111111,
              "#46039f"
             ],
             [
              0.2222222222222222,
              "#7201a8"
             ],
             [
              0.3333333333333333,
              "#9c179e"
             ],
             [
              0.4444444444444444,
              "#bd3786"
             ],
             [
              0.5555555555555556,
              "#d8576b"
             ],
             [
              0.6666666666666666,
              "#ed7953"
             ],
             [
              0.7777777777777778,
              "#fb9f3a"
             ],
             [
              0.8888888888888888,
              "#fdca26"
             ],
             [
              1,
              "#f0f921"
             ]
            ],
            "type": "histogram2dcontour"
           }
          ],
          "mesh3d": [
           {
            "colorbar": {
             "outlinewidth": 0,
             "ticks": ""
            },
            "type": "mesh3d"
           }
          ],
          "parcoords": [
           {
            "line": {
             "colorbar": {
              "outlinewidth": 0,
              "ticks": ""
             }
            },
            "type": "parcoords"
           }
          ],
          "pie": [
           {
            "automargin": true,
            "type": "pie"
           }
          ],
          "scatter": [
           {
            "marker": {
             "line": {
              "color": "#283442"
             }
            },
            "type": "scatter"
           }
          ],
          "scatter3d": [
           {
            "line": {
             "colorbar": {
              "outlinewidth": 0,
              "ticks": ""
             }
            },
            "marker": {
             "colorbar": {
              "outlinewidth": 0,
              "ticks": ""
             }
            },
            "type": "scatter3d"
           }
          ],
          "scattercarpet": [
           {
            "marker": {
             "colorbar": {
              "outlinewidth": 0,
              "ticks": ""
             }
            },
            "type": "scattercarpet"
           }
          ],
          "scattergeo": [
           {
            "marker": {
             "colorbar": {
              "outlinewidth": 0,
              "ticks": ""
             }
            },
            "type": "scattergeo"
           }
          ],
          "scattergl": [
           {
            "marker": {
             "line": {
              "color": "#283442"
             }
            },
            "type": "scattergl"
           }
          ],
          "scattermap": [
           {
            "marker": {
             "colorbar": {
              "outlinewidth": 0,
              "ticks": ""
             }
            },
            "type": "scattermap"
           }
          ],
          "scattermapbox": [
           {
            "marker": {
             "colorbar": {
              "outlinewidth": 0,
              "ticks": ""
             }
            },
            "type": "scattermapbox"
           }
          ],
          "scatterpolar": [
           {
            "marker": {
             "colorbar": {
              "outlinewidth": 0,
              "ticks": ""
             }
            },
            "type": "scatterpolar"
           }
          ],
          "scatterpolargl": [
           {
            "marker": {
             "colorbar": {
              "outlinewidth": 0,
              "ticks": ""
             }
            },
            "type": "scatterpolargl"
           }
          ],
          "scatterternary": [
           {
            "marker": {
             "colorbar": {
              "outlinewidth": 0,
              "ticks": ""
             }
            },
            "type": "scatterternary"
           }
          ],
          "surface": [
           {
            "colorbar": {
             "outlinewidth": 0,
             "ticks": ""
            },
            "colorscale": [
             [
              0,
              "#0d0887"
             ],
             [
              0.1111111111111111,
              "#46039f"
             ],
             [
              0.2222222222222222,
              "#7201a8"
             ],
             [
              0.3333333333333333,
              "#9c179e"
             ],
             [
              0.4444444444444444,
              "#bd3786"
             ],
             [
              0.5555555555555556,
              "#d8576b"
             ],
             [
              0.6666666666666666,
              "#ed7953"
             ],
             [
              0.7777777777777778,
              "#fb9f3a"
             ],
             [
              0.8888888888888888,
              "#fdca26"
             ],
             [
              1,
              "#f0f921"
             ]
            ],
            "type": "surface"
           }
          ],
          "table": [
           {
            "cells": {
             "fill": {
              "color": "#506784"
             },
             "line": {
              "color": "rgb(17,17,17)"
             }
            },
            "header": {
             "fill": {
              "color": "#2a3f5f"
             },
             "line": {
              "color": "rgb(17,17,17)"
             }
            },
            "type": "table"
           }
          ]
         },
         "layout": {
          "annotationdefaults": {
           "arrowcolor": "#f2f5fa",
           "arrowhead": 0,
           "arrowwidth": 1
          },
          "autotypenumbers": "strict",
          "coloraxis": {
           "colorbar": {
            "outlinewidth": 0,
            "ticks": ""
           }
          },
          "colorscale": {
           "diverging": [
            [
             0,
             "#8e0152"
            ],
            [
             0.1,
             "#c51b7d"
            ],
            [
             0.2,
             "#de77ae"
            ],
            [
             0.3,
             "#f1b6da"
            ],
            [
             0.4,
             "#fde0ef"
            ],
            [
             0.5,
             "#f7f7f7"
            ],
            [
             0.6,
             "#e6f5d0"
            ],
            [
             0.7,
             "#b8e186"
            ],
            [
             0.8,
             "#7fbc41"
            ],
            [
             0.9,
             "#4d9221"
            ],
            [
             1,
             "#276419"
            ]
           ],
           "sequential": [
            [
             0,
             "#0d0887"
            ],
            [
             0.1111111111111111,
             "#46039f"
            ],
            [
             0.2222222222222222,
             "#7201a8"
            ],
            [
             0.3333333333333333,
             "#9c179e"
            ],
            [
             0.4444444444444444,
             "#bd3786"
            ],
            [
             0.5555555555555556,
             "#d8576b"
            ],
            [
             0.6666666666666666,
             "#ed7953"
            ],
            [
             0.7777777777777778,
             "#fb9f3a"
            ],
            [
             0.8888888888888888,
             "#fdca26"
            ],
            [
             1,
             "#f0f921"
            ]
           ],
           "sequentialminus": [
            [
             0,
             "#0d0887"
            ],
            [
             0.1111111111111111,
             "#46039f"
            ],
            [
             0.2222222222222222,
             "#7201a8"
            ],
            [
             0.3333333333333333,
             "#9c179e"
            ],
            [
             0.4444444444444444,
             "#bd3786"
            ],
            [
             0.5555555555555556,
             "#d8576b"
            ],
            [
             0.6666666666666666,
             "#ed7953"
            ],
            [
             0.7777777777777778,
             "#fb9f3a"
            ],
            [
             0.8888888888888888,
             "#fdca26"
            ],
            [
             1,
             "#f0f921"
            ]
           ]
          },
          "colorway": [
           "#636efa",
           "#EF553B",
           "#00cc96",
           "#ab63fa",
           "#FFA15A",
           "#19d3f3",
           "#FF6692",
           "#B6E880",
           "#FF97FF",
           "#FECB52"
          ],
          "font": {
           "color": "#f2f5fa"
          },
          "geo": {
           "bgcolor": "rgb(17,17,17)",
           "lakecolor": "rgb(17,17,17)",
           "landcolor": "rgb(17,17,17)",
           "showlakes": true,
           "showland": true,
           "subunitcolor": "#506784"
          },
          "hoverlabel": {
           "align": "left"
          },
          "hovermode": "closest",
          "mapbox": {
           "style": "dark"
          },
          "paper_bgcolor": "rgb(17,17,17)",
          "plot_bgcolor": "rgb(17,17,17)",
          "polar": {
           "angularaxis": {
            "gridcolor": "#506784",
            "linecolor": "#506784",
            "ticks": ""
           },
           "bgcolor": "rgb(17,17,17)",
           "radialaxis": {
            "gridcolor": "#506784",
            "linecolor": "#506784",
            "ticks": ""
           }
          },
          "scene": {
           "xaxis": {
            "backgroundcolor": "rgb(17,17,17)",
            "gridcolor": "#506784",
            "gridwidth": 2,
            "linecolor": "#506784",
            "showbackground": true,
            "ticks": "",
            "zerolinecolor": "#C8D4E3"
           },
           "yaxis": {
            "backgroundcolor": "rgb(17,17,17)",
            "gridcolor": "#506784",
            "gridwidth": 2,
            "linecolor": "#506784",
            "showbackground": true,
            "ticks": "",
            "zerolinecolor": "#C8D4E3"
           },
           "zaxis": {
            "backgroundcolor": "rgb(17,17,17)",
            "gridcolor": "#506784",
            "gridwidth": 2,
            "linecolor": "#506784",
            "showbackground": true,
            "ticks": "",
            "zerolinecolor": "#C8D4E3"
           }
          },
          "shapedefaults": {
           "line": {
            "color": "#f2f5fa"
           }
          },
          "sliderdefaults": {
           "bgcolor": "#C8D4E3",
           "bordercolor": "rgb(17,17,17)",
           "borderwidth": 1,
           "tickwidth": 0
          },
          "ternary": {
           "aaxis": {
            "gridcolor": "#506784",
            "linecolor": "#506784",
            "ticks": ""
           },
           "baxis": {
            "gridcolor": "#506784",
            "linecolor": "#506784",
            "ticks": ""
           },
           "bgcolor": "rgb(17,17,17)",
           "caxis": {
            "gridcolor": "#506784",
            "linecolor": "#506784",
            "ticks": ""
           }
          },
          "title": {
           "x": 0.05
          },
          "updatemenudefaults": {
           "bgcolor": "#506784",
           "borderwidth": 0
          },
          "xaxis": {
           "automargin": true,
           "gridcolor": "#283442",
           "linecolor": "#506784",
           "ticks": "",
           "title": {
            "standoff": 15
           },
           "zerolinecolor": "#283442",
           "zerolinewidth": 2
          },
          "yaxis": {
           "automargin": true,
           "gridcolor": "#283442",
           "linecolor": "#506784",
           "ticks": "",
           "title": {
            "standoff": 15
           },
           "zerolinecolor": "#283442",
           "zerolinewidth": 2
          }
         }
        },
        "width": 500,
        "xaxis": {
         "anchor": "y",
         "domain": [
          0,
          1
         ]
        },
        "yaxis": {
         "anchor": "x",
         "domain": [
          0,
          1
         ]
        }
       }
      }
     },
     "metadata": {},
     "output_type": "display_data"
    }
   ],
   "source": [
    "fig = make_subplots(1,1)\n",
    "\n",
    "fig.add_trace(go.Heatmap(\n",
    "     y = [ 'positive', 'negative'],\n",
    "     x = ['predicted_negative', 'predicted_positive'],\n",
    "     z = [matrix1[1, :], matrix1[0, :]],\n",
    "     colorscale = 'PuBu'\n",
    "))\n",
    "\n",
    "fig.add_trace(go.Heatmap(\n",
    "     y = [ 'positive', 'negative'],\n",
    "     x = ['predicted_negative', 'predicted_positive'],\n",
    "     z = [matrix1[1, :], matrix1[0, :]],\n",
    "     colorscale = 'PuBu'\n",
    "))\n",
    "\n",
    "fig.add_annotation(x=0, y=0,\n",
    "            text = \"false negative \" + str(round(matrix1[1,0], 2)),\n",
    "            showarrow=False,\n",
    "            font = dict(color = 'black'),\n",
    "            yshift=10)\n",
    "\n",
    "fig.add_annotation(x=1, y=1,\n",
    "            text = \"false positive \" + str(round(matrix1[0,1], 2)),\n",
    "            showarrow=False,\n",
    "            font = dict(color = 'black'),\n",
    "            yshift=10)\n",
    "\n",
    "fig.add_annotation(x=1, y=0,\n",
    "            text = \"true positive \" + str(round(matrix1[1,1], 2)),\n",
    "            showarrow=False,\n",
    "            font = dict(color = 'white'),\n",
    "            yshift=10)\n",
    "\n",
    "fig.add_annotation(x=0, y=1,\n",
    "            text = \"true negative \" + str(round(matrix1[0,0], 2)),\n",
    "            showarrow=False,\n",
    "            font = dict(color = 'white'),\n",
    "            yshift=10)\n",
    "\n",
    "\n",
    "fig.update_layout(height = 500,\n",
    "                  width = 500,\n",
    "                  template = 'plotly_dark',\n",
    "                  font_color = 'rgba(212, 210, 210, 1)',\n",
    "                 ).show()"
   ]
  },
  {
   "cell_type": "markdown",
   "metadata": {},
   "source": [
    "# Визуализация важности признаков"
   ]
  },
  {
   "cell_type": "code",
   "execution_count": 45,
   "metadata": {},
   "outputs": [],
   "source": [
    "weights = pd.DataFrame({'words': count_idf_1.get_feature_names_out(),\n",
    "                        'weights': logreg_model_base_1.coef_.flatten()})\n",
    "weights_min = weights.sort_values(by= 'weights')\n",
    "weights_max = weights.sort_values(by= 'weights', ascending = False)"
   ]
  },
  {
   "cell_type": "code",
   "execution_count": 46,
   "metadata": {},
   "outputs": [
    {
     "data": {
      "text/html": [
       "<div>\n",
       "<style scoped>\n",
       "    .dataframe tbody tr th:only-of-type {\n",
       "        vertical-align: middle;\n",
       "    }\n",
       "\n",
       "    .dataframe tbody tr th {\n",
       "        vertical-align: top;\n",
       "    }\n",
       "\n",
       "    .dataframe thead th {\n",
       "        text-align: right;\n",
       "    }\n",
       "</style>\n",
       "<table border=\"1\" class=\"dataframe\">\n",
       "  <thead>\n",
       "    <tr style=\"text-align: right;\">\n",
       "      <th></th>\n",
       "      <th>words</th>\n",
       "      <th>weights</th>\n",
       "    </tr>\n",
       "  </thead>\n",
       "  <tbody>\n",
       "    <tr>\n",
       "      <th>4768</th>\n",
       "      <td>деньги</td>\n",
       "      <td>3.377736</td>\n",
       "    </tr>\n",
       "    <tr>\n",
       "      <th>664</th>\n",
       "      <td>баланса</td>\n",
       "      <td>3.088870</td>\n",
       "    </tr>\n",
       "    <tr>\n",
       "      <th>1021</th>\n",
       "      <td>бесплатно</td>\n",
       "      <td>3.074314</td>\n",
       "    </tr>\n",
       "    <tr>\n",
       "      <th>22185</th>\n",
       "      <td>сервера</td>\n",
       "      <td>2.929209</td>\n",
       "    </tr>\n",
       "    <tr>\n",
       "      <th>28537</th>\n",
       "      <td>юбисофт</td>\n",
       "      <td>2.846653</td>\n",
       "    </tr>\n",
       "  </tbody>\n",
       "</table>\n",
       "</div>"
      ],
      "text/plain": [
       "           words   weights\n",
       "4768      деньги  3.377736\n",
       "664      баланса  3.088870\n",
       "1021   бесплатно  3.074314\n",
       "22185    сервера  2.929209\n",
       "28537    юбисофт  2.846653"
      ]
     },
     "execution_count": 46,
     "metadata": {},
     "output_type": "execute_result"
    }
   ],
   "source": [
    "weights_min = weights_min[:100]\n",
    "weights_min['weights'] = weights_min['weights'] * -1\n",
    "weights_min.head()"
   ]
  },
  {
   "cell_type": "code",
   "execution_count": 47,
   "metadata": {},
   "outputs": [
    {
     "data": {
      "text/html": [
       "<div>\n",
       "<style scoped>\n",
       "    .dataframe tbody tr th:only-of-type {\n",
       "        vertical-align: middle;\n",
       "    }\n",
       "\n",
       "    .dataframe tbody tr th {\n",
       "        vertical-align: top;\n",
       "    }\n",
       "\n",
       "    .dataframe thead th {\n",
       "        text-align: right;\n",
       "    }\n",
       "</style>\n",
       "<table border=\"1\" class=\"dataframe\">\n",
       "  <thead>\n",
       "    <tr style=\"text-align: right;\">\n",
       "      <th></th>\n",
       "      <th>words</th>\n",
       "      <th>weights</th>\n",
       "    </tr>\n",
       "  </thead>\n",
       "  <tbody>\n",
       "    <tr>\n",
       "      <th>15114</th>\n",
       "      <td>отличная</td>\n",
       "      <td>3.425412</td>\n",
       "    </tr>\n",
       "    <tr>\n",
       "      <th>2991</th>\n",
       "      <td>всем</td>\n",
       "      <td>2.894836</td>\n",
       "    </tr>\n",
       "    <tr>\n",
       "      <th>531</th>\n",
       "      <td>атмосфера</td>\n",
       "      <td>2.831831</td>\n",
       "    </tr>\n",
       "    <tr>\n",
       "      <th>21394</th>\n",
       "      <td>рогалик</td>\n",
       "      <td>2.653476</td>\n",
       "    </tr>\n",
       "    <tr>\n",
       "      <th>10552</th>\n",
       "      <td>лучшая</td>\n",
       "      <td>2.551745</td>\n",
       "    </tr>\n",
       "  </tbody>\n",
       "</table>\n",
       "</div>"
      ],
      "text/plain": [
       "           words   weights\n",
       "15114   отличная  3.425412\n",
       "2991        всем  2.894836\n",
       "531    атмосфера  2.831831\n",
       "21394    рогалик  2.653476\n",
       "10552     лучшая  2.551745"
      ]
     },
     "execution_count": 47,
     "metadata": {},
     "output_type": "execute_result"
    }
   ],
   "source": [
    "weights_max = weights_max[:100]\n",
    "weights_max.head()"
   ]
  },
  {
   "cell_type": "markdown",
   "metadata": {},
   "source": [
    "# Снижение размерности признакового пространства модели"
   ]
  },
  {
   "cell_type": "code",
   "execution_count": 48,
   "metadata": {},
   "outputs": [
    {
     "data": {
      "application/vnd.plotly.v1+json": {
       "config": {
        "plotlyServerURL": "https://plot.ly"
       },
       "data": [
        {
         "opacity": 0.5,
         "showlegend": false,
         "type": "histogram",
         "x": {
          "bdata": "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",
          "dtype": "f8"
         }
        },
        {
         "opacity": 0.5,
         "showlegend": false,
         "type": "histogram",
         "x": {
          "bdata": "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",
          "dtype": "f8"
         }
        }
       ],
       "layout": {
        "font": {
         "color": "rgba(212, 210, 210, 1)"
        },
        "height": 600,
        "template": {
         "data": {
          "bar": [
           {
            "error_x": {
             "color": "#f2f5fa"
            },
            "error_y": {
             "color": "#f2f5fa"
            },
            "marker": {
             "line": {
              "color": "rgb(17,17,17)",
              "width": 0.5
             },
             "pattern": {
              "fillmode": "overlay",
              "size": 10,
              "solidity": 0.2
             }
            },
            "type": "bar"
           }
          ],
          "barpolar": [
           {
            "marker": {
             "line": {
              "color": "rgb(17,17,17)",
              "width": 0.5
             },
             "pattern": {
              "fillmode": "overlay",
              "size": 10,
              "solidity": 0.2
             }
            },
            "type": "barpolar"
           }
          ],
          "carpet": [
           {
            "aaxis": {
             "endlinecolor": "#A2B1C6",
             "gridcolor": "#506784",
             "linecolor": "#506784",
             "minorgridcolor": "#506784",
             "startlinecolor": "#A2B1C6"
            },
            "baxis": {
             "endlinecolor": "#A2B1C6",
             "gridcolor": "#506784",
             "linecolor": "#506784",
             "minorgridcolor": "#506784",
             "startlinecolor": "#A2B1C6"
            },
            "type": "carpet"
           }
          ],
          "choropleth": [
           {
            "colorbar": {
             "outlinewidth": 0,
             "ticks": ""
            },
            "type": "choropleth"
           }
          ],
          "contour": [
           {
            "colorbar": {
             "outlinewidth": 0,
             "ticks": ""
            },
            "colorscale": [
             [
              0,
              "#0d0887"
             ],
             [
              0.1111111111111111,
              "#46039f"
             ],
             [
              0.2222222222222222,
              "#7201a8"
             ],
             [
              0.3333333333333333,
              "#9c179e"
             ],
             [
              0.4444444444444444,
              "#bd3786"
             ],
             [
              0.5555555555555556,
              "#d8576b"
             ],
             [
              0.6666666666666666,
              "#ed7953"
             ],
             [
              0.7777777777777778,
              "#fb9f3a"
             ],
             [
              0.8888888888888888,
              "#fdca26"
             ],
             [
              1,
              "#f0f921"
             ]
            ],
            "type": "contour"
           }
          ],
          "contourcarpet": [
           {
            "colorbar": {
             "outlinewidth": 0,
             "ticks": ""
            },
            "type": "contourcarpet"
           }
          ],
          "heatmap": [
           {
            "colorbar": {
             "outlinewidth": 0,
             "ticks": ""
            },
            "colorscale": [
             [
              0,
              "#0d0887"
             ],
             [
              0.1111111111111111,
              "#46039f"
             ],
             [
              0.2222222222222222,
              "#7201a8"
             ],
             [
              0.3333333333333333,
              "#9c179e"
             ],
             [
              0.4444444444444444,
              "#bd3786"
             ],
             [
              0.5555555555555556,
              "#d8576b"
             ],
             [
              0.6666666666666666,
              "#ed7953"
             ],
             [
              0.7777777777777778,
              "#fb9f3a"
             ],
             [
              0.8888888888888888,
              "#fdca26"
             ],
             [
              1,
              "#f0f921"
             ]
            ],
            "type": "heatmap"
           }
          ],
          "histogram": [
           {
            "marker": {
             "pattern": {
              "fillmode": "overlay",
              "size": 10,
              "solidity": 0.2
             }
            },
            "type": "histogram"
           }
          ],
          "histogram2d": [
           {
            "colorbar": {
             "outlinewidth": 0,
             "ticks": ""
            },
            "colorscale": [
             [
              0,
              "#0d0887"
             ],
             [
              0.1111111111111111,
              "#46039f"
             ],
             [
              0.2222222222222222,
              "#7201a8"
             ],
             [
              0.3333333333333333,
              "#9c179e"
             ],
             [
              0.4444444444444444,
              "#bd3786"
             ],
             [
              0.5555555555555556,
              "#d8576b"
             ],
             [
              0.6666666666666666,
              "#ed7953"
             ],
             [
              0.7777777777777778,
              "#fb9f3a"
             ],
             [
              0.8888888888888888,
              "#fdca26"
             ],
             [
              1,
              "#f0f921"
             ]
            ],
            "type": "histogram2d"
           }
          ],
          "histogram2dcontour": [
           {
            "colorbar": {
             "outlinewidth": 0,
             "ticks": ""
            },
            "colorscale": [
             [
              0,
              "#0d0887"
             ],
             [
              0.1111111111111111,
              "#46039f"
             ],
             [
              0.2222222222222222,
              "#7201a8"
             ],
             [
              0.3333333333333333,
              "#9c179e"
             ],
             [
              0.4444444444444444,
              "#bd3786"
             ],
             [
              0.5555555555555556,
              "#d8576b"
             ],
             [
              0.6666666666666666,
              "#ed7953"
             ],
             [
              0.7777777777777778,
              "#fb9f3a"
             ],
             [
              0.8888888888888888,
              "#fdca26"
             ],
             [
              1,
              "#f0f921"
             ]
            ],
            "type": "histogram2dcontour"
           }
          ],
          "mesh3d": [
           {
            "colorbar": {
             "outlinewidth": 0,
             "ticks": ""
            },
            "type": "mesh3d"
           }
          ],
          "parcoords": [
           {
            "line": {
             "colorbar": {
              "outlinewidth": 0,
              "ticks": ""
             }
            },
            "type": "parcoords"
           }
          ],
          "pie": [
           {
            "automargin": true,
            "type": "pie"
           }
          ],
          "scatter": [
           {
            "marker": {
             "line": {
              "color": "#283442"
             }
            },
            "type": "scatter"
           }
          ],
          "scatter3d": [
           {
            "line": {
             "colorbar": {
              "outlinewidth": 0,
              "ticks": ""
             }
            },
            "marker": {
             "colorbar": {
              "outlinewidth": 0,
              "ticks": ""
             }
            },
            "type": "scatter3d"
           }
          ],
          "scattercarpet": [
           {
            "marker": {
             "colorbar": {
              "outlinewidth": 0,
              "ticks": ""
             }
            },
            "type": "scattercarpet"
           }
          ],
          "scattergeo": [
           {
            "marker": {
             "colorbar": {
              "outlinewidth": 0,
              "ticks": ""
             }
            },
            "type": "scattergeo"
           }
          ],
          "scattergl": [
           {
            "marker": {
             "line": {
              "color": "#283442"
             }
            },
            "type": "scattergl"
           }
          ],
          "scattermap": [
           {
            "marker": {
             "colorbar": {
              "outlinewidth": 0,
              "ticks": ""
             }
            },
            "type": "scattermap"
           }
          ],
          "scattermapbox": [
           {
            "marker": {
             "colorbar": {
              "outlinewidth": 0,
              "ticks": ""
             }
            },
            "type": "scattermapbox"
           }
          ],
          "scatterpolar": [
           {
            "marker": {
             "colorbar": {
              "outlinewidth": 0,
              "ticks": ""
             }
            },
            "type": "scatterpolar"
           }
          ],
          "scatterpolargl": [
           {
            "marker": {
             "colorbar": {
              "outlinewidth": 0,
              "ticks": ""
             }
            },
            "type": "scatterpolargl"
           }
          ],
          "scatterternary": [
           {
            "marker": {
             "colorbar": {
              "outlinewidth": 0,
              "ticks": ""
             }
            },
            "type": "scatterternary"
           }
          ],
          "surface": [
           {
            "colorbar": {
             "outlinewidth": 0,
             "ticks": ""
            },
            "colorscale": [
             [
              0,
              "#0d0887"
             ],
             [
              0.1111111111111111,
              "#46039f"
             ],
             [
              0.2222222222222222,
              "#7201a8"
             ],
             [
              0.3333333333333333,
              "#9c179e"
             ],
             [
              0.4444444444444444,
              "#bd3786"
             ],
             [
              0.5555555555555556,
              "#d8576b"
             ],
             [
              0.6666666666666666,
              "#ed7953"
             ],
             [
              0.7777777777777778,
              "#fb9f3a"
             ],
             [
              0.8888888888888888,
              "#fdca26"
             ],
             [
              1,
              "#f0f921"
             ]
            ],
            "type": "surface"
           }
          ],
          "table": [
           {
            "cells": {
             "fill": {
              "color": "#506784"
             },
             "line": {
              "color": "rgb(17,17,17)"
             }
            },
            "header": {
             "fill": {
              "color": "#2a3f5f"
             },
             "line": {
              "color": "rgb(17,17,17)"
             }
            },
            "type": "table"
           }
          ]
         },
         "layout": {
          "annotationdefaults": {
           "arrowcolor": "#f2f5fa",
           "arrowhead": 0,
           "arrowwidth": 1
          },
          "autotypenumbers": "strict",
          "coloraxis": {
           "colorbar": {
            "outlinewidth": 0,
            "ticks": ""
           }
          },
          "colorscale": {
           "diverging": [
            [
             0,
             "#8e0152"
            ],
            [
             0.1,
             "#c51b7d"
            ],
            [
             0.2,
             "#de77ae"
            ],
            [
             0.3,
             "#f1b6da"
            ],
            [
             0.4,
             "#fde0ef"
            ],
            [
             0.5,
             "#f7f7f7"
            ],
            [
             0.6,
             "#e6f5d0"
            ],
            [
             0.7,
             "#b8e186"
            ],
            [
             0.8,
             "#7fbc41"
            ],
            [
             0.9,
             "#4d9221"
            ],
            [
             1,
             "#276419"
            ]
           ],
           "sequential": [
            [
             0,
             "#0d0887"
            ],
            [
             0.1111111111111111,
             "#46039f"
            ],
            [
             0.2222222222222222,
             "#7201a8"
            ],
            [
             0.3333333333333333,
             "#9c179e"
            ],
            [
             0.4444444444444444,
             "#bd3786"
            ],
            [
             0.5555555555555556,
             "#d8576b"
            ],
            [
             0.6666666666666666,
             "#ed7953"
            ],
            [
             0.7777777777777778,
             "#fb9f3a"
            ],
            [
             0.8888888888888888,
             "#fdca26"
            ],
            [
             1,
             "#f0f921"
            ]
           ],
           "sequentialminus": [
            [
             0,
             "#0d0887"
            ],
            [
             0.1111111111111111,
             "#46039f"
            ],
            [
             0.2222222222222222,
             "#7201a8"
            ],
            [
             0.3333333333333333,
             "#9c179e"
            ],
            [
             0.4444444444444444,
             "#bd3786"
            ],
            [
             0.5555555555555556,
             "#d8576b"
            ],
            [
             0.6666666666666666,
             "#ed7953"
            ],
            [
             0.7777777777777778,
             "#fb9f3a"
            ],
            [
             0.8888888888888888,
             "#fdca26"
            ],
            [
             1,
             "#f0f921"
            ]
           ]
          },
          "colorway": [
           "#636efa",
           "#EF553B",
           "#00cc96",
           "#ab63fa",
           "#FFA15A",
           "#19d3f3",
           "#FF6692",
           "#B6E880",
           "#FF97FF",
           "#FECB52"
          ],
          "font": {
           "color": "#f2f5fa"
          },
          "geo": {
           "bgcolor": "rgb(17,17,17)",
           "lakecolor": "rgb(17,17,17)",
           "landcolor": "rgb(17,17,17)",
           "showlakes": true,
           "showland": true,
           "subunitcolor": "#506784"
          },
          "hoverlabel": {
           "align": "left"
          },
          "hovermode": "closest",
          "mapbox": {
           "style": "dark"
          },
          "paper_bgcolor": "rgb(17,17,17)",
          "plot_bgcolor": "rgb(17,17,17)",
          "polar": {
           "angularaxis": {
            "gridcolor": "#506784",
            "linecolor": "#506784",
            "ticks": ""
           },
           "bgcolor": "rgb(17,17,17)",
           "radialaxis": {
            "gridcolor": "#506784",
            "linecolor": "#506784",
            "ticks": ""
           }
          },
          "scene": {
           "xaxis": {
            "backgroundcolor": "rgb(17,17,17)",
            "gridcolor": "#506784",
            "gridwidth": 2,
            "linecolor": "#506784",
            "showbackground": true,
            "ticks": "",
            "zerolinecolor": "#C8D4E3"
           },
           "yaxis": {
            "backgroundcolor": "rgb(17,17,17)",
            "gridcolor": "#506784",
            "gridwidth": 2,
            "linecolor": "#506784",
            "showbackground": true,
            "ticks": "",
            "zerolinecolor": "#C8D4E3"
           },
           "zaxis": {
            "backgroundcolor": "rgb(17,17,17)",
            "gridcolor": "#506784",
            "gridwidth": 2,
            "linecolor": "#506784",
            "showbackground": true,
            "ticks": "",
            "zerolinecolor": "#C8D4E3"
           }
          },
          "shapedefaults": {
           "line": {
            "color": "#f2f5fa"
           }
          },
          "sliderdefaults": {
           "bgcolor": "#C8D4E3",
           "bordercolor": "rgb(17,17,17)",
           "borderwidth": 1,
           "tickwidth": 0
          },
          "ternary": {
           "aaxis": {
            "gridcolor": "#506784",
            "linecolor": "#506784",
            "ticks": ""
           },
           "baxis": {
            "gridcolor": "#506784",
            "linecolor": "#506784",
            "ticks": ""
           },
           "bgcolor": "rgb(17,17,17)",
           "caxis": {
            "gridcolor": "#506784",
            "linecolor": "#506784",
            "ticks": ""
           }
          },
          "title": {
           "x": 0.05
          },
          "updatemenudefaults": {
           "bgcolor": "#506784",
           "borderwidth": 0
          },
          "xaxis": {
           "automargin": true,
           "gridcolor": "#283442",
           "linecolor": "#506784",
           "ticks": "",
           "title": {
            "standoff": 15
           },
           "zerolinecolor": "#283442",
           "zerolinewidth": 2
          },
          "yaxis": {
           "automargin": true,
           "gridcolor": "#283442",
           "linecolor": "#506784",
           "ticks": "",
           "title": {
            "standoff": 15
           },
           "zerolinecolor": "#283442",
           "zerolinewidth": 2
          }
         }
        },
        "width": 800,
        "xaxis": {
         "anchor": "y",
         "domain": [
          0,
          1
         ],
         "showgrid": false,
         "zeroline": false
        },
        "yaxis": {
         "anchor": "x",
         "domain": [
          0,
          1
         ]
        }
       }
      }
     },
     "metadata": {},
     "output_type": "display_data"
    }
   ],
   "source": [
    "fig = make_subplots(1,1)\n",
    "\n",
    "fig.add_trace(go.Histogram(\n",
    "    x = weights.query('weights != 0')['weights'],\n",
    "    #histnorm = 'probability',\n",
    "    opacity = 0.5,\n",
    "    showlegend = False\n",
    "))\n",
    "\n",
    "fig.add_trace(go.Histogram(\n",
    "    x = weights.query('weights > 0.25 or weights < -0.25')['weights'],\n",
    "    #histnorm = 'probability',\n",
    "    opacity = 0.5,\n",
    "    showlegend = False\n",
    "))\n",
    "\n",
    "fig.update_layout(\n",
    "    height = 600,\n",
    "    width = 800,\n",
    "    xaxis_showgrid=False,\n",
    "    xaxis_zeroline=False,\n",
    "    template = 'plotly_dark',\n",
    "    font_color = 'rgba(212, 210, 210, 1)'\n",
    "    \n",
    ")"
   ]
  },
  {
   "cell_type": "code",
   "execution_count": 49,
   "metadata": {},
   "outputs": [
    {
     "data": {
      "text/plain": [
       "0                аа\n",
       "1               ааа\n",
       "3             ааааа\n",
       "6         ааааааааа\n",
       "10       аааааарррр\n",
       "            ...    \n",
       "28692            ёб\n",
       "28693        ёбаная\n",
       "28696       ёбисофт\n",
       "28700           ёко\n",
       "28704          ёпта\n",
       "Name: words, Length: 8300, dtype: object"
      ]
     },
     "execution_count": 49,
     "metadata": {},
     "output_type": "execute_result"
    }
   ],
   "source": [
    "vocab = weights.query('weights > 0.12 or weights < -0.12')['words']\n",
    "vocab"
   ]
  },
  {
   "cell_type": "code",
   "execution_count": 50,
   "metadata": {},
   "outputs": [],
   "source": [
    "count_idf = TfidfVectorizer(vocabulary=vocab, ngram_range=(1,1))"
   ]
  },
  {
   "cell_type": "code",
   "execution_count": 51,
   "metadata": {},
   "outputs": [],
   "source": [
    "tf_idf_train = count_idf.fit_transform(train['review'])\n",
    "tf_idf_test = count_idf.transform(test['review'])"
   ]
  },
  {
   "cell_type": "code",
   "execution_count": 52,
   "metadata": {},
   "outputs": [
    {
     "data": {
      "text/plain": [
       "(1500, 8300)"
      ]
     },
     "metadata": {},
     "output_type": "display_data"
    },
    {
     "data": {
      "text/plain": [
       "(6000, 8300)"
      ]
     },
     "metadata": {},
     "output_type": "display_data"
    }
   ],
   "source": [
    "display(tf_idf_test.shape)\n",
    "display(tf_idf_train.shape)"
   ]
  },
  {
   "cell_type": "code",
   "execution_count": 53,
   "metadata": {},
   "outputs": [],
   "source": [
    "model_lr_base = LogisticRegression(solver = 'lbfgs',\n",
    "                                    random_state = 6,\n",
    "                                    max_iter= 10000,\n",
    "                                    n_jobs= -1)"
   ]
  },
  {
   "cell_type": "markdown",
   "metadata": {},
   "source": [
    "Получим прогноз и оценим качество модели"
   ]
  },
  {
   "cell_type": "code",
   "execution_count": 54,
   "metadata": {},
   "outputs": [
    {
     "data": {
      "text/html": [
       "<style>#sk-container-id-3 {\n",
       "  /* Definition of color scheme common for light and dark mode */\n",
       "  --sklearn-color-text: #000;\n",
       "  --sklearn-color-text-muted: #666;\n",
       "  --sklearn-color-line: gray;\n",
       "  /* Definition of color scheme for unfitted estimators */\n",
       "  --sklearn-color-unfitted-level-0: #fff5e6;\n",
       "  --sklearn-color-unfitted-level-1: #f6e4d2;\n",
       "  --sklearn-color-unfitted-level-2: #ffe0b3;\n",
       "  --sklearn-color-unfitted-level-3: chocolate;\n",
       "  /* Definition of color scheme for fitted estimators */\n",
       "  --sklearn-color-fitted-level-0: #f0f8ff;\n",
       "  --sklearn-color-fitted-level-1: #d4ebff;\n",
       "  --sklearn-color-fitted-level-2: #b3dbfd;\n",
       "  --sklearn-color-fitted-level-3: cornflowerblue;\n",
       "\n",
       "  /* Specific color for light theme */\n",
       "  --sklearn-color-text-on-default-background: var(--sg-text-color, var(--theme-code-foreground, var(--jp-content-font-color1, black)));\n",
       "  --sklearn-color-background: var(--sg-background-color, var(--theme-background, var(--jp-layout-color0, white)));\n",
       "  --sklearn-color-border-box: var(--sg-text-color, var(--theme-code-foreground, var(--jp-content-font-color1, black)));\n",
       "  --sklearn-color-icon: #696969;\n",
       "\n",
       "  @media (prefers-color-scheme: dark) {\n",
       "    /* Redefinition of color scheme for dark theme */\n",
       "    --sklearn-color-text-on-default-background: var(--sg-text-color, var(--theme-code-foreground, var(--jp-content-font-color1, white)));\n",
       "    --sklearn-color-background: var(--sg-background-color, var(--theme-background, var(--jp-layout-color0, #111)));\n",
       "    --sklearn-color-border-box: var(--sg-text-color, var(--theme-code-foreground, var(--jp-content-font-color1, white)));\n",
       "    --sklearn-color-icon: #878787;\n",
       "  }\n",
       "}\n",
       "\n",
       "#sk-container-id-3 {\n",
       "  color: var(--sklearn-color-text);\n",
       "}\n",
       "\n",
       "#sk-container-id-3 pre {\n",
       "  padding: 0;\n",
       "}\n",
       "\n",
       "#sk-container-id-3 input.sk-hidden--visually {\n",
       "  border: 0;\n",
       "  clip: rect(1px 1px 1px 1px);\n",
       "  clip: rect(1px, 1px, 1px, 1px);\n",
       "  height: 1px;\n",
       "  margin: -1px;\n",
       "  overflow: hidden;\n",
       "  padding: 0;\n",
       "  position: absolute;\n",
       "  width: 1px;\n",
       "}\n",
       "\n",
       "#sk-container-id-3 div.sk-dashed-wrapped {\n",
       "  border: 1px dashed var(--sklearn-color-line);\n",
       "  margin: 0 0.4em 0.5em 0.4em;\n",
       "  box-sizing: border-box;\n",
       "  padding-bottom: 0.4em;\n",
       "  background-color: var(--sklearn-color-background);\n",
       "}\n",
       "\n",
       "#sk-container-id-3 div.sk-container {\n",
       "  /* jupyter's `normalize.less` sets `[hidden] { display: none; }`\n",
       "     but bootstrap.min.css set `[hidden] { display: none !important; }`\n",
       "     so we also need the `!important` here to be able to override the\n",
       "     default hidden behavior on the sphinx rendered scikit-learn.org.\n",
       "     See: https://github.com/scikit-learn/scikit-learn/issues/21755 */\n",
       "  display: inline-block !important;\n",
       "  position: relative;\n",
       "}\n",
       "\n",
       "#sk-container-id-3 div.sk-text-repr-fallback {\n",
       "  display: none;\n",
       "}\n",
       "\n",
       "div.sk-parallel-item,\n",
       "div.sk-serial,\n",
       "div.sk-item {\n",
       "  /* draw centered vertical line to link estimators */\n",
       "  background-image: linear-gradient(var(--sklearn-color-text-on-default-background), var(--sklearn-color-text-on-default-background));\n",
       "  background-size: 2px 100%;\n",
       "  background-repeat: no-repeat;\n",
       "  background-position: center center;\n",
       "}\n",
       "\n",
       "/* Parallel-specific style estimator block */\n",
       "\n",
       "#sk-container-id-3 div.sk-parallel-item::after {\n",
       "  content: \"\";\n",
       "  width: 100%;\n",
       "  border-bottom: 2px solid var(--sklearn-color-text-on-default-background);\n",
       "  flex-grow: 1;\n",
       "}\n",
       "\n",
       "#sk-container-id-3 div.sk-parallel {\n",
       "  display: flex;\n",
       "  align-items: stretch;\n",
       "  justify-content: center;\n",
       "  background-color: var(--sklearn-color-background);\n",
       "  position: relative;\n",
       "}\n",
       "\n",
       "#sk-container-id-3 div.sk-parallel-item {\n",
       "  display: flex;\n",
       "  flex-direction: column;\n",
       "}\n",
       "\n",
       "#sk-container-id-3 div.sk-parallel-item:first-child::after {\n",
       "  align-self: flex-end;\n",
       "  width: 50%;\n",
       "}\n",
       "\n",
       "#sk-container-id-3 div.sk-parallel-item:last-child::after {\n",
       "  align-self: flex-start;\n",
       "  width: 50%;\n",
       "}\n",
       "\n",
       "#sk-container-id-3 div.sk-parallel-item:only-child::after {\n",
       "  width: 0;\n",
       "}\n",
       "\n",
       "/* Serial-specific style estimator block */\n",
       "\n",
       "#sk-container-id-3 div.sk-serial {\n",
       "  display: flex;\n",
       "  flex-direction: column;\n",
       "  align-items: center;\n",
       "  background-color: var(--sklearn-color-background);\n",
       "  padding-right: 1em;\n",
       "  padding-left: 1em;\n",
       "}\n",
       "\n",
       "\n",
       "/* Toggleable style: style used for estimator/Pipeline/ColumnTransformer box that is\n",
       "clickable and can be expanded/collapsed.\n",
       "- Pipeline and ColumnTransformer use this feature and define the default style\n",
       "- Estimators will overwrite some part of the style using the `sk-estimator` class\n",
       "*/\n",
       "\n",
       "/* Pipeline and ColumnTransformer style (default) */\n",
       "\n",
       "#sk-container-id-3 div.sk-toggleable {\n",
       "  /* Default theme specific background. It is overwritten whether we have a\n",
       "  specific estimator or a Pipeline/ColumnTransformer */\n",
       "  background-color: var(--sklearn-color-background);\n",
       "}\n",
       "\n",
       "/* Toggleable label */\n",
       "#sk-container-id-3 label.sk-toggleable__label {\n",
       "  cursor: pointer;\n",
       "  display: flex;\n",
       "  width: 100%;\n",
       "  margin-bottom: 0;\n",
       "  padding: 0.5em;\n",
       "  box-sizing: border-box;\n",
       "  text-align: center;\n",
       "  align-items: start;\n",
       "  justify-content: space-between;\n",
       "  gap: 0.5em;\n",
       "}\n",
       "\n",
       "#sk-container-id-3 label.sk-toggleable__label .caption {\n",
       "  font-size: 0.6rem;\n",
       "  font-weight: lighter;\n",
       "  color: var(--sklearn-color-text-muted);\n",
       "}\n",
       "\n",
       "#sk-container-id-3 label.sk-toggleable__label-arrow:before {\n",
       "  /* Arrow on the left of the label */\n",
       "  content: \"▸\";\n",
       "  float: left;\n",
       "  margin-right: 0.25em;\n",
       "  color: var(--sklearn-color-icon);\n",
       "}\n",
       "\n",
       "#sk-container-id-3 label.sk-toggleable__label-arrow:hover:before {\n",
       "  color: var(--sklearn-color-text);\n",
       "}\n",
       "\n",
       "/* Toggleable content - dropdown */\n",
       "\n",
       "#sk-container-id-3 div.sk-toggleable__content {\n",
       "  max-height: 0;\n",
       "  max-width: 0;\n",
       "  overflow: hidden;\n",
       "  text-align: left;\n",
       "  /* unfitted */\n",
       "  background-color: var(--sklearn-color-unfitted-level-0);\n",
       "}\n",
       "\n",
       "#sk-container-id-3 div.sk-toggleable__content.fitted {\n",
       "  /* fitted */\n",
       "  background-color: var(--sklearn-color-fitted-level-0);\n",
       "}\n",
       "\n",
       "#sk-container-id-3 div.sk-toggleable__content pre {\n",
       "  margin: 0.2em;\n",
       "  border-radius: 0.25em;\n",
       "  color: var(--sklearn-color-text);\n",
       "  /* unfitted */\n",
       "  background-color: var(--sklearn-color-unfitted-level-0);\n",
       "}\n",
       "\n",
       "#sk-container-id-3 div.sk-toggleable__content.fitted pre {\n",
       "  /* unfitted */\n",
       "  background-color: var(--sklearn-color-fitted-level-0);\n",
       "}\n",
       "\n",
       "#sk-container-id-3 input.sk-toggleable__control:checked~div.sk-toggleable__content {\n",
       "  /* Expand drop-down */\n",
       "  max-height: 200px;\n",
       "  max-width: 100%;\n",
       "  overflow: auto;\n",
       "}\n",
       "\n",
       "#sk-container-id-3 input.sk-toggleable__control:checked~label.sk-toggleable__label-arrow:before {\n",
       "  content: \"▾\";\n",
       "}\n",
       "\n",
       "/* Pipeline/ColumnTransformer-specific style */\n",
       "\n",
       "#sk-container-id-3 div.sk-label input.sk-toggleable__control:checked~label.sk-toggleable__label {\n",
       "  color: var(--sklearn-color-text);\n",
       "  background-color: var(--sklearn-color-unfitted-level-2);\n",
       "}\n",
       "\n",
       "#sk-container-id-3 div.sk-label.fitted input.sk-toggleable__control:checked~label.sk-toggleable__label {\n",
       "  background-color: var(--sklearn-color-fitted-level-2);\n",
       "}\n",
       "\n",
       "/* Estimator-specific style */\n",
       "\n",
       "/* Colorize estimator box */\n",
       "#sk-container-id-3 div.sk-estimator input.sk-toggleable__control:checked~label.sk-toggleable__label {\n",
       "  /* unfitted */\n",
       "  background-color: var(--sklearn-color-unfitted-level-2);\n",
       "}\n",
       "\n",
       "#sk-container-id-3 div.sk-estimator.fitted input.sk-toggleable__control:checked~label.sk-toggleable__label {\n",
       "  /* fitted */\n",
       "  background-color: var(--sklearn-color-fitted-level-2);\n",
       "}\n",
       "\n",
       "#sk-container-id-3 div.sk-label label.sk-toggleable__label,\n",
       "#sk-container-id-3 div.sk-label label {\n",
       "  /* The background is the default theme color */\n",
       "  color: var(--sklearn-color-text-on-default-background);\n",
       "}\n",
       "\n",
       "/* On hover, darken the color of the background */\n",
       "#sk-container-id-3 div.sk-label:hover label.sk-toggleable__label {\n",
       "  color: var(--sklearn-color-text);\n",
       "  background-color: var(--sklearn-color-unfitted-level-2);\n",
       "}\n",
       "\n",
       "/* Label box, darken color on hover, fitted */\n",
       "#sk-container-id-3 div.sk-label.fitted:hover label.sk-toggleable__label.fitted {\n",
       "  color: var(--sklearn-color-text);\n",
       "  background-color: var(--sklearn-color-fitted-level-2);\n",
       "}\n",
       "\n",
       "/* Estimator label */\n",
       "\n",
       "#sk-container-id-3 div.sk-label label {\n",
       "  font-family: monospace;\n",
       "  font-weight: bold;\n",
       "  display: inline-block;\n",
       "  line-height: 1.2em;\n",
       "}\n",
       "\n",
       "#sk-container-id-3 div.sk-label-container {\n",
       "  text-align: center;\n",
       "}\n",
       "\n",
       "/* Estimator-specific */\n",
       "#sk-container-id-3 div.sk-estimator {\n",
       "  font-family: monospace;\n",
       "  border: 1px dotted var(--sklearn-color-border-box);\n",
       "  border-radius: 0.25em;\n",
       "  box-sizing: border-box;\n",
       "  margin-bottom: 0.5em;\n",
       "  /* unfitted */\n",
       "  background-color: var(--sklearn-color-unfitted-level-0);\n",
       "}\n",
       "\n",
       "#sk-container-id-3 div.sk-estimator.fitted {\n",
       "  /* fitted */\n",
       "  background-color: var(--sklearn-color-fitted-level-0);\n",
       "}\n",
       "\n",
       "/* on hover */\n",
       "#sk-container-id-3 div.sk-estimator:hover {\n",
       "  /* unfitted */\n",
       "  background-color: var(--sklearn-color-unfitted-level-2);\n",
       "}\n",
       "\n",
       "#sk-container-id-3 div.sk-estimator.fitted:hover {\n",
       "  /* fitted */\n",
       "  background-color: var(--sklearn-color-fitted-level-2);\n",
       "}\n",
       "\n",
       "/* Specification for estimator info (e.g. \"i\" and \"?\") */\n",
       "\n",
       "/* Common style for \"i\" and \"?\" */\n",
       "\n",
       ".sk-estimator-doc-link,\n",
       "a:link.sk-estimator-doc-link,\n",
       "a:visited.sk-estimator-doc-link {\n",
       "  float: right;\n",
       "  font-size: smaller;\n",
       "  line-height: 1em;\n",
       "  font-family: monospace;\n",
       "  background-color: var(--sklearn-color-background);\n",
       "  border-radius: 1em;\n",
       "  height: 1em;\n",
       "  width: 1em;\n",
       "  text-decoration: none !important;\n",
       "  margin-left: 0.5em;\n",
       "  text-align: center;\n",
       "  /* unfitted */\n",
       "  border: var(--sklearn-color-unfitted-level-1) 1pt solid;\n",
       "  color: var(--sklearn-color-unfitted-level-1);\n",
       "}\n",
       "\n",
       ".sk-estimator-doc-link.fitted,\n",
       "a:link.sk-estimator-doc-link.fitted,\n",
       "a:visited.sk-estimator-doc-link.fitted {\n",
       "  /* fitted */\n",
       "  border: var(--sklearn-color-fitted-level-1) 1pt solid;\n",
       "  color: var(--sklearn-color-fitted-level-1);\n",
       "}\n",
       "\n",
       "/* On hover */\n",
       "div.sk-estimator:hover .sk-estimator-doc-link:hover,\n",
       ".sk-estimator-doc-link:hover,\n",
       "div.sk-label-container:hover .sk-estimator-doc-link:hover,\n",
       ".sk-estimator-doc-link:hover {\n",
       "  /* unfitted */\n",
       "  background-color: var(--sklearn-color-unfitted-level-3);\n",
       "  color: var(--sklearn-color-background);\n",
       "  text-decoration: none;\n",
       "}\n",
       "\n",
       "div.sk-estimator.fitted:hover .sk-estimator-doc-link.fitted:hover,\n",
       ".sk-estimator-doc-link.fitted:hover,\n",
       "div.sk-label-container:hover .sk-estimator-doc-link.fitted:hover,\n",
       ".sk-estimator-doc-link.fitted:hover {\n",
       "  /* fitted */\n",
       "  background-color: var(--sklearn-color-fitted-level-3);\n",
       "  color: var(--sklearn-color-background);\n",
       "  text-decoration: none;\n",
       "}\n",
       "\n",
       "/* Span, style for the box shown on hovering the info icon */\n",
       ".sk-estimator-doc-link span {\n",
       "  display: none;\n",
       "  z-index: 9999;\n",
       "  position: relative;\n",
       "  font-weight: normal;\n",
       "  right: .2ex;\n",
       "  padding: .5ex;\n",
       "  margin: .5ex;\n",
       "  width: min-content;\n",
       "  min-width: 20ex;\n",
       "  max-width: 50ex;\n",
       "  color: var(--sklearn-color-text);\n",
       "  box-shadow: 2pt 2pt 4pt #999;\n",
       "  /* unfitted */\n",
       "  background: var(--sklearn-color-unfitted-level-0);\n",
       "  border: .5pt solid var(--sklearn-color-unfitted-level-3);\n",
       "}\n",
       "\n",
       ".sk-estimator-doc-link.fitted span {\n",
       "  /* fitted */\n",
       "  background: var(--sklearn-color-fitted-level-0);\n",
       "  border: var(--sklearn-color-fitted-level-3);\n",
       "}\n",
       "\n",
       ".sk-estimator-doc-link:hover span {\n",
       "  display: block;\n",
       "}\n",
       "\n",
       "/* \"?\"-specific style due to the `<a>` HTML tag */\n",
       "\n",
       "#sk-container-id-3 a.estimator_doc_link {\n",
       "  float: right;\n",
       "  font-size: 1rem;\n",
       "  line-height: 1em;\n",
       "  font-family: monospace;\n",
       "  background-color: var(--sklearn-color-background);\n",
       "  border-radius: 1rem;\n",
       "  height: 1rem;\n",
       "  width: 1rem;\n",
       "  text-decoration: none;\n",
       "  /* unfitted */\n",
       "  color: var(--sklearn-color-unfitted-level-1);\n",
       "  border: var(--sklearn-color-unfitted-level-1) 1pt solid;\n",
       "}\n",
       "\n",
       "#sk-container-id-3 a.estimator_doc_link.fitted {\n",
       "  /* fitted */\n",
       "  border: var(--sklearn-color-fitted-level-1) 1pt solid;\n",
       "  color: var(--sklearn-color-fitted-level-1);\n",
       "}\n",
       "\n",
       "/* On hover */\n",
       "#sk-container-id-3 a.estimator_doc_link:hover {\n",
       "  /* unfitted */\n",
       "  background-color: var(--sklearn-color-unfitted-level-3);\n",
       "  color: var(--sklearn-color-background);\n",
       "  text-decoration: none;\n",
       "}\n",
       "\n",
       "#sk-container-id-3 a.estimator_doc_link.fitted:hover {\n",
       "  /* fitted */\n",
       "  background-color: var(--sklearn-color-fitted-level-3);\n",
       "}\n",
       "</style><div id=\"sk-container-id-3\" class=\"sk-top-container\"><div class=\"sk-text-repr-fallback\"><pre>LogisticRegression(max_iter=10000, n_jobs=-1, random_state=6)</pre><b>In a Jupyter environment, please rerun this cell to show the HTML representation or trust the notebook. <br />On GitHub, the HTML representation is unable to render, please try loading this page with nbviewer.org.</b></div><div class=\"sk-container\" hidden><div class=\"sk-item\"><div class=\"sk-estimator fitted sk-toggleable\"><input class=\"sk-toggleable__control sk-hidden--visually\" id=\"sk-estimator-id-3\" type=\"checkbox\" checked><label for=\"sk-estimator-id-3\" class=\"sk-toggleable__label fitted sk-toggleable__label-arrow\"><div><div>LogisticRegression</div></div><div><a class=\"sk-estimator-doc-link fitted\" rel=\"noreferrer\" target=\"_blank\" href=\"https://scikit-learn.org/1.6/modules/generated/sklearn.linear_model.LogisticRegression.html\">?<span>Documentation for LogisticRegression</span></a><span class=\"sk-estimator-doc-link fitted\">i<span>Fitted</span></span></div></label><div class=\"sk-toggleable__content fitted\"><pre>LogisticRegression(max_iter=10000, n_jobs=-1, random_state=6)</pre></div> </div></div></div></div>"
      ],
      "text/plain": [
       "LogisticRegression(max_iter=10000, n_jobs=-1, random_state=6)"
      ]
     },
     "execution_count": 54,
     "metadata": {},
     "output_type": "execute_result"
    }
   ],
   "source": [
    "model_lr_base.fit(tf_idf_train, train['assessment'])"
   ]
  },
  {
   "cell_type": "code",
   "execution_count": 55,
   "metadata": {},
   "outputs": [],
   "source": [
    "predict_lr_base_proba_1 = model_lr_base.predict_proba(tf_idf_test)"
   ]
  },
  {
   "cell_type": "code",
   "execution_count": 56,
   "metadata": {},
   "outputs": [],
   "source": [
    "fpr_base_1, tpr_base_1, _ = roc_curve(test['assessment'], predict_lr_base_proba_1[:, 1])\n",
    "roc_auc_base_1 = auc(fpr_base_1, tpr_base_1)"
   ]
  },
  {
   "cell_type": "code",
   "execution_count": 57,
   "metadata": {},
   "outputs": [
    {
     "data": {
      "application/vnd.plotly.v1+json": {
       "config": {
        "plotlyServerURL": "https://plot.ly"
       },
       "data": [
        {
         "fill": "tozeroy",
         "name": "ROC curve (area = 0.930)",
         "type": "scatter",
         "x": {
          "bdata": "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",
          "dtype": "f8"
         },
         "y": {
          "bdata": "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",
          "dtype": "f8"
         }
        },
        {
         "fill": "tozeroy",
         "name": "Less dimensity ROC curve (area = 0.926)",
         "type": "scatter",
         "x": {
          "bdata": "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",
          "dtype": "f8"
         },
         "y": {
          "bdata": "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",
          "dtype": "f8"
         }
        },
        {
         "line": {
          "dash": "dash"
         },
         "mode": "lines",
         "name": "Coin classifier",
         "type": "scatter",
         "x": {
          "bdata": "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",
          "dtype": "f8"
         },
         "y": {
          "bdata": "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",
          "dtype": "f8"
         }
        }
       ],
       "layout": {
        "annotations": [
         {
          "font": {
           "size": 16
          },
          "showarrow": false,
          "text": "Receiver operating characteristic",
          "x": 0.5,
          "xanchor": "center",
          "xref": "paper",
          "y": 1,
          "yanchor": "bottom",
          "yref": "paper"
         },
         {
          "font": {
           "size": 16
          },
          "showarrow": false,
          "text": "False Positive Rate",
          "x": 0.5,
          "xanchor": "center",
          "xref": "paper",
          "y": 0,
          "yanchor": "top",
          "yref": "paper",
          "yshift": -30
         },
         {
          "font": {
           "size": 16
          },
          "showarrow": false,
          "text": "True Positive Rate",
          "textangle": -90,
          "x": 0,
          "xanchor": "right",
          "xref": "paper",
          "xshift": -40,
          "y": 0.5,
          "yanchor": "middle",
          "yref": "paper"
         }
        ],
        "font": {
         "color": "rgba(212, 210, 210, 1)"
        },
        "height": 600,
        "template": {
         "data": {
          "bar": [
           {
            "error_x": {
             "color": "#f2f5fa"
            },
            "error_y": {
             "color": "#f2f5fa"
            },
            "marker": {
             "line": {
              "color": "rgb(17,17,17)",
              "width": 0.5
             },
             "pattern": {
              "fillmode": "overlay",
              "size": 10,
              "solidity": 0.2
             }
            },
            "type": "bar"
           }
          ],
          "barpolar": [
           {
            "marker": {
             "line": {
              "color": "rgb(17,17,17)",
              "width": 0.5
             },
             "pattern": {
              "fillmode": "overlay",
              "size": 10,
              "solidity": 0.2
             }
            },
            "type": "barpolar"
           }
          ],
          "carpet": [
           {
            "aaxis": {
             "endlinecolor": "#A2B1C6",
             "gridcolor": "#506784",
             "linecolor": "#506784",
             "minorgridcolor": "#506784",
             "startlinecolor": "#A2B1C6"
            },
            "baxis": {
             "endlinecolor": "#A2B1C6",
             "gridcolor": "#506784",
             "linecolor": "#506784",
             "minorgridcolor": "#506784",
             "startlinecolor": "#A2B1C6"
            },
            "type": "carpet"
           }
          ],
          "choropleth": [
           {
            "colorbar": {
             "outlinewidth": 0,
             "ticks": ""
            },
            "type": "choropleth"
           }
          ],
          "contour": [
           {
            "colorbar": {
             "outlinewidth": 0,
             "ticks": ""
            },
            "colorscale": [
             [
              0,
              "#0d0887"
             ],
             [
              0.1111111111111111,
              "#46039f"
             ],
             [
              0.2222222222222222,
              "#7201a8"
             ],
             [
              0.3333333333333333,
              "#9c179e"
             ],
             [
              0.4444444444444444,
              "#bd3786"
             ],
             [
              0.5555555555555556,
              "#d8576b"
             ],
             [
              0.6666666666666666,
              "#ed7953"
             ],
             [
              0.7777777777777778,
              "#fb9f3a"
             ],
             [
              0.8888888888888888,
              "#fdca26"
             ],
             [
              1,
              "#f0f921"
             ]
            ],
            "type": "contour"
           }
          ],
          "contourcarpet": [
           {
            "colorbar": {
             "outlinewidth": 0,
             "ticks": ""
            },
            "type": "contourcarpet"
           }
          ],
          "heatmap": [
           {
            "colorbar": {
             "outlinewidth": 0,
             "ticks": ""
            },
            "colorscale": [
             [
              0,
              "#0d0887"
             ],
             [
              0.1111111111111111,
              "#46039f"
             ],
             [
              0.2222222222222222,
              "#7201a8"
             ],
             [
              0.3333333333333333,
              "#9c179e"
             ],
             [
              0.4444444444444444,
              "#bd3786"
             ],
             [
              0.5555555555555556,
              "#d8576b"
             ],
             [
              0.6666666666666666,
              "#ed7953"
             ],
             [
              0.7777777777777778,
              "#fb9f3a"
             ],
             [
              0.8888888888888888,
              "#fdca26"
             ],
             [
              1,
              "#f0f921"
             ]
            ],
            "type": "heatmap"
           }
          ],
          "histogram": [
           {
            "marker": {
             "pattern": {
              "fillmode": "overlay",
              "size": 10,
              "solidity": 0.2
             }
            },
            "type": "histogram"
           }
          ],
          "histogram2d": [
           {
            "colorbar": {
             "outlinewidth": 0,
             "ticks": ""
            },
            "colorscale": [
             [
              0,
              "#0d0887"
             ],
             [
              0.1111111111111111,
              "#46039f"
             ],
             [
              0.2222222222222222,
              "#7201a8"
             ],
             [
              0.3333333333333333,
              "#9c179e"
             ],
             [
              0.4444444444444444,
              "#bd3786"
             ],
             [
              0.5555555555555556,
              "#d8576b"
             ],
             [
              0.6666666666666666,
              "#ed7953"
             ],
             [
              0.7777777777777778,
              "#fb9f3a"
             ],
             [
              0.8888888888888888,
              "#fdca26"
             ],
             [
              1,
              "#f0f921"
             ]
            ],
            "type": "histogram2d"
           }
          ],
          "histogram2dcontour": [
           {
            "colorbar": {
             "outlinewidth": 0,
             "ticks": ""
            },
            "colorscale": [
             [
              0,
              "#0d0887"
             ],
             [
              0.1111111111111111,
              "#46039f"
             ],
             [
              0.2222222222222222,
              "#7201a8"
             ],
             [
              0.3333333333333333,
              "#9c179e"
             ],
             [
              0.4444444444444444,
              "#bd3786"
             ],
             [
              0.5555555555555556,
              "#d8576b"
             ],
             [
              0.6666666666666666,
              "#ed7953"
             ],
             [
              0.7777777777777778,
              "#fb9f3a"
             ],
             [
              0.8888888888888888,
              "#fdca26"
             ],
             [
              1,
              "#f0f921"
             ]
            ],
            "type": "histogram2dcontour"
           }
          ],
          "mesh3d": [
           {
            "colorbar": {
             "outlinewidth": 0,
             "ticks": ""
            },
            "type": "mesh3d"
           }
          ],
          "parcoords": [
           {
            "line": {
             "colorbar": {
              "outlinewidth": 0,
              "ticks": ""
             }
            },
            "type": "parcoords"
           }
          ],
          "pie": [
           {
            "automargin": true,
            "type": "pie"
           }
          ],
          "scatter": [
           {
            "marker": {
             "line": {
              "color": "#283442"
             }
            },
            "type": "scatter"
           }
          ],
          "scatter3d": [
           {
            "line": {
             "colorbar": {
              "outlinewidth": 0,
              "ticks": ""
             }
            },
            "marker": {
             "colorbar": {
              "outlinewidth": 0,
              "ticks": ""
             }
            },
            "type": "scatter3d"
           }
          ],
          "scattercarpet": [
           {
            "marker": {
             "colorbar": {
              "outlinewidth": 0,
              "ticks": ""
             }
            },
            "type": "scattercarpet"
           }
          ],
          "scattergeo": [
           {
            "marker": {
             "colorbar": {
              "outlinewidth": 0,
              "ticks": ""
             }
            },
            "type": "scattergeo"
           }
          ],
          "scattergl": [
           {
            "marker": {
             "line": {
              "color": "#283442"
             }
            },
            "type": "scattergl"
           }
          ],
          "scattermap": [
           {
            "marker": {
             "colorbar": {
              "outlinewidth": 0,
              "ticks": ""
             }
            },
            "type": "scattermap"
           }
          ],
          "scattermapbox": [
           {
            "marker": {
             "colorbar": {
              "outlinewidth": 0,
              "ticks": ""
             }
            },
            "type": "scattermapbox"
           }
          ],
          "scatterpolar": [
           {
            "marker": {
             "colorbar": {
              "outlinewidth": 0,
              "ticks": ""
             }
            },
            "type": "scatterpolar"
           }
          ],
          "scatterpolargl": [
           {
            "marker": {
             "colorbar": {
              "outlinewidth": 0,
              "ticks": ""
             }
            },
            "type": "scatterpolargl"
           }
          ],
          "scatterternary": [
           {
            "marker": {
             "colorbar": {
              "outlinewidth": 0,
              "ticks": ""
             }
            },
            "type": "scatterternary"
           }
          ],
          "surface": [
           {
            "colorbar": {
             "outlinewidth": 0,
             "ticks": ""
            },
            "colorscale": [
             [
              0,
              "#0d0887"
             ],
             [
              0.1111111111111111,
              "#46039f"
             ],
             [
              0.2222222222222222,
              "#7201a8"
             ],
             [
              0.3333333333333333,
              "#9c179e"
             ],
             [
              0.4444444444444444,
              "#bd3786"
             ],
             [
              0.5555555555555556,
              "#d8576b"
             ],
             [
              0.6666666666666666,
              "#ed7953"
             ],
             [
              0.7777777777777778,
              "#fb9f3a"
             ],
             [
              0.8888888888888888,
              "#fdca26"
             ],
             [
              1,
              "#f0f921"
             ]
            ],
            "type": "surface"
           }
          ],
          "table": [
           {
            "cells": {
             "fill": {
              "color": "#506784"
             },
             "line": {
              "color": "rgb(17,17,17)"
             }
            },
            "header": {
             "fill": {
              "color": "#2a3f5f"
             },
             "line": {
              "color": "rgb(17,17,17)"
             }
            },
            "type": "table"
           }
          ]
         },
         "layout": {
          "annotationdefaults": {
           "arrowcolor": "#f2f5fa",
           "arrowhead": 0,
           "arrowwidth": 1
          },
          "autotypenumbers": "strict",
          "coloraxis": {
           "colorbar": {
            "outlinewidth": 0,
            "ticks": ""
           }
          },
          "colorscale": {
           "diverging": [
            [
             0,
             "#8e0152"
            ],
            [
             0.1,
             "#c51b7d"
            ],
            [
             0.2,
             "#de77ae"
            ],
            [
             0.3,
             "#f1b6da"
            ],
            [
             0.4,
             "#fde0ef"
            ],
            [
             0.5,
             "#f7f7f7"
            ],
            [
             0.6,
             "#e6f5d0"
            ],
            [
             0.7,
             "#b8e186"
            ],
            [
             0.8,
             "#7fbc41"
            ],
            [
             0.9,
             "#4d9221"
            ],
            [
             1,
             "#276419"
            ]
           ],
           "sequential": [
            [
             0,
             "#0d0887"
            ],
            [
             0.1111111111111111,
             "#46039f"
            ],
            [
             0.2222222222222222,
             "#7201a8"
            ],
            [
             0.3333333333333333,
             "#9c179e"
            ],
            [
             0.4444444444444444,
             "#bd3786"
            ],
            [
             0.5555555555555556,
             "#d8576b"
            ],
            [
             0.6666666666666666,
             "#ed7953"
            ],
            [
             0.7777777777777778,
             "#fb9f3a"
            ],
            [
             0.8888888888888888,
             "#fdca26"
            ],
            [
             1,
             "#f0f921"
            ]
           ],
           "sequentialminus": [
            [
             0,
             "#0d0887"
            ],
            [
             0.1111111111111111,
             "#46039f"
            ],
            [
             0.2222222222222222,
             "#7201a8"
            ],
            [
             0.3333333333333333,
             "#9c179e"
            ],
            [
             0.4444444444444444,
             "#bd3786"
            ],
            [
             0.5555555555555556,
             "#d8576b"
            ],
            [
             0.6666666666666666,
             "#ed7953"
            ],
            [
             0.7777777777777778,
             "#fb9f3a"
            ],
            [
             0.8888888888888888,
             "#fdca26"
            ],
            [
             1,
             "#f0f921"
            ]
           ]
          },
          "colorway": [
           "#636efa",
           "#EF553B",
           "#00cc96",
           "#ab63fa",
           "#FFA15A",
           "#19d3f3",
           "#FF6692",
           "#B6E880",
           "#FF97FF",
           "#FECB52"
          ],
          "font": {
           "color": "#f2f5fa"
          },
          "geo": {
           "bgcolor": "rgb(17,17,17)",
           "lakecolor": "rgb(17,17,17)",
           "landcolor": "rgb(17,17,17)",
           "showlakes": true,
           "showland": true,
           "subunitcolor": "#506784"
          },
          "hoverlabel": {
           "align": "left"
          },
          "hovermode": "closest",
          "mapbox": {
           "style": "dark"
          },
          "paper_bgcolor": "rgb(17,17,17)",
          "plot_bgcolor": "rgb(17,17,17)",
          "polar": {
           "angularaxis": {
            "gridcolor": "#506784",
            "linecolor": "#506784",
            "ticks": ""
           },
           "bgcolor": "rgb(17,17,17)",
           "radialaxis": {
            "gridcolor": "#506784",
            "linecolor": "#506784",
            "ticks": ""
           }
          },
          "scene": {
           "xaxis": {
            "backgroundcolor": "rgb(17,17,17)",
            "gridcolor": "#506784",
            "gridwidth": 2,
            "linecolor": "#506784",
            "showbackground": true,
            "ticks": "",
            "zerolinecolor": "#C8D4E3"
           },
           "yaxis": {
            "backgroundcolor": "rgb(17,17,17)",
            "gridcolor": "#506784",
            "gridwidth": 2,
            "linecolor": "#506784",
            "showbackground": true,
            "ticks": "",
            "zerolinecolor": "#C8D4E3"
           },
           "zaxis": {
            "backgroundcolor": "rgb(17,17,17)",
            "gridcolor": "#506784",
            "gridwidth": 2,
            "linecolor": "#506784",
            "showbackground": true,
            "ticks": "",
            "zerolinecolor": "#C8D4E3"
           }
          },
          "shapedefaults": {
           "line": {
            "color": "#f2f5fa"
           }
          },
          "sliderdefaults": {
           "bgcolor": "#C8D4E3",
           "bordercolor": "rgb(17,17,17)",
           "borderwidth": 1,
           "tickwidth": 0
          },
          "ternary": {
           "aaxis": {
            "gridcolor": "#506784",
            "linecolor": "#506784",
            "ticks": ""
           },
           "baxis": {
            "gridcolor": "#506784",
            "linecolor": "#506784",
            "ticks": ""
           },
           "bgcolor": "rgb(17,17,17)",
           "caxis": {
            "gridcolor": "#506784",
            "linecolor": "#506784",
            "ticks": ""
           }
          },
          "title": {
           "x": 0.05
          },
          "updatemenudefaults": {
           "bgcolor": "#506784",
           "borderwidth": 0
          },
          "xaxis": {
           "automargin": true,
           "gridcolor": "#283442",
           "linecolor": "#506784",
           "ticks": "",
           "title": {
            "standoff": 15
           },
           "zerolinecolor": "#283442",
           "zerolinewidth": 2
          },
          "yaxis": {
           "automargin": true,
           "gridcolor": "#283442",
           "linecolor": "#506784",
           "ticks": "",
           "title": {
            "standoff": 15
           },
           "zerolinecolor": "#283442",
           "zerolinewidth": 2
          }
         }
        },
        "width": 800,
        "xaxis": {
         "anchor": "y",
         "domain": [
          0,
          1
         ],
         "showgrid": false,
         "zeroline": false
        },
        "yaxis": {
         "anchor": "x",
         "domain": [
          0,
          1
         ]
        }
       }
      }
     },
     "metadata": {},
     "output_type": "display_data"
    }
   ],
   "source": [
    "fig = make_subplots(1,1,\n",
    "                    subplot_titles = [\"Receiver operating characteristic\"],\n",
    "                    x_title=\"False Positive Rate\",\n",
    "                    y_title = \"True Positive Rate\"\n",
    "                   )\n",
    "\n",
    "fig.add_trace(go.Scatter(\n",
    "    x = fpr_base,\n",
    "    y = tpr_base,\n",
    "    fill = 'tozeroy',\n",
    "    name = \"ROC curve (area = %0.3f)\" % roc_auc_base,\n",
    "    ))\n",
    "\n",
    "fig.add_trace(go.Scatter(\n",
    "    x = fpr_base_1,\n",
    "    y = tpr_base_1,\n",
    "    fill = 'tozeroy',\n",
    "    name = \"Less dimensity ROC curve (area = %0.3f)\" % roc_auc_base_1,\n",
    "    ))\n",
    "\n",
    "fig.add_trace(go.Scatter(\n",
    "    x = fpr_coin,\n",
    "    y = tpr_coin,\n",
    "    mode = 'lines',\n",
    "    line = dict(dash = 'dash'),\n",
    "    name = 'Coin classifier'\n",
    "    ))\n",
    "\n",
    "\n",
    "fig.update_layout(\n",
    "    height = 600,\n",
    "    width = 800,\n",
    "    xaxis_showgrid=False,\n",
    "    xaxis_zeroline=False,\n",
    "    template = 'plotly_dark',\n",
    "    font_color = 'rgba(212, 210, 210, 1)'\n",
    "    )"
   ]
  },
  {
   "cell_type": "markdown",
   "metadata": {},
   "source": [
    "Вывод:\n",
    "Мы снизили размерность векторов tf-idf потеряв при этом 0.4% качества (площадь под ROC кривой при размерности > 25К 0.930, площадь под ROC кривой при размерности > 8K -- 0.926)"
   ]
  },
  {
   "cell_type": "markdown",
   "metadata": {},
   "source": [
    "# Подбор оптимального порогового значения классификации"
   ]
  },
  {
   "cell_type": "code",
   "execution_count": 58,
   "metadata": {},
   "outputs": [],
   "source": [
    "scores = {}\n",
    "\n",
    "weight = 0.55\n",
    "\n",
    "for threshold in np.linspace(0, 1, 100):\n",
    "    \n",
    "    matrix = confusion_matrix(test['assessment'],\n",
    "                 (predict_lr_base_proba[:, 0] <  threshold).astype('float'),\n",
    "                 normalize='true',\n",
    "                )\n",
    "\n",
    "    score = matrix[0,0] * weight + matrix[1,1] * (1 - weight)\n",
    "    \n",
    "    scores[threshold] = score"
   ]
  },
  {
   "cell_type": "code",
   "execution_count": 59,
   "metadata": {},
   "outputs": [
    {
     "data": {
      "text/html": [
       "<div>\n",
       "<style scoped>\n",
       "    .dataframe tbody tr th:only-of-type {\n",
       "        vertical-align: middle;\n",
       "    }\n",
       "\n",
       "    .dataframe tbody tr th {\n",
       "        vertical-align: top;\n",
       "    }\n",
       "\n",
       "    .dataframe thead th {\n",
       "        text-align: right;\n",
       "    }\n",
       "</style>\n",
       "<table border=\"1\" class=\"dataframe\">\n",
       "  <thead>\n",
       "    <tr style=\"text-align: right;\">\n",
       "      <th></th>\n",
       "      <th>true_score</th>\n",
       "      <th>threshold</th>\n",
       "    </tr>\n",
       "  </thead>\n",
       "  <tbody>\n",
       "    <tr>\n",
       "      <th>46</th>\n",
       "      <td>0.866587</td>\n",
       "      <td>0.464646</td>\n",
       "    </tr>\n",
       "    <tr>\n",
       "      <th>47</th>\n",
       "      <td>0.863270</td>\n",
       "      <td>0.474747</td>\n",
       "    </tr>\n",
       "    <tr>\n",
       "      <th>44</th>\n",
       "      <td>0.861732</td>\n",
       "      <td>0.444444</td>\n",
       "    </tr>\n",
       "    <tr>\n",
       "      <th>45</th>\n",
       "      <td>0.860266</td>\n",
       "      <td>0.454545</td>\n",
       "    </tr>\n",
       "    <tr>\n",
       "      <th>48</th>\n",
       "      <td>0.859299</td>\n",
       "      <td>0.484848</td>\n",
       "    </tr>\n",
       "  </tbody>\n",
       "</table>\n",
       "</div>"
      ],
      "text/plain": [
       "    true_score  threshold\n",
       "46    0.866587   0.464646\n",
       "47    0.863270   0.474747\n",
       "44    0.861732   0.444444\n",
       "45    0.860266   0.454545\n",
       "48    0.859299   0.484848"
      ]
     },
     "execution_count": 59,
     "metadata": {},
     "output_type": "execute_result"
    }
   ],
   "source": [
    "pd.DataFrame({'true_score':scores.values(),\n",
    "             'threshold':scores.keys()},\n",
    "             ).sort_values(by = 'true_score', ascending = False).head()"
   ]
  },
  {
   "cell_type": "code",
   "execution_count": 60,
   "metadata": {},
   "outputs": [
    {
     "data": {
      "text/plain": [
       "array([[0.88477366, 0.11522634],\n",
       "       [0.15564202, 0.84435798]])"
      ]
     },
     "execution_count": 60,
     "metadata": {},
     "output_type": "execute_result"
    }
   ],
   "source": [
    "matrix = confusion_matrix(test['assessment'],\n",
    "                 (predict_lr_base_proba[:, 0] <  0.464646).astype('int'),\n",
    "                 normalize='true',\n",
    "                )\n",
    "matrix"
   ]
  }
 ],
 "metadata": {
  "kernelspec": {
   "display_name": "Python 3",
   "language": "python",
   "name": "python3"
  },
  "language_info": {
   "codemirror_mode": {
    "name": "ipython",
    "version": 3
   },
   "file_extension": ".py",
   "mimetype": "text/x-python",
   "name": "python",
   "nbconvert_exporter": "python",
   "pygments_lexer": "ipython3",
   "version": "3.12.7"
  }
 },
 "nbformat": 4,
 "nbformat_minor": 2
}
