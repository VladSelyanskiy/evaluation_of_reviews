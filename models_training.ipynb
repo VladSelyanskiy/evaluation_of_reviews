{
  "cells": [
    {
      "cell_type": "code",
      "execution_count": 50,
      "metadata": {
        "colab": {
          "base_uri": "https://localhost:8080/",
          "height": 354
        },
        "id": "cqeq9vIYzjTf",
        "outputId": "872ef1b7-582b-4580-d7d5-6382a2b91a0f"
      },
      "outputs": [],
      "source": [
        "import nltk\n",
        "import pandas as pd\n",
        "import numpy as np"
      ]
    },
    {
      "cell_type": "code",
      "execution_count": 51,
      "metadata": {},
      "outputs": [
        {
          "data": {
            "text/html": [
              "<div>\n",
              "<style scoped>\n",
              "    .dataframe tbody tr th:only-of-type {\n",
              "        vertical-align: middle;\n",
              "    }\n",
              "\n",
              "    .dataframe tbody tr th {\n",
              "        vertical-align: top;\n",
              "    }\n",
              "\n",
              "    .dataframe thead th {\n",
              "        text-align: right;\n",
              "    }\n",
              "</style>\n",
              "<table border=\"1\" class=\"dataframe\">\n",
              "  <thead>\n",
              "    <tr style=\"text-align: right;\">\n",
              "      <th></th>\n",
              "      <th>review</th>\n",
              "      <th>assessment</th>\n",
              "    </tr>\n",
              "  </thead>\n",
              "  <tbody>\n",
              "    <tr>\n",
              "      <th>0</th>\n",
              "      <td>Игра, в которой победить может даже злодей. От...</td>\n",
              "      <td>True</td>\n",
              "    </tr>\n",
              "    <tr>\n",
              "      <th>1</th>\n",
              "      <td>Обалденная игра для компании. Помогает разнооб...</td>\n",
              "      <td>True</td>\n",
              "    </tr>\n",
              "    <tr>\n",
              "      <th>2</th>\n",
              "      <td>Весёлая настольная игра для компании, которая ...</td>\n",
              "      <td>True</td>\n",
              "    </tr>\n",
              "    <tr>\n",
              "      <th>3</th>\n",
              "      <td>Общие впечатления Игра огонь даже для взрослог...</td>\n",
              "      <td>True</td>\n",
              "    </tr>\n",
              "    <tr>\n",
              "      <th>4</th>\n",
              "      <td>Случайно наткнулся на эту игрушку в детском ми...</td>\n",
              "      <td>True</td>\n",
              "    </tr>\n",
              "    <tr>\n",
              "      <th>...</th>\n",
              "      <td>...</td>\n",
              "      <td>...</td>\n",
              "    </tr>\n",
              "    <tr>\n",
              "      <th>96</th>\n",
              "      <td>Ерунда полная! Половина больших бакуганов не т...</td>\n",
              "      <td>False</td>\n",
              "    </tr>\n",
              "    <tr>\n",
              "      <th>97</th>\n",
              "      <td>Ужасное качество фишек , древесина (загатовка ...</td>\n",
              "      <td>False</td>\n",
              "    </tr>\n",
              "    <tr>\n",
              "      <th>98</th>\n",
              "      <td>Инструкция к детской игре должна предполагать,...</td>\n",
              "      <td>False</td>\n",
              "    </tr>\n",
              "    <tr>\n",
              "      <th>99</th>\n",
              "      <td>Покупали шар головоломку, намного интереснее и...</td>\n",
              "      <td>False</td>\n",
              "    </tr>\n",
              "    <tr>\n",
              "      <th>100</th>\n",
              "      <td>У нас в 90-00 лучше были. Мало того, что я чут...</td>\n",
              "      <td>False</td>\n",
              "    </tr>\n",
              "  </tbody>\n",
              "</table>\n",
              "<p>101 rows × 2 columns</p>\n",
              "</div>"
            ],
            "text/plain": [
              "                                                review  assessment\n",
              "0    Игра, в которой победить может даже злодей. От...        True\n",
              "1    Обалденная игра для компании. Помогает разнооб...        True\n",
              "2    Весёлая настольная игра для компании, которая ...        True\n",
              "3    Общие впечатления Игра огонь даже для взрослог...        True\n",
              "4    Случайно наткнулся на эту игрушку в детском ми...        True\n",
              "..                                                 ...         ...\n",
              "96   Ерунда полная! Половина больших бакуганов не т...       False\n",
              "97   Ужасное качество фишек , древесина (загатовка ...       False\n",
              "98   Инструкция к детской игре должна предполагать,...       False\n",
              "99   Покупали шар головоломку, намного интереснее и...       False\n",
              "100  У нас в 90-00 лучше были. Мало того, что я чут...       False\n",
              "\n",
              "[101 rows x 2 columns]"
            ]
          },
          "execution_count": 51,
          "metadata": {},
          "output_type": "execute_result"
        }
      ],
      "source": [
        "reviews = pd.read_csv(r\"C:\\__project\\evaluation_of_reviews\\reviews.csv\", index_col=0)\n",
        "reviews"
      ]
    },
    {
      "cell_type": "code",
      "execution_count": 52,
      "metadata": {},
      "outputs": [
        {
          "data": {
            "text/html": [
              "<div>\n",
              "<style scoped>\n",
              "    .dataframe tbody tr th:only-of-type {\n",
              "        vertical-align: middle;\n",
              "    }\n",
              "\n",
              "    .dataframe tbody tr th {\n",
              "        vertical-align: top;\n",
              "    }\n",
              "\n",
              "    .dataframe thead th {\n",
              "        text-align: right;\n",
              "    }\n",
              "</style>\n",
              "<table border=\"1\" class=\"dataframe\">\n",
              "  <thead>\n",
              "    <tr style=\"text-align: right;\">\n",
              "      <th></th>\n",
              "      <th>review</th>\n",
              "      <th>assessment</th>\n",
              "    </tr>\n",
              "  </thead>\n",
              "  <tbody>\n",
              "    <tr>\n",
              "      <th>0</th>\n",
              "      <td>Спешл эдишн дали халявно, т.к. ранее покупал о...</td>\n",
              "      <td>True</td>\n",
              "    </tr>\n",
              "    <tr>\n",
              "      <th>1</th>\n",
              "      <td>Моя самая любимая игра!Игра интересна тем что,...</td>\n",
              "      <td>True</td>\n",
              "    </tr>\n",
              "    <tr>\n",
              "      <th>2</th>\n",
              "      <td>ИГРА ПРОСТО КАК ТЕС ОЧЕНЬ ДАЖЕ ПЕРВАЯ</td>\n",
              "      <td>True</td>\n",
              "    </tr>\n",
              "    <tr>\n",
              "      <th>3</th>\n",
              "      <td>Игра просто бомба, рекомендую всем</td>\n",
              "      <td>True</td>\n",
              "    </tr>\n",
              "    <tr>\n",
              "      <th>4</th>\n",
              "      <td>очень хорошая игра, если не играли то очень со...</td>\n",
              "      <td>True</td>\n",
              "    </tr>\n",
              "    <tr>\n",
              "      <th>...</th>\n",
              "      <td>...</td>\n",
              "      <td>...</td>\n",
              "    </tr>\n",
              "    <tr>\n",
              "      <th>33583</th>\n",
              "      <td>Тук тук! кто там? а это мой 2007 год.</td>\n",
              "      <td>False</td>\n",
              "    </tr>\n",
              "    <tr>\n",
              "      <th>33586</th>\n",
              "      <td>Вот не знаю, что её так ругают, по мне - доста...</td>\n",
              "      <td>True</td>\n",
              "    </tr>\n",
              "    <tr>\n",
              "      <th>33588</th>\n",
              "      <td>3яя была отличной, а эта - халтура. Таких дене...</td>\n",
              "      <td>False</td>\n",
              "    </tr>\n",
              "    <tr>\n",
              "      <th>33593</th>\n",
              "      <td>песочница в котрой развлекаешь себя сам,в перв...</td>\n",
              "      <td>True</td>\n",
              "    </tr>\n",
              "    <tr>\n",
              "      <th>33594</th>\n",
              "      <td>Спасибо за игру.Если меня спросят,когда меня т...</td>\n",
              "      <td>False</td>\n",
              "    </tr>\n",
              "  </tbody>\n",
              "</table>\n",
              "<p>23802 rows × 2 columns</p>\n",
              "</div>"
            ],
            "text/plain": [
              "                                                  review  assessment\n",
              "0      Спешл эдишн дали халявно, т.к. ранее покупал о...        True\n",
              "1      Моя самая любимая игра!Игра интересна тем что,...        True\n",
              "2                  ИГРА ПРОСТО КАК ТЕС ОЧЕНЬ ДАЖЕ ПЕРВАЯ        True\n",
              "3                     Игра просто бомба, рекомендую всем        True\n",
              "4      очень хорошая игра, если не играли то очень со...        True\n",
              "...                                                  ...         ...\n",
              "33583              Тук тук! кто там? а это мой 2007 год.       False\n",
              "33586  Вот не знаю, что её так ругают, по мне - доста...        True\n",
              "33588  3яя была отличной, а эта - халтура. Таких дене...       False\n",
              "33593  песочница в котрой развлекаешь себя сам,в перв...        True\n",
              "33594  Спасибо за игру.Если меня спросят,когда меня т...       False\n",
              "\n",
              "[23802 rows x 2 columns]"
            ]
          },
          "execution_count": 52,
          "metadata": {},
          "output_type": "execute_result"
        }
      ],
      "source": [
        "extra_reviews = pd.read_csv(r\"extra_reviews.csv\", index_col=0)\n",
        "extra_reviews"
      ]
    },
    {
      "cell_type": "code",
      "execution_count": 53,
      "metadata": {},
      "outputs": [
        {
          "data": {
            "text/html": [
              "<div>\n",
              "<style scoped>\n",
              "    .dataframe tbody tr th:only-of-type {\n",
              "        vertical-align: middle;\n",
              "    }\n",
              "\n",
              "    .dataframe tbody tr th {\n",
              "        vertical-align: top;\n",
              "    }\n",
              "\n",
              "    .dataframe thead th {\n",
              "        text-align: right;\n",
              "    }\n",
              "</style>\n",
              "<table border=\"1\" class=\"dataframe\">\n",
              "  <thead>\n",
              "    <tr style=\"text-align: right;\">\n",
              "      <th></th>\n",
              "      <th>review</th>\n",
              "      <th>assessment</th>\n",
              "    </tr>\n",
              "  </thead>\n",
              "  <tbody>\n",
              "    <tr>\n",
              "      <th>0</th>\n",
              "      <td>Игра, в которой победить может даже злодей. От...</td>\n",
              "      <td>True</td>\n",
              "    </tr>\n",
              "    <tr>\n",
              "      <th>1</th>\n",
              "      <td>Обалденная игра для компании. Помогает разнооб...</td>\n",
              "      <td>True</td>\n",
              "    </tr>\n",
              "    <tr>\n",
              "      <th>2</th>\n",
              "      <td>Весёлая настольная игра для компании, которая ...</td>\n",
              "      <td>True</td>\n",
              "    </tr>\n",
              "    <tr>\n",
              "      <th>3</th>\n",
              "      <td>Общие впечатления Игра огонь даже для взрослог...</td>\n",
              "      <td>True</td>\n",
              "    </tr>\n",
              "    <tr>\n",
              "      <th>4</th>\n",
              "      <td>Случайно наткнулся на эту игрушку в детском ми...</td>\n",
              "      <td>True</td>\n",
              "    </tr>\n",
              "    <tr>\n",
              "      <th>...</th>\n",
              "      <td>...</td>\n",
              "      <td>...</td>\n",
              "    </tr>\n",
              "    <tr>\n",
              "      <th>23898</th>\n",
              "      <td>Тук тук! кто там? а это мой 2007 год.</td>\n",
              "      <td>False</td>\n",
              "    </tr>\n",
              "    <tr>\n",
              "      <th>23899</th>\n",
              "      <td>Вот не знаю, что её так ругают, по мне - доста...</td>\n",
              "      <td>True</td>\n",
              "    </tr>\n",
              "    <tr>\n",
              "      <th>23900</th>\n",
              "      <td>3яя была отличной, а эта - халтура. Таких дене...</td>\n",
              "      <td>False</td>\n",
              "    </tr>\n",
              "    <tr>\n",
              "      <th>23901</th>\n",
              "      <td>песочница в котрой развлекаешь себя сам,в перв...</td>\n",
              "      <td>True</td>\n",
              "    </tr>\n",
              "    <tr>\n",
              "      <th>23902</th>\n",
              "      <td>Спасибо за игру.Если меня спросят,когда меня т...</td>\n",
              "      <td>False</td>\n",
              "    </tr>\n",
              "  </tbody>\n",
              "</table>\n",
              "<p>23903 rows × 2 columns</p>\n",
              "</div>"
            ],
            "text/plain": [
              "                                                  review  assessment\n",
              "0      Игра, в которой победить может даже злодей. От...        True\n",
              "1      Обалденная игра для компании. Помогает разнооб...        True\n",
              "2      Весёлая настольная игра для компании, которая ...        True\n",
              "3      Общие впечатления Игра огонь даже для взрослог...        True\n",
              "4      Случайно наткнулся на эту игрушку в детском ми...        True\n",
              "...                                                  ...         ...\n",
              "23898              Тук тук! кто там? а это мой 2007 год.       False\n",
              "23899  Вот не знаю, что её так ругают, по мне - доста...        True\n",
              "23900  3яя была отличной, а эта - халтура. Таких дене...       False\n",
              "23901  песочница в котрой развлекаешь себя сам,в перв...        True\n",
              "23902  Спасибо за игру.Если меня спросят,когда меня т...       False\n",
              "\n",
              "[23903 rows x 2 columns]"
            ]
          },
          "execution_count": 53,
          "metadata": {},
          "output_type": "execute_result"
        }
      ],
      "source": [
        "data = pd.concat([reviews, extra_reviews]).reset_index(drop=True)\n",
        "data"
      ]
    },
    {
      "cell_type": "code",
      "execution_count": 54,
      "metadata": {},
      "outputs": [
        {
          "data": {
            "text/plain": [
              "assessment\n",
              "True     20227\n",
              "False     3676\n",
              "Name: count, dtype: int64"
            ]
          },
          "execution_count": 54,
          "metadata": {},
          "output_type": "execute_result"
        }
      ],
      "source": [
        "data['assessment'].value_counts()"
      ]
    },
    {
      "cell_type": "code",
      "execution_count": 55,
      "metadata": {
        "colab": {
          "base_uri": "https://localhost:8080/"
        },
        "id": "C_reOzGc3HcR",
        "outputId": "1f471fcb-d6ca-43db-dd6d-09f72955e3d5"
      },
      "outputs": [
        {
          "data": {
            "text/plain": [
              "array([1, 1, 1, ..., 0, 1, 0], dtype=int64)"
            ]
          },
          "execution_count": 55,
          "metadata": {},
          "output_type": "execute_result"
        }
      ],
      "source": [
        "from sklearn.preprocessing import LabelEncoder\n",
        "\n",
        "enc = LabelEncoder()\n",
        "label = enc.fit_transform(data['assessment'])\n",
        "label"
      ]
    },
    {
      "cell_type": "code",
      "execution_count": 56,
      "metadata": {},
      "outputs": [
        {
          "data": {
            "text/plain": [
              "0        игра, в которой победить может даже злодей. от...\n",
              "1        обалденная игра для компании. помогает разнооб...\n",
              "2        весёлая настольная игра для компании, которая ...\n",
              "3        общие впечатления игра огонь даже для взрослог...\n",
              "4        случайно наткнулся на эту игрушку в детском ми...\n",
              "                               ...                        \n",
              "23898                тук тук! кто там? а это мой 2007 год.\n",
              "23899    вот не знаю, что её так ругают, по мне - доста...\n",
              "23900    3яя была отличной, а эта - халтура. таких дене...\n",
              "23901    песочница в котрой развлекаешь себя сам,в перв...\n",
              "23902    спасибо за игру.если меня спросят,когда меня т...\n",
              "Name: review, Length: 23903, dtype: object"
            ]
          },
          "execution_count": 56,
          "metadata": {},
          "output_type": "execute_result"
        }
      ],
      "source": [
        "processed = data['review'].str.lower()\n",
        "processed"
      ]
    },
    {
      "cell_type": "code",
      "execution_count": 57,
      "metadata": {},
      "outputs": [
        {
          "name": "stderr",
          "output_type": "stream",
          "text": [
            "[nltk_data] Downloading package stopwords to\n",
            "[nltk_data]     C:\\Users\\vlads\\AppData\\Roaming\\nltk_data...\n",
            "[nltk_data]   Package stopwords is already up-to-date!\n"
          ]
        }
      ],
      "source": [
        "from nltk.corpus import stopwords\n",
        "\n",
        "nltk.download(\"stopwords\")\n",
        "stop_words = set(stopwords.words(\"russian\"))"
      ]
    },
    {
      "cell_type": "code",
      "execution_count": 58,
      "metadata": {
        "colab": {
          "base_uri": "https://localhost:8080/",
          "height": 513
        },
        "id": "v6UFv5Zs3YJc",
        "outputId": "4d21e519-433b-48fb-a725-566a5bc466ce"
      },
      "outputs": [
        {
          "data": {
            "text/plain": [
              "0        игра, которой победить злодей. отличное карточ...\n",
              "1        обалденная игра компании. помогает разнообрази...\n",
              "2        весёлая настольная игра компании, которая раск...\n",
              "3        общие впечатления игра огонь взрослого. питани...\n",
              "4        случайно наткнулся игрушку детском мире. учиты...\n",
              "                               ...                        \n",
              "23898                          тук тук! там? это 2007 год.\n",
              "23899    знаю, её ругают, - достаточно яркое взрывное д...\n",
              "23900      3яя отличной, эта - халтура. таких денег стоит.\n",
              "23901    песочница котрой развлекаешь сам,в первые долг...\n",
              "23902    спасибо игру.если спросят,когда тошнило послед...\n",
              "Name: review, Length: 23903, dtype: object"
            ]
          },
          "execution_count": 58,
          "metadata": {},
          "output_type": "execute_result"
        }
      ],
      "source": [
        "processed = processed.apply(lambda x: ' '.join(term for term in x.split() if term not in stop_words))\n",
        "ps = nltk.PorterStemmer()\n",
        "processed = processed.apply(lambda x: ' '.join(ps.stem(term) for term in x.split()))\n",
        "\n",
        "processed"
      ]
    },
    {
      "cell_type": "code",
      "execution_count": 59,
      "metadata": {},
      "outputs": [
        {
          "data": {
            "text/plain": [
              "0        игра которой победить злодей отличное карточно...\n",
              "1        обалденная игра компании помогает разнообразит...\n",
              "2        весёлая настольная игра компании которая раскр...\n",
              "3        общие впечатления игра огонь взрослого питание...\n",
              "4        случайно наткнулся игрушку детском мире учитыв...\n",
              "                               ...                        \n",
              "23898                             тук тук там это 2007 год\n",
              "23899    знаю её ругают достаточно яркое взрывное дейст...\n",
              "23900           3яя отличной эта халтура таких денег стоит\n",
              "23901    песочница котрой развлекаешь сам в первые долг...\n",
              "23902    спасибо игру если спросят когда тошнило послед...\n",
              "Name: review, Length: 23903, dtype: object"
            ]
          },
          "execution_count": 59,
          "metadata": {},
          "output_type": "execute_result"
        }
      ],
      "source": [
        "from nltk.tokenize import RegexpTokenizer\n",
        "\n",
        "tokenizer = RegexpTokenizer(r\"\\w+\")\n",
        "processed = processed.apply(lambda x: ' '.join(tokenizer.tokenize(x)))\n",
        "processed"
      ]
    },
    {
      "cell_type": "code",
      "execution_count": 61,
      "metadata": {
        "colab": {
          "base_uri": "https://localhost:8080/"
        },
        "id": "fI-15gzI4ILZ",
        "outputId": "692a32b5-94de-4062-be61-e9937922f764"
      },
      "outputs": [
        {
          "name": "stderr",
          "output_type": "stream",
          "text": [
            "[nltk_data] Downloading package punkt_tab to\n",
            "[nltk_data]     C:\\Users\\vlads\\AppData\\Roaming\\nltk_data...\n",
            "[nltk_data]   Package punkt_tab is already up-to-date!\n"
          ]
        },
        {
          "name": "stdout",
          "output_type": "stream",
          "text": [
            "Number of words: 54658\n",
            "Most common words: [('игра', 11938), ('10', 5099), ('это', 3862), ('очень', 3598), ('игру', 2510), ('игры', 1934), ('просто', 1930), ('играть', 1618), ('игре', 1363), ('рекомендую', 1312), ('хорошая', 1253), ('то', 1186), ('советую', 1167), ('всем', 1133), ('отличная', 1128)]\n"
          ]
        }
      ],
      "source": [
        "from nltk.tokenize import word_tokenize\n",
        "nltk.download('punkt_tab')\n",
        "all_words = []\n",
        "\n",
        "for text in processed:\n",
        "    words = word_tokenize(text)\n",
        "    for w in words:\n",
        "        all_words.append(w)\n",
        "\n",
        "all_words = nltk.FreqDist(all_words)\n",
        "\n",
        "# Print the result\n",
        "print('Number of words: {}'.format(len(all_words)))\n",
        "print('Most common words: {}'.format(all_words.most_common(15)))\n",
        "word_features = [x[0] for x in all_words.most_common(2000)]"
      ]
    },
    {
      "cell_type": "code",
      "execution_count": 62,
      "metadata": {
        "id": "h0iJ_4GC4if6"
      },
      "outputs": [],
      "source": [
        "def find_features(text):\n",
        "    words = word_tokenize(text)\n",
        "    features = {}\n",
        "    for word in word_features:\n",
        "        features[word] = (word in words)\n",
        "\n",
        "    return features"
      ]
    },
    {
      "cell_type": "code",
      "execution_count": 63,
      "metadata": {
        "colab": {
          "base_uri": "https://localhost:8080/"
        },
        "id": "I1TKHr4j4uLd",
        "outputId": "44d72bf4-3bd7-4801-b3fe-606cd04a7e60"
      },
      "outputs": [],
      "source": [
        "messages = list(zip(processed, label))\n",
        "\n",
        "np.random.seed(1)\n",
        "np.random.shuffle(messages)\n",
        "\n",
        "# Call find_features function\n",
        "feature_set = [(find_features(text), label) for (text, label) in messages]"
      ]
    },
    {
      "cell_type": "code",
      "execution_count": 64,
      "metadata": {},
      "outputs": [
        {
          "name": "stdout",
          "output_type": "stream",
          "text": [
            "17927\n",
            "5976\n"
          ]
        }
      ],
      "source": [
        "from sklearn.model_selection import train_test_split\n",
        "\n",
        "training, test = train_test_split(feature_set, test_size=0.25, random_state=1)\n",
        "\n",
        "print(len(training))\n",
        "print(len(test))"
      ]
    },
    {
      "cell_type": "code",
      "execution_count": 65,
      "metadata": {},
      "outputs": [],
      "source": [
        "from nltk.classify.scikitlearn import SklearnClassifier\n",
        "from sklearn.naive_bayes import MultinomialNB\n",
        "clf = MultinomialNB()"
      ]
    },
    {
      "cell_type": "code",
      "execution_count": 66,
      "metadata": {},
      "outputs": [],
      "source": [
        "test_model = SklearnClassifier(MultinomialNB()).train(training)"
      ]
    },
    {
      "cell_type": "code",
      "execution_count": 67,
      "metadata": {},
      "outputs": [
        {
          "name": "stdout",
          "output_type": "stream",
          "text": [
            "              precision    recall  f1-score   support\n",
            "\n",
            "           0       0.61      0.52      0.56       883\n",
            "           1       0.92      0.94      0.93      5093\n",
            "\n",
            "    accuracy                           0.88      5976\n",
            "   macro avg       0.77      0.73      0.75      5976\n",
            "weighted avg       0.87      0.88      0.88      5976\n",
            "\n"
          ]
        }
      ],
      "source": [
        "from sklearn.metrics import classification_report, confusion_matrix\n",
        "\n",
        "text_features, labels = zip(*test)\n",
        "prediction = test_model.classify_many(text_features)\n",
        "\n",
        "print(classification_report(labels, prediction))"
      ]
    },
    {
      "cell_type": "code",
      "execution_count": 68,
      "metadata": {},
      "outputs": [
        {
          "data": {
            "text/html": [
              "<div>\n",
              "<style scoped>\n",
              "    .dataframe tbody tr th:only-of-type {\n",
              "        vertical-align: middle;\n",
              "    }\n",
              "\n",
              "    .dataframe tbody tr th {\n",
              "        vertical-align: top;\n",
              "    }\n",
              "\n",
              "    .dataframe thead tr th {\n",
              "        text-align: left;\n",
              "    }\n",
              "</style>\n",
              "<table border=\"1\" class=\"dataframe\">\n",
              "  <thead>\n",
              "    <tr>\n",
              "      <th></th>\n",
              "      <th></th>\n",
              "      <th colspan=\"2\" halign=\"left\">predicted</th>\n",
              "    </tr>\n",
              "    <tr>\n",
              "      <th></th>\n",
              "      <th></th>\n",
              "      <th>positive</th>\n",
              "      <th>negative</th>\n",
              "    </tr>\n",
              "  </thead>\n",
              "  <tbody>\n",
              "    <tr>\n",
              "      <th rowspan=\"2\" valign=\"top\">actual</th>\n",
              "      <th>positive</th>\n",
              "      <td>463</td>\n",
              "      <td>420</td>\n",
              "    </tr>\n",
              "    <tr>\n",
              "      <th>negative</th>\n",
              "      <td>294</td>\n",
              "      <td>4799</td>\n",
              "    </tr>\n",
              "  </tbody>\n",
              "</table>\n",
              "</div>"
            ],
            "text/plain": [
              "                predicted         \n",
              "                 positive negative\n",
              "actual positive       463      420\n",
              "       negative       294     4799"
            ]
          },
          "execution_count": 68,
          "metadata": {},
          "output_type": "execute_result"
        }
      ],
      "source": [
        "pd.DataFrame(confusion_matrix(labels, prediction),\n",
        "             index=[['actual', 'actual'], ['positive', 'negative']],\n",
        "             columns = [['predicted', 'predicted'], ['positive', 'negative']])"
      ]
    },
    {
      "cell_type": "code",
      "execution_count": 69,
      "metadata": {},
      "outputs": [],
      "source": [
        "from sklearn.linear_model import LogisticRegression\n",
        "clf = LogisticRegression(max_iter=100)\n",
        "rfc_model = SklearnClassifier(clf).train(training)"
      ]
    },
    {
      "cell_type": "code",
      "execution_count": 70,
      "metadata": {},
      "outputs": [
        {
          "name": "stdout",
          "output_type": "stream",
          "text": [
            "              precision    recall  f1-score   support\n",
            "\n",
            "           0       0.70      0.43      0.53       883\n",
            "           1       0.91      0.97      0.94      5093\n",
            "\n",
            "    accuracy                           0.89      5976\n",
            "   macro avg       0.80      0.70      0.73      5976\n",
            "weighted avg       0.88      0.89      0.88      5976\n",
            "\n"
          ]
        },
        {
          "data": {
            "text/html": [
              "<div>\n",
              "<style scoped>\n",
              "    .dataframe tbody tr th:only-of-type {\n",
              "        vertical-align: middle;\n",
              "    }\n",
              "\n",
              "    .dataframe tbody tr th {\n",
              "        vertical-align: top;\n",
              "    }\n",
              "\n",
              "    .dataframe thead tr th {\n",
              "        text-align: left;\n",
              "    }\n",
              "</style>\n",
              "<table border=\"1\" class=\"dataframe\">\n",
              "  <thead>\n",
              "    <tr>\n",
              "      <th></th>\n",
              "      <th></th>\n",
              "      <th colspan=\"2\" halign=\"left\">predicted</th>\n",
              "    </tr>\n",
              "    <tr>\n",
              "      <th></th>\n",
              "      <th></th>\n",
              "      <th>positive</th>\n",
              "      <th>negative</th>\n",
              "    </tr>\n",
              "  </thead>\n",
              "  <tbody>\n",
              "    <tr>\n",
              "      <th rowspan=\"2\" valign=\"top\">actual</th>\n",
              "      <th>positive</th>\n",
              "      <td>377</td>\n",
              "      <td>506</td>\n",
              "    </tr>\n",
              "    <tr>\n",
              "      <th>negative</th>\n",
              "      <td>161</td>\n",
              "      <td>4932</td>\n",
              "    </tr>\n",
              "  </tbody>\n",
              "</table>\n",
              "</div>"
            ],
            "text/plain": [
              "                predicted         \n",
              "                 positive negative\n",
              "actual positive       377      506\n",
              "       negative       161     4932"
            ]
          },
          "execution_count": 70,
          "metadata": {},
          "output_type": "execute_result"
        }
      ],
      "source": [
        "text_features, labels = zip(*test)\n",
        "prediction = rfc_model.classify_many(text_features)\n",
        "\n",
        "print(classification_report(labels, prediction))\n",
        "\n",
        "pd.DataFrame(confusion_matrix(labels, prediction),\n",
        "             index=[['actual', 'actual'], ['positive', 'negative']],\n",
        "             columns = [['predicted', 'predicted'], ['positive', 'negative']])"
      ]
    },
    {
      "cell_type": "code",
      "execution_count": 73,
      "metadata": {},
      "outputs": [],
      "source": [
        "import pickle\n",
        "\n",
        "with open(\n",
        "    r\"naive_bayes_classifier.pickle\", \"wb\"\n",
        ") as classifier_file:\n",
        "    pickle.dump(test_model, classifier_file)"
      ]
    },
    {
      "cell_type": "code",
      "execution_count": 74,
      "metadata": {},
      "outputs": [],
      "source": [
        "with open(r\"logistic_regression_classifier.pickle\", \"wb\") as classifier_file:\n",
        "    pickle.dump(rfc_model, classifier_file)"
      ]
    },
    {
      "cell_type": "code",
      "execution_count": 78,
      "metadata": {},
      "outputs": [
        {
          "name": "stdout",
          "output_type": "stream",
          "text": [
            "negative\n",
            "positive\n",
            "negative\n",
            "positive\n"
          ]
        }
      ],
      "source": [
        "classes = {0: 'negative', 1: 'positive'}\n",
        "n1 = test_model.classify(\n",
        "    find_features(\"Ужасная, зря потратил деньги мне не понравилась, ненавижу её\")\n",
        ")\n",
        "n2 = test_model.classify(find_features(\"Хорошая игра, мне очень понравилась, люблю её\"))\n",
        "n3 = test_model.classify(\n",
        "    find_features(\"Ужасная, зря потратил деньги мне не понравилась, ненавижу её\")\n",
        ")\n",
        "n4 = test_model.classify(find_features(\"Хорошая игра, мне очень понравилась, люблю её\"))\n",
        "for n in [n1, n2, n3, n4]:\n",
        "    print(classes[n])"
      ]
    },
    {
      "cell_type": "code",
      "execution_count": null,
      "metadata": {
        "colab": {
          "base_uri": "https://localhost:8080/"
        },
        "id": "ZQql_elV4zPy",
        "outputId": "8a5a3ba5-91b3-4e14-927a-b4300f0d27a9"
      },
      "outputs": [],
      "source": [
        "# from nltk.classify.scikitlearn import SklearnClassifier\n",
        "# from sklearn.neighbors import KNeighborsClassifier\n",
        "# from sklearn.tree import DecisionTreeClassifier\n",
        "# from sklearn.ensemble import RandomForestClassifier\n",
        "# from sklearn.linear_model import LogisticRegression, SGDClassifier\n",
        "# from sklearn.naive_bayes import MultinomialNB\n",
        "# from sklearn.svm import SVC\n",
        "# from sklearn.metrics import classification_report, confusion_matrix\n",
        "\n",
        "# names = ['K Nearest Neighbors', 'Decision Tree', 'Random Forest', 'Logistic Regression', 'SGD Classifier',\n",
        "#          'Naive Bayes', 'Support Vector Classifier']\n",
        "\n",
        "# classifiers = [\n",
        "#     KNeighborsClassifier(),\n",
        "#     DecisionTreeClassifier(),\n",
        "#     RandomForestClassifier(),\n",
        "#     LogisticRegression(),\n",
        "#     SGDClassifier(max_iter=100),\n",
        "#     MultinomialNB(),\n",
        "#     SVC(kernel='linear')\n",
        "# ]\n",
        "\n",
        "# models = zip(names, classifiers)\n",
        "\n",
        "# for name, model in models:\n",
        "#     nltk_model = SklearnClassifier(model)\n",
        "#     nltk_model.train(training)\n",
        "#     accuracy = nltk.classify.accuracy(nltk_model, test)\n",
        "#     print(\"{} model Accuracy: {}\".format(name, accuracy))"
      ]
    },
    {
      "cell_type": "code",
      "execution_count": null,
      "metadata": {
        "colab": {
          "base_uri": "https://localhost:8080/"
        },
        "id": "NMOwv5gy5DdK",
        "outputId": "4cf65d43-7b38-470e-d8eb-192d8298519f"
      },
      "outputs": [],
      "source": [
        "# from sklearn.ensemble import VotingClassifier\n",
        "\n",
        "# # Since VotingClassifier can accept list type of models\n",
        "# models = list(zip(names, classifiers))\n",
        "\n",
        "# nltk_ensemble = SklearnClassifier(VotingClassifier(estimators=models, voting='hard', n_jobs=-1))\n",
        "# nltk_ensemble.train(training)\n",
        "# accuracy = nltk.classify.accuracy(nltk_ensemble, test)\n",
        "# print(\"Voting Classifier model Accuracy: {}\".format(accuracy))"
      ]
    },
    {
      "cell_type": "code",
      "execution_count": null,
      "metadata": {
        "colab": {
          "base_uri": "https://localhost:8080/"
        },
        "id": "yRPmEz3f5ED2",
        "outputId": "e3340b01-070f-431e-e8f2-db9b17bc1f22"
      },
      "outputs": [],
      "source": [
        "# text_features, labels = zip(*test)\n",
        "# prediction = nltk_ensemble.classify_many(text_features)\n",
        "\n",
        "# print(classification_report(labels, prediction))"
      ]
    },
    {
      "cell_type": "code",
      "execution_count": null,
      "metadata": {
        "colab": {
          "base_uri": "https://localhost:8080/",
          "height": 163
        },
        "id": "UksFx0Sr5Gy4",
        "outputId": "3ba09a7c-ad52-46d4-e031-9d9cc33e8ab0"
      },
      "outputs": [],
      "source": [
        "# pd.DataFrame( confusion_matrix(labels, prediction),\n",
        "#              index=[['actual', 'actual'], ['positive', 'negative']],\n",
        "#              columns = [['predicted', 'predicted'], ['positive', 'negative']])"
      ]
    },
    {
      "cell_type": "code",
      "execution_count": null,
      "metadata": {},
      "outputs": [],
      "source": [
        "# test_model = SklearnClassifier(MultinomialNB()).train(training)\n",
        "# accuracy = nltk.classify.accuracy(test_model, test)\n",
        "# test_model.classify(find_features())"
      ]
    }
  ],
  "metadata": {
    "colab": {
      "provenance": [],
      "toc_visible": true
    },
    "kernelspec": {
      "display_name": "Python 3",
      "name": "python3"
    },
    "language_info": {
      "codemirror_mode": {
        "name": "ipython",
        "version": 3
      },
      "file_extension": ".py",
      "mimetype": "text/x-python",
      "name": "python",
      "nbconvert_exporter": "python",
      "pygments_lexer": "ipython3",
      "version": "3.12.0"
    }
  },
  "nbformat": 4,
  "nbformat_minor": 0
}
